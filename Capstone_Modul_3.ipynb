{
 "cells": [
  {
   "cell_type": "markdown",
   "metadata": {},
   "source": [
    "# **Telco Customer Churn**"
   ]
  },
  {
   "cell_type": "markdown",
   "metadata": {},
   "source": [
    "# **1. Business Problem Understanding**"
   ]
  },
  {
   "cell_type": "markdown",
   "metadata": {},
   "source": [
    "Sebuah perusahaan yang bergerak di bidang telekomunikasi hendak meningkatkan pelayanannya untuk mempertahankan customer mereka. Perusahaan ingin mengetahui customer mana yang akan meninggalkan jasa mereka (churn) melalui data-data yang dimiliki.\n",
    "\n",
    "Target :\n",
    "\n",
    "0 : Tidak Churn\n",
    "\n",
    "1 : Churn"
   ]
  },
  {
   "cell_type": "markdown",
   "metadata": {},
   "source": [
    "**Problem Statement :**\n",
    "\n",
    "Biaya yang di alokasikan untuk marketing bukanlah sedikit. Biaya marketing ini tidak hanya untuk mendapatkan customer baru, namun juga mempertahankan customer yang sudah ada. Agar alokasi biaya lebih baik maka perusahaan akan lebih baik ketika dapat mengalokasikan biaya marketingnya pada customer yang tepat.<br>\n",
    "\n",
    "Jika biaya dialokasikan untuk mempertahankan customer agar tidak churn, namun ternyata customer tersebut churn, maka biaya tersebut akan sia-sia.<br>\n",
    "Jika tidak mengalokasikan biaya marketing untuk customer yang akan churn, dan customer tersebut churn, maka biaya marketing diawal untuk mendapatkan customer juga akan sia-sia.\n",
    "\n",
    "**Goals :**\n",
    "\n",
    "Mampu memprediksi customer yang akan churn atau tidak, serta mampu mengetahui faktor apa saja yang mempengaruhi seorang customer churn atau tidak.\n",
    "\n",
    "**Analytic Approach :**\n",
    "\n",
    "Kita akan melakukan analisa untuk menemukan pola kecenderungan terhadap customer yang akan churn dan yang tidak churn.\n",
    "Kemudian akan dibangun model klasifikasi yang akan membantu perusahaan memprediksi probabilitas seorang kandidat yang akan atau tidak churn.\n",
    "\n",
    "**Metric Evaluation :**\n",
    "\n",
    "Type 1 error : False Positive  \n",
    "Konsekuensi: biaya marketing yang sia-sia.\n",
    "\n",
    "Type 2 error : False Negative  \n",
    "Konsekuensi: kehilangan customer.\n",
    "\n",
    "Berdasarkan konsekuensinya, False Negative memiliki biaya yang lebih tinggi dibandingkan dengan False Positive. <br>\n",
    "Karena biaya marketing yang dikeluarkan untuk mendapatkan customer baru cenderung lebih besar. <br>\n",
    "Sehingga ketika kehilangan customer, biaya marketing untuk mendapatkan customer tersebut sama dengan sia-sia."
   ]
  },
  {
   "cell_type": "markdown",
   "metadata": {},
   "source": [
    "# **2. Library**"
   ]
  },
  {
   "cell_type": "code",
   "execution_count": 520,
   "metadata": {},
   "outputs": [],
   "source": [
    "import pandas as pd \n",
    "import numpy as np \n",
    "\n",
    "# Visualization\n",
    "import matplotlib.pyplot as plt \n",
    "import seaborn as sns \n",
    "\n",
    "# Statistik\n",
    "from scipy.stats import normaltest,kruskal,chi2_contingency\n",
    "\n",
    "# Model Selection\n",
    "from sklearn.linear_model import LogisticRegression\n",
    "from sklearn.neighbors import KNeighborsClassifier\n",
    "from sklearn.tree import DecisionTreeClassifier\n",
    "from sklearn.ensemble import RandomForestClassifier\n",
    "from xgboost import XGBClassifier\n",
    "from sklearn.ensemble import GradientBoostingClassifier, AdaBoostClassifier\n",
    "from sklearn.model_selection import GridSearchCV,StratifiedKFold,train_test_split, cross_val_score\n",
    "from sklearn.metrics import classification_report, confusion_matrix\n",
    "from sklearn.metrics import classification_report, f1_score\n",
    "from sklearn.metrics import plot_roc_curve, plot_precision_recall_curve, confusion_matrix, recall_score, fbeta_score, make_scorer\n",
    "from sklearn.model_selection import train_test_split\n",
    "from sklearn.preprocessing import MinMaxScaler, StandardScaler, RobustScaler, PolynomialFeatures\n",
    "\n",
    "# Feature Selection\n",
    "from statsmodels.stats.outliers_influence import variance_inflation_factor\n",
    "\n",
    "# Feature Engineering\n",
    "import category_encoders as ce\n",
    "from sklearn.pipeline import Pipeline\n",
    "from sklearn.preprocessing import OneHotEncoder\n",
    "from sklearn.compose import ColumnTransformer\n",
    "\n",
    "# Imbalance Dataset\n",
    "from imblearn.pipeline import Pipeline\n",
    "from imblearn.over_sampling import RandomOverSampler, SMOTE\n",
    "from imblearn.under_sampling import RandomUnderSampler, NearMiss\n",
    "from sklearn.model_selection import GridSearchCV, RandomizedSearchCV\n",
    "\n",
    "# Set max columns & rows\n",
    "pd.set_option('display.max_columns', None)\n",
    "pd.set_option('display.max_rows', None)\n",
    "pd.set_option('display.max_colwidth', None)\n",
    "\n",
    "# Ignore Warning\n",
    "import warnings\n",
    "warnings.filterwarnings('ignore')"
   ]
  },
  {
   "cell_type": "markdown",
   "metadata": {},
   "source": [
    "# **3. Data Understanding**"
   ]
  },
  {
   "cell_type": "code",
   "execution_count": 521,
   "metadata": {},
   "outputs": [
    {
     "data": {
      "text/html": [
       "<div>\n",
       "<style scoped>\n",
       "    .dataframe tbody tr th:only-of-type {\n",
       "        vertical-align: middle;\n",
       "    }\n",
       "\n",
       "    .dataframe tbody tr th {\n",
       "        vertical-align: top;\n",
       "    }\n",
       "\n",
       "    .dataframe thead th {\n",
       "        text-align: right;\n",
       "    }\n",
       "</style>\n",
       "<table border=\"1\" class=\"dataframe\">\n",
       "  <thead>\n",
       "    <tr style=\"text-align: right;\">\n",
       "      <th></th>\n",
       "      <th>Atribut</th>\n",
       "      <th>Keterangan</th>\n",
       "    </tr>\n",
       "  </thead>\n",
       "  <tbody>\n",
       "    <tr>\n",
       "      <th>0</th>\n",
       "      <td>Dependents</td>\n",
       "      <td>Apakah customer memiliki tanggungan atau tidak (Yes or no)</td>\n",
       "    </tr>\n",
       "    <tr>\n",
       "      <th>1</th>\n",
       "      <td>Tenure</td>\n",
       "      <td>Lamanya customer berlangganan (xx bulan)</td>\n",
       "    </tr>\n",
       "    <tr>\n",
       "      <th>2</th>\n",
       "      <td>OnlineSecurity</td>\n",
       "      <td>Apakah customer memiliki online security atau tidak (Yes, no, no internet service)</td>\n",
       "    </tr>\n",
       "    <tr>\n",
       "      <th>3</th>\n",
       "      <td>OnlineBackup</td>\n",
       "      <td>Apakah customer memiliki online backup atau tidak (Yes, no, no internet service)</td>\n",
       "    </tr>\n",
       "    <tr>\n",
       "      <th>4</th>\n",
       "      <td>InternetService</td>\n",
       "      <td>Internet provide yang digunakan oleh customer (DSL, Fiber optic, No)</td>\n",
       "    </tr>\n",
       "    <tr>\n",
       "      <th>5</th>\n",
       "      <td>DeviceProtection</td>\n",
       "      <td>Apakah customer memiliki device protection atau tidak (Yes, No, No internet service)</td>\n",
       "    </tr>\n",
       "    <tr>\n",
       "      <th>6</th>\n",
       "      <td>TechSupport</td>\n",
       "      <td>Apakah customer memilki tech support atau tidak (Yes, No, No internet service)</td>\n",
       "    </tr>\n",
       "    <tr>\n",
       "      <th>7</th>\n",
       "      <td>Contract</td>\n",
       "      <td>Jangka waktu kontrak customer (Month-to-month, One year, Two year)</td>\n",
       "    </tr>\n",
       "    <tr>\n",
       "      <th>8</th>\n",
       "      <td>PaperlessBilling</td>\n",
       "      <td>Apakah customer memiliki paperless billing (Yes or no)</td>\n",
       "    </tr>\n",
       "    <tr>\n",
       "      <th>9</th>\n",
       "      <td>MonthlyCharges</td>\n",
       "      <td>Jumlah yang dibebankan kepada customer setiap bulan ($)</td>\n",
       "    </tr>\n",
       "    <tr>\n",
       "      <th>10</th>\n",
       "      <td>Churn</td>\n",
       "      <td>Apakah customer meninggalkan perusahaan atau tidak (Yes or no)</td>\n",
       "    </tr>\n",
       "  </tbody>\n",
       "</table>\n",
       "</div>"
      ],
      "text/plain": [
       "             Atribut  \\\n",
       "0         Dependents   \n",
       "1             Tenure   \n",
       "2     OnlineSecurity   \n",
       "3       OnlineBackup   \n",
       "4    InternetService   \n",
       "5   DeviceProtection   \n",
       "6        TechSupport   \n",
       "7           Contract   \n",
       "8   PaperlessBilling   \n",
       "9     MonthlyCharges   \n",
       "10             Churn   \n",
       "\n",
       "                                                                              Keterangan  \n",
       "0                             Apakah customer memiliki tanggungan atau tidak (Yes or no)  \n",
       "1                                               Lamanya customer berlangganan (xx bulan)  \n",
       "2     Apakah customer memiliki online security atau tidak (Yes, no, no internet service)  \n",
       "3       Apakah customer memiliki online backup atau tidak (Yes, no, no internet service)  \n",
       "4                   Internet provide yang digunakan oleh customer (DSL, Fiber optic, No)  \n",
       "5   Apakah customer memiliki device protection atau tidak (Yes, No, No internet service)  \n",
       "6         Apakah customer memilki tech support atau tidak (Yes, No, No internet service)  \n",
       "7                     Jangka waktu kontrak customer (Month-to-month, One year, Two year)  \n",
       "8                                 Apakah customer memiliki paperless billing (Yes or no)  \n",
       "9                                Jumlah yang dibebankan kepada customer setiap bulan ($)  \n",
       "10                        Apakah customer meninggalkan perusahaan atau tidak (Yes or no)  "
      ]
     },
     "execution_count": 521,
     "metadata": {},
     "output_type": "execute_result"
    }
   ],
   "source": [
    "# A. Keterangan Atribut\n",
    "# _____________________________________________________________________________________________________________________\n",
    "\n",
    "keterangan_atribut = pd.DataFrame({   \n",
    "    'Atribut'       : [ 'Dependents','Tenure','OnlineSecurity','OnlineBackup',\n",
    "                        'InternetService','DeviceProtection','TechSupport','Contract','PaperlessBilling',\n",
    "                        'MonthlyCharges','Churn'],\n",
    "    'Keterangan'    : [ 'Apakah customer memiliki tanggungan atau tidak (Yes or no)',\n",
    "                        'Lamanya customer berlangganan (xx bulan)',\n",
    "                        'Apakah customer memiliki online security atau tidak (Yes, no, no internet service)',\n",
    "                        'Apakah customer memiliki online backup atau tidak (Yes, no, no internet service)',\n",
    "                        'Internet provide yang digunakan oleh customer (DSL, Fiber optic, No)',\n",
    "                        'Apakah customer memiliki device protection atau tidak (Yes, No, No internet service)',\n",
    "                        'Apakah customer memilki tech support atau tidak (Yes, No, No internet service)',\n",
    "                        'Jangka waktu kontrak customer (Month-to-month, One year, Two year)',\n",
    "                        'Apakah customer memiliki paperless billing (Yes or no)',\n",
    "                        'Jumlah yang dibebankan kepada customer setiap bulan ($)',\n",
    "                        'Apakah customer meninggalkan perusahaan atau tidak (Yes or no)']\n",
    "})\n",
    "keterangan_atribut"
   ]
  },
  {
   "cell_type": "markdown",
   "metadata": {},
   "source": [
    "- Customers who left within the last month — Churn.\n",
    "- Services that each customer has signed up for — online security, online backup, internet service, device protection, tech support\n",
    "- Customer account information — tenure, contract, paperless billing, monthly charges\n",
    "- Demographic info about customers — dependents"
   ]
  },
  {
   "cell_type": "code",
   "execution_count": 522,
   "metadata": {},
   "outputs": [
    {
     "data": {
      "text/html": [
       "<div>\n",
       "<style scoped>\n",
       "    .dataframe tbody tr th:only-of-type {\n",
       "        vertical-align: middle;\n",
       "    }\n",
       "\n",
       "    .dataframe tbody tr th {\n",
       "        vertical-align: top;\n",
       "    }\n",
       "\n",
       "    .dataframe thead th {\n",
       "        text-align: right;\n",
       "    }\n",
       "</style>\n",
       "<table border=\"1\" class=\"dataframe\">\n",
       "  <thead>\n",
       "    <tr style=\"text-align: right;\">\n",
       "      <th></th>\n",
       "      <th>Dependents</th>\n",
       "      <th>tenure</th>\n",
       "      <th>OnlineSecurity</th>\n",
       "      <th>OnlineBackup</th>\n",
       "      <th>InternetService</th>\n",
       "      <th>DeviceProtection</th>\n",
       "      <th>TechSupport</th>\n",
       "      <th>Contract</th>\n",
       "      <th>PaperlessBilling</th>\n",
       "      <th>MonthlyCharges</th>\n",
       "      <th>Churn</th>\n",
       "    </tr>\n",
       "  </thead>\n",
       "  <tbody>\n",
       "    <tr>\n",
       "      <th>0</th>\n",
       "      <td>Yes</td>\n",
       "      <td>9</td>\n",
       "      <td>No</td>\n",
       "      <td>No</td>\n",
       "      <td>DSL</td>\n",
       "      <td>Yes</td>\n",
       "      <td>Yes</td>\n",
       "      <td>Month-to-month</td>\n",
       "      <td>Yes</td>\n",
       "      <td>72.90</td>\n",
       "      <td>Yes</td>\n",
       "    </tr>\n",
       "    <tr>\n",
       "      <th>1</th>\n",
       "      <td>No</td>\n",
       "      <td>14</td>\n",
       "      <td>No</td>\n",
       "      <td>Yes</td>\n",
       "      <td>Fiber optic</td>\n",
       "      <td>Yes</td>\n",
       "      <td>No</td>\n",
       "      <td>Month-to-month</td>\n",
       "      <td>Yes</td>\n",
       "      <td>82.65</td>\n",
       "      <td>No</td>\n",
       "    </tr>\n",
       "  </tbody>\n",
       "</table>\n",
       "</div>"
      ],
      "text/plain": [
       "  Dependents  tenure OnlineSecurity OnlineBackup InternetService  \\\n",
       "0        Yes       9             No           No             DSL   \n",
       "1         No      14             No          Yes     Fiber optic   \n",
       "\n",
       "  DeviceProtection TechSupport        Contract PaperlessBilling  \\\n",
       "0              Yes         Yes  Month-to-month              Yes   \n",
       "1              Yes          No  Month-to-month              Yes   \n",
       "\n",
       "   MonthlyCharges Churn  \n",
       "0           72.90   Yes  \n",
       "1           82.65    No  "
      ]
     },
     "execution_count": 522,
     "metadata": {},
     "output_type": "execute_result"
    }
   ],
   "source": [
    "# B. Load Dataset\n",
    "# _____________________________________________________________________________________________________________________\n",
    "\n",
    "df = pd.read_csv('data_telco_customer_churn.csv')\n",
    "df.head(2)"
   ]
  },
  {
   "cell_type": "markdown",
   "metadata": {},
   "source": [
    "# **4. Data Cleaning**"
   ]
  },
  {
   "cell_type": "markdown",
   "metadata": {},
   "source": [
    "Untuk melakukan data cleaning, pertama-tama kita akan mencari tahu terlebih dahulu informasi mengenai dataset yang kita miliki."
   ]
  },
  {
   "cell_type": "code",
   "execution_count": 523,
   "metadata": {},
   "outputs": [
    {
     "data": {
      "text/plain": [
       "(4930, 11)"
      ]
     },
     "execution_count": 523,
     "metadata": {},
     "output_type": "execute_result"
    }
   ],
   "source": [
    "# A. Dataset Shape\n",
    "# _____________________________________________________________________________________________________________________\n",
    "\n",
    "df.shape"
   ]
  },
  {
   "cell_type": "markdown",
   "metadata": {},
   "source": [
    "Berdasarkan keterangan diatas, dataset kita memiliki **11 kolom dan 4930 baris**."
   ]
  },
  {
   "cell_type": "code",
   "execution_count": 524,
   "metadata": {},
   "outputs": [
    {
     "data": {
      "text/html": [
       "<div>\n",
       "<style scoped>\n",
       "    .dataframe tbody tr th:only-of-type {\n",
       "        vertical-align: middle;\n",
       "    }\n",
       "\n",
       "    .dataframe tbody tr th {\n",
       "        vertical-align: top;\n",
       "    }\n",
       "\n",
       "    .dataframe thead th {\n",
       "        text-align: right;\n",
       "    }\n",
       "</style>\n",
       "<table border=\"1\" class=\"dataframe\">\n",
       "  <thead>\n",
       "    <tr style=\"text-align: right;\">\n",
       "      <th></th>\n",
       "      <th>Atribut</th>\n",
       "      <th>Tipe_Data</th>\n",
       "      <th>Jumlah_Data</th>\n",
       "      <th>Jumlah_Null</th>\n",
       "      <th>Null_%</th>\n",
       "      <th>Total_Unik</th>\n",
       "      <th>Nilai_Unik</th>\n",
       "    </tr>\n",
       "  </thead>\n",
       "  <tbody>\n",
       "    <tr>\n",
       "      <th>0</th>\n",
       "      <td>Dependents</td>\n",
       "      <td>object</td>\n",
       "      <td>4930</td>\n",
       "      <td>0</td>\n",
       "      <td>0.0</td>\n",
       "      <td>2</td>\n",
       "      <td>[Yes, No]</td>\n",
       "    </tr>\n",
       "    <tr>\n",
       "      <th>1</th>\n",
       "      <td>tenure</td>\n",
       "      <td>int64</td>\n",
       "      <td>4930</td>\n",
       "      <td>0</td>\n",
       "      <td>0.0</td>\n",
       "      <td>73</td>\n",
       "      <td>[9, 14, 64, 72, 3, 40, 17, 11, 8, 47, 18, 5, 1, 48, 13, 58, 7, 4, 70, 34, 31, 37, 15, 71, 10, 43, 22, 33, 69, 54, 63, 55, 66, 56, 32, 26, 24, 2, 51, 23, 49, 28, 36, 45, 42, 6, 61, 59, 67, 65, 0, 16, 52, 41, 25, 62, 20, 50, 30, 60, 19, 35, 57, 27, 44, 53, 12, 46, 39, 29, 38, 68, 21]</td>\n",
       "    </tr>\n",
       "    <tr>\n",
       "      <th>2</th>\n",
       "      <td>OnlineSecurity</td>\n",
       "      <td>object</td>\n",
       "      <td>4930</td>\n",
       "      <td>0</td>\n",
       "      <td>0.0</td>\n",
       "      <td>3</td>\n",
       "      <td>[No, Yes, No internet service]</td>\n",
       "    </tr>\n",
       "    <tr>\n",
       "      <th>3</th>\n",
       "      <td>OnlineBackup</td>\n",
       "      <td>object</td>\n",
       "      <td>4930</td>\n",
       "      <td>0</td>\n",
       "      <td>0.0</td>\n",
       "      <td>3</td>\n",
       "      <td>[No, Yes, No internet service]</td>\n",
       "    </tr>\n",
       "    <tr>\n",
       "      <th>4</th>\n",
       "      <td>InternetService</td>\n",
       "      <td>object</td>\n",
       "      <td>4930</td>\n",
       "      <td>0</td>\n",
       "      <td>0.0</td>\n",
       "      <td>3</td>\n",
       "      <td>[DSL, Fiber optic, No]</td>\n",
       "    </tr>\n",
       "    <tr>\n",
       "      <th>5</th>\n",
       "      <td>DeviceProtection</td>\n",
       "      <td>object</td>\n",
       "      <td>4930</td>\n",
       "      <td>0</td>\n",
       "      <td>0.0</td>\n",
       "      <td>3</td>\n",
       "      <td>[Yes, No internet service, No]</td>\n",
       "    </tr>\n",
       "    <tr>\n",
       "      <th>6</th>\n",
       "      <td>TechSupport</td>\n",
       "      <td>object</td>\n",
       "      <td>4930</td>\n",
       "      <td>0</td>\n",
       "      <td>0.0</td>\n",
       "      <td>3</td>\n",
       "      <td>[Yes, No, No internet service]</td>\n",
       "    </tr>\n",
       "    <tr>\n",
       "      <th>7</th>\n",
       "      <td>Contract</td>\n",
       "      <td>object</td>\n",
       "      <td>4930</td>\n",
       "      <td>0</td>\n",
       "      <td>0.0</td>\n",
       "      <td>3</td>\n",
       "      <td>[Month-to-month, Two year, One year]</td>\n",
       "    </tr>\n",
       "    <tr>\n",
       "      <th>8</th>\n",
       "      <td>PaperlessBilling</td>\n",
       "      <td>object</td>\n",
       "      <td>4930</td>\n",
       "      <td>0</td>\n",
       "      <td>0.0</td>\n",
       "      <td>2</td>\n",
       "      <td>[Yes, No]</td>\n",
       "    </tr>\n",
       "    <tr>\n",
       "      <th>9</th>\n",
       "      <td>MonthlyCharges</td>\n",
       "      <td>float64</td>\n",
       "      <td>4930</td>\n",
       "      <td>0</td>\n",
       "      <td>0.0</td>\n",
       "      <td>1422</td>\n",
       "      <td>[72.9, 82.65, 47.85, 69.65, 23.6, 74.55, 19.7, 44.05, 73.5, 40.3, 33.6, 96.25, 70.45, 30.55, 44.8, 20.0, 81.5, 94.35, 35.3, 50.7, 106.05, 56.3, 20.65, 98.9, 40.2, 81.2, 19.45, 116.1, 55.2, 94.45, 84.85, 19.6, 79.0, 74.7, 30.4, 55.8, 104.5, 70.55, 55.25, 96.65, 88.85, 109.25, 104.75, 74.4, 79.4, 74.1, 73.05, 94.6, 70.35, 79.6, 79.5, 90.7, 81.0, 87.75, 118.65, 24.8, 105.25, 57.8, 19.0, 25.7, 54.2, 44.85, 19.95, 81.05, 20.35, 85.25, 67.45, 100.3, 20.95, 105.2, 26.35, 82.15, 102.6, 106.15, 23.95, 115.8, 66.85, 90.35, 89.85, 73.35, 104.45, 35.45, 88.4, 70.5, 25.1, 39.0, 83.25, 74.3, 54.3, 50.45, 86.0, 19.55, 103.5, 91.7, 64.85, 99.65, 68.75, 106.25, 75.9, 94.4, ...]</td>\n",
       "    </tr>\n",
       "    <tr>\n",
       "      <th>10</th>\n",
       "      <td>Churn</td>\n",
       "      <td>object</td>\n",
       "      <td>4930</td>\n",
       "      <td>0</td>\n",
       "      <td>0.0</td>\n",
       "      <td>2</td>\n",
       "      <td>[Yes, No]</td>\n",
       "    </tr>\n",
       "  </tbody>\n",
       "</table>\n",
       "</div>"
      ],
      "text/plain": [
       "             Atribut Tipe_Data  Jumlah_Data  Jumlah_Null  Null_%  Total_Unik  \\\n",
       "0         Dependents    object         4930            0     0.0           2   \n",
       "1             tenure     int64         4930            0     0.0          73   \n",
       "2     OnlineSecurity    object         4930            0     0.0           3   \n",
       "3       OnlineBackup    object         4930            0     0.0           3   \n",
       "4    InternetService    object         4930            0     0.0           3   \n",
       "5   DeviceProtection    object         4930            0     0.0           3   \n",
       "6        TechSupport    object         4930            0     0.0           3   \n",
       "7           Contract    object         4930            0     0.0           3   \n",
       "8   PaperlessBilling    object         4930            0     0.0           2   \n",
       "9     MonthlyCharges   float64         4930            0     0.0        1422   \n",
       "10             Churn    object         4930            0     0.0           2   \n",
       "\n",
       "                                                                                                                                                                                                                                                                                                                                                                                                                                                                                                                                                                                                                                                                                       Nilai_Unik  \n",
       "0                                                                                                                                                                                                                                                                                                                                                                                                                                                                                                                                                                                                                                                                                       [Yes, No]  \n",
       "1                                                                                                                                                                                                                                                                                                                                                                                                      [9, 14, 64, 72, 3, 40, 17, 11, 8, 47, 18, 5, 1, 48, 13, 58, 7, 4, 70, 34, 31, 37, 15, 71, 10, 43, 22, 33, 69, 54, 63, 55, 66, 56, 32, 26, 24, 2, 51, 23, 49, 28, 36, 45, 42, 6, 61, 59, 67, 65, 0, 16, 52, 41, 25, 62, 20, 50, 30, 60, 19, 35, 57, 27, 44, 53, 12, 46, 39, 29, 38, 68, 21]  \n",
       "2                                                                                                                                                                                                                                                                                                                                                                                                                                                                                                                                                                                                                                                                  [No, Yes, No internet service]  \n",
       "3                                                                                                                                                                                                                                                                                                                                                                                                                                                                                                                                                                                                                                                                  [No, Yes, No internet service]  \n",
       "4                                                                                                                                                                                                                                                                                                                                                                                                                                                                                                                                                                                                                                                                          [DSL, Fiber optic, No]  \n",
       "5                                                                                                                                                                                                                                                                                                                                                                                                                                                                                                                                                                                                                                                                  [Yes, No internet service, No]  \n",
       "6                                                                                                                                                                                                                                                                                                                                                                                                                                                                                                                                                                                                                                                                  [Yes, No, No internet service]  \n",
       "7                                                                                                                                                                                                                                                                                                                                                                                                                                                                                                                                                                                                                                                            [Month-to-month, Two year, One year]  \n",
       "8                                                                                                                                                                                                                                                                                                                                                                                                                                                                                                                                                                                                                                                                                       [Yes, No]  \n",
       "9   [72.9, 82.65, 47.85, 69.65, 23.6, 74.55, 19.7, 44.05, 73.5, 40.3, 33.6, 96.25, 70.45, 30.55, 44.8, 20.0, 81.5, 94.35, 35.3, 50.7, 106.05, 56.3, 20.65, 98.9, 40.2, 81.2, 19.45, 116.1, 55.2, 94.45, 84.85, 19.6, 79.0, 74.7, 30.4, 55.8, 104.5, 70.55, 55.25, 96.65, 88.85, 109.25, 104.75, 74.4, 79.4, 74.1, 73.05, 94.6, 70.35, 79.6, 79.5, 90.7, 81.0, 87.75, 118.65, 24.8, 105.25, 57.8, 19.0, 25.7, 54.2, 44.85, 19.95, 81.05, 20.35, 85.25, 67.45, 100.3, 20.95, 105.2, 26.35, 82.15, 102.6, 106.15, 23.95, 115.8, 66.85, 90.35, 89.85, 73.35, 104.45, 35.45, 88.4, 70.5, 25.1, 39.0, 83.25, 74.3, 54.3, 50.45, 86.0, 19.55, 103.5, 91.7, 64.85, 99.65, 68.75, 106.25, 75.9, 94.4, ...]  \n",
       "10                                                                                                                                                                                                                                                                                                                                                                                                                                                                                                                                                                                                                                                                                      [Yes, No]  "
      ]
     },
     "execution_count": 524,
     "metadata": {},
     "output_type": "execute_result"
    }
   ],
   "source": [
    "# B. Dataset Information\n",
    "# _____________________________________________________________________________________________________________________\n",
    "\n",
    "dataframe_info = []\n",
    "for col in df.columns :\n",
    "    dataframe_info.append([ col, df[col].dtype, df.count().loc[col],\n",
    "                            df[col].isna().sum(), \n",
    "                            round((df[col].isna().sum()/len(df[col])) * 100,2),\n",
    "                            df[col].nunique(), \n",
    "                            list(df[col].unique())]);\n",
    "\n",
    "df_info = pd.DataFrame(columns=['Atribut', 'Tipe_Data', 'Jumlah_Data', 'Jumlah_Null', 'Null_%', 'Total_Unik', 'Nilai_Unik'],\n",
    "                     data=dataframe_info)\n",
    "df_info"
   ]
  },
  {
   "cell_type": "markdown",
   "metadata": {},
   "source": [
    "Melalui keterangan pada df_info dan df_shape, jumlah data setiap kolom adalah 4930.<br>\n",
    "Sehingga dapat disimpulkan **tidak terdapat missing values** didalam dataset.<br>\n",
    "Selanjutnya kita akan mencari apakah didalam dataset terdapat nilai duplikat atau tidak."
   ]
  },
  {
   "cell_type": "code",
   "execution_count": 525,
   "metadata": {},
   "outputs": [
    {
     "data": {
      "text/plain": [
       "77"
      ]
     },
     "execution_count": 525,
     "metadata": {},
     "output_type": "execute_result"
    }
   ],
   "source": [
    "# C. Duplicate Values\n",
    "# _____________________________________________________________________________________________________________________\n",
    "\n",
    "df.duplicated().sum()"
   ]
  },
  {
   "cell_type": "markdown",
   "metadata": {},
   "source": [
    "Berdasarkan keterangan diatas, terdapat **77 nilai duplikat** didalam dataset.<br>\n",
    "Sehingga, nilai-nilai duplikat tersebut akan dihapus."
   ]
  },
  {
   "cell_type": "code",
   "execution_count": 526,
   "metadata": {},
   "outputs": [],
   "source": [
    "# D. Drop Duplicate Values\n",
    "# _____________________________________________________________________________________________________________________\n",
    "\n",
    "df = df.drop_duplicates(keep='first')"
   ]
  },
  {
   "cell_type": "markdown",
   "metadata": {},
   "source": [
    "Setelah data duplikat terhapus, selanjutnya kita akan mencari tahu kembali ukuran **dimensi dari dataset baru kita**."
   ]
  },
  {
   "cell_type": "code",
   "execution_count": 527,
   "metadata": {},
   "outputs": [
    {
     "data": {
      "text/plain": [
       "(4853, 11)"
      ]
     },
     "execution_count": 527,
     "metadata": {},
     "output_type": "execute_result"
    }
   ],
   "source": [
    "# E. New Dataset Shape\n",
    "# _____________________________________________________________________________________________________________________\n",
    "\n",
    "df.shape"
   ]
  },
  {
   "cell_type": "markdown",
   "metadata": {},
   "source": [
    "Melalui keterangan diatas, dataset yang baru memiliki **11 kolom 4853 baris**."
   ]
  },
  {
   "cell_type": "code",
   "execution_count": 528,
   "metadata": {},
   "outputs": [
    {
     "data": {
      "text/html": [
       "<div>\n",
       "<style scoped>\n",
       "    .dataframe tbody tr th:only-of-type {\n",
       "        vertical-align: middle;\n",
       "    }\n",
       "\n",
       "    .dataframe tbody tr th {\n",
       "        vertical-align: top;\n",
       "    }\n",
       "\n",
       "    .dataframe thead th {\n",
       "        text-align: right;\n",
       "    }\n",
       "</style>\n",
       "<table border=\"1\" class=\"dataframe\">\n",
       "  <thead>\n",
       "    <tr style=\"text-align: right;\">\n",
       "      <th></th>\n",
       "      <th>Churn</th>\n",
       "      <th>%</th>\n",
       "    </tr>\n",
       "  </thead>\n",
       "  <tbody>\n",
       "    <tr>\n",
       "      <th>0</th>\n",
       "      <td>No</td>\n",
       "      <td>0.734597</td>\n",
       "    </tr>\n",
       "    <tr>\n",
       "      <th>1</th>\n",
       "      <td>Yes</td>\n",
       "      <td>0.265403</td>\n",
       "    </tr>\n",
       "  </tbody>\n",
       "</table>\n",
       "</div>"
      ],
      "text/plain": [
       "  Churn         %\n",
       "0    No  0.734597\n",
       "1   Yes  0.265403"
      ]
     },
     "execution_count": 528,
     "metadata": {},
     "output_type": "execute_result"
    }
   ],
   "source": [
    "# F. Target (Churn Column) Value Counts\n",
    "# _____________________________________________________________________________________________________________________\n",
    "\n",
    "persentase_data_churn = pd.DataFrame(df['Churn'].value_counts()/len (df)).reset_index().rename(columns={'index':'Churn','Churn':'%'})\n",
    "jumlah_data_churn = pd.DataFrame(df['Churn'].value_counts()).reset_index().rename(columns={'index':'Churn','Churn':'Jumlah'})\n",
    "persentase_data_churn"
   ]
  },
  {
   "cell_type": "code",
   "execution_count": 529,
   "metadata": {},
   "outputs": [
    {
     "data": {
      "text/html": [
       "<div>\n",
       "<style scoped>\n",
       "    .dataframe tbody tr th:only-of-type {\n",
       "        vertical-align: middle;\n",
       "    }\n",
       "\n",
       "    .dataframe tbody tr th {\n",
       "        vertical-align: top;\n",
       "    }\n",
       "\n",
       "    .dataframe thead th {\n",
       "        text-align: right;\n",
       "    }\n",
       "</style>\n",
       "<table border=\"1\" class=\"dataframe\">\n",
       "  <thead>\n",
       "    <tr style=\"text-align: right;\">\n",
       "      <th></th>\n",
       "      <th>Churn</th>\n",
       "      <th>Jumlah</th>\n",
       "    </tr>\n",
       "  </thead>\n",
       "  <tbody>\n",
       "    <tr>\n",
       "      <th>0</th>\n",
       "      <td>No</td>\n",
       "      <td>3565</td>\n",
       "    </tr>\n",
       "    <tr>\n",
       "      <th>1</th>\n",
       "      <td>Yes</td>\n",
       "      <td>1288</td>\n",
       "    </tr>\n",
       "  </tbody>\n",
       "</table>\n",
       "</div>"
      ],
      "text/plain": [
       "  Churn  Jumlah\n",
       "0    No    3565\n",
       "1   Yes    1288"
      ]
     },
     "execution_count": 529,
     "metadata": {},
     "output_type": "execute_result"
    }
   ],
   "source": [
    "jumlah_data_churn"
   ]
  },
  {
   "cell_type": "markdown",
   "metadata": {},
   "source": [
    "Melalui dataframe diatas, dapat dilihat bahwa data target kita yaitu **'Churn'** tergolong kedalam **'Mild Imbalance'**.<br>\n",
    "Selanjutnya kita akan melakukan eksplorasi untuk setiap tipe data."
   ]
  },
  {
   "cell_type": "markdown",
   "metadata": {},
   "source": [
    "## **4.A Data Numerikal**"
   ]
  },
  {
   "cell_type": "code",
   "execution_count": 530,
   "metadata": {},
   "outputs": [
    {
     "data": {
      "text/html": [
       "<div>\n",
       "<style scoped>\n",
       "    .dataframe tbody tr th:only-of-type {\n",
       "        vertical-align: middle;\n",
       "    }\n",
       "\n",
       "    .dataframe tbody tr th {\n",
       "        vertical-align: top;\n",
       "    }\n",
       "\n",
       "    .dataframe thead th {\n",
       "        text-align: right;\n",
       "    }\n",
       "</style>\n",
       "<table border=\"1\" class=\"dataframe\">\n",
       "  <thead>\n",
       "    <tr style=\"text-align: right;\">\n",
       "      <th></th>\n",
       "      <th>tenure</th>\n",
       "      <th>MonthlyCharges</th>\n",
       "    </tr>\n",
       "  </thead>\n",
       "  <tbody>\n",
       "    <tr>\n",
       "      <th>count</th>\n",
       "      <td>4853.000000</td>\n",
       "      <td>4853.000000</td>\n",
       "    </tr>\n",
       "    <tr>\n",
       "      <th>mean</th>\n",
       "      <td>32.679992</td>\n",
       "      <td>65.321543</td>\n",
       "    </tr>\n",
       "    <tr>\n",
       "      <th>std</th>\n",
       "      <td>24.395554</td>\n",
       "      <td>29.783655</td>\n",
       "    </tr>\n",
       "    <tr>\n",
       "      <th>min</th>\n",
       "      <td>0.000000</td>\n",
       "      <td>18.800000</td>\n",
       "    </tr>\n",
       "    <tr>\n",
       "      <th>25%</th>\n",
       "      <td>9.000000</td>\n",
       "      <td>40.050000</td>\n",
       "    </tr>\n",
       "    <tr>\n",
       "      <th>50%</th>\n",
       "      <td>29.000000</td>\n",
       "      <td>70.600000</td>\n",
       "    </tr>\n",
       "    <tr>\n",
       "      <th>75%</th>\n",
       "      <td>56.000000</td>\n",
       "      <td>90.050000</td>\n",
       "    </tr>\n",
       "    <tr>\n",
       "      <th>max</th>\n",
       "      <td>72.000000</td>\n",
       "      <td>118.650000</td>\n",
       "    </tr>\n",
       "  </tbody>\n",
       "</table>\n",
       "</div>"
      ],
      "text/plain": [
       "            tenure  MonthlyCharges\n",
       "count  4853.000000     4853.000000\n",
       "mean     32.679992       65.321543\n",
       "std      24.395554       29.783655\n",
       "min       0.000000       18.800000\n",
       "25%       9.000000       40.050000\n",
       "50%      29.000000       70.600000\n",
       "75%      56.000000       90.050000\n",
       "max      72.000000      118.650000"
      ]
     },
     "execution_count": 530,
     "metadata": {},
     "output_type": "execute_result"
    }
   ],
   "source": [
    "# A. Numerical Data Description\n",
    "# _____________________________________________________________________________________________________________________\n",
    "\n",
    "df.describe()[['tenure','MonthlyCharges']]"
   ]
  },
  {
   "cell_type": "code",
   "execution_count": 531,
   "metadata": {},
   "outputs": [
    {
     "data": {
      "image/png": "[encoded data removed]",
      "text/plain": [
       "<Figure size 1440x360 with 2 Axes>"
      ]
     },
     "metadata": {},
     "output_type": "display_data"
    }
   ],
   "source": [
    "# B. Outlier\n",
    "# _____________________________________________________________________________________________________________________\n",
    "\n",
    "atribut_numerikal = [atribut for atribut in df.describe().columns]\n",
    "plt.figure(figsize=(20, 5), facecolor='white')\n",
    "sns.set(style='whitegrid')\n",
    "nomor_plot = 1\n",
    "     \n",
    "for atribut in atribut_numerikal:\n",
    "    ax = plt.subplot(1,2, nomor_plot)\n",
    "    sns.boxplot(x=atribut, data=df);\n",
    "    plt.title(atribut, fontsize=16)\n",
    "    plt.tight_layout()\n",
    "    nomor_plot = nomor_plot + 1"
   ]
  },
  {
   "cell_type": "markdown",
   "metadata": {},
   "source": [
    "Berdasarkan boxplot diatas dapat dilihat bahwa data tenure dan MonthlyCharges tidak memiliki outlier."
   ]
  },
  {
   "cell_type": "code",
   "execution_count": 532,
   "metadata": {},
   "outputs": [
    {
     "data": {
      "image/png": "[encoded data removed]",
      "text/plain": [
       "<Figure size 1440x360 with 2 Axes>"
      ]
     },
     "metadata": {},
     "output_type": "display_data"
    }
   ],
   "source": [
    "# C. Data Distribution with Plot\n",
    "# _____________________________________________________________________________________________________________________\n",
    "\n",
    "atribut_numerikal = [atribut for atribut in df.describe().columns]\n",
    "plt.figure(figsize=(20, 5), facecolor='white')\n",
    "sns.set(style='whitegrid')\n",
    "nomor_plot = 1\n",
    "     \n",
    "for atribut in atribut_numerikal:\n",
    "    ax = plt.subplot(1,2, nomor_plot)\n",
    "    sns.histplot(x=atribut, data=df);\n",
    "    plt.title(atribut, fontsize=16)\n",
    "    plt.ylabel('Frekuensi')\n",
    "    plt.tight_layout()\n",
    "    nomor_plot = nomor_plot + 1"
   ]
  },
  {
   "cell_type": "markdown",
   "metadata": {},
   "source": [
    "Melalui grafik diatas, dapat disimpulkan bahwa data tenure dan monthlycharges distribusinya tidak normal (Right Skewed). <br>\n",
    "Namun hal ini akan kita pastikan lagi dengan melakukan uji normalitas."
   ]
  },
  {
   "cell_type": "markdown",
   "metadata": {},
   "source": [
    "Hypothesis\n",
    "- Ho: Data terdistribusi normal\n",
    "- Ha: Data tidak terdistribusi normal"
   ]
  },
  {
   "cell_type": "code",
   "execution_count": 533,
   "metadata": {},
   "outputs": [
    {
     "data": {
      "text/html": [
       "<div>\n",
       "<style scoped>\n",
       "    .dataframe tbody tr th:only-of-type {\n",
       "        vertical-align: middle;\n",
       "    }\n",
       "\n",
       "    .dataframe tbody tr th {\n",
       "        vertical-align: top;\n",
       "    }\n",
       "\n",
       "    .dataframe thead th {\n",
       "        text-align: right;\n",
       "    }\n",
       "</style>\n",
       "<table border=\"1\" class=\"dataframe\">\n",
       "  <thead>\n",
       "    <tr style=\"text-align: right;\">\n",
       "      <th></th>\n",
       "      <th>tenure</th>\n",
       "      <th>MonthlyCharges</th>\n",
       "    </tr>\n",
       "  </thead>\n",
       "  <tbody>\n",
       "    <tr>\n",
       "      <th>Distribusi</th>\n",
       "      <td>Tidak Normal</td>\n",
       "      <td>Tidak Normal</td>\n",
       "    </tr>\n",
       "  </tbody>\n",
       "</table>\n",
       "</div>"
      ],
      "text/plain": [
       "                  tenure MonthlyCharges\n",
       "Distribusi  Tidak Normal   Tidak Normal"
      ]
     },
     "execution_count": 533,
     "metadata": {},
     "output_type": "execute_result"
    }
   ],
   "source": [
    "# D. Data Distribution with Test\n",
    "# _____________________________________________________________________________________________________________________\n",
    "\n",
    "# uji yang dipilih adalah normaltest, karena dapat menangani jumlah data lebih dari 1000\n",
    "\n",
    "atribut_numerikal = [fea for fea in df.describe().columns]\n",
    "list_atribut = []\n",
    "list_distribusi = []\n",
    "\n",
    "for i in atribut_numerikal :\n",
    "    stat, pvalue = normaltest(df[i].dropna())\n",
    "    if pvalue > 0.05:\n",
    "        list_distribusi.append('Normal')\n",
    "    else:\n",
    "        list_distribusi.append('Tidak Normal')\n",
    "    list_atribut.append(i)\n",
    "\n",
    "df_distribusi = pd.DataFrame(list_distribusi,list_atribut)\n",
    "df_distribusi.rename(columns={0:'Distribusi'}, inplace=True)\n",
    "df_distribusi.T"
   ]
  },
  {
   "cell_type": "markdown",
   "metadata": {},
   "source": [
    "Berdasarkan uji normalitas diatas, dengan nilai alpha 0.05, data tenure dan monthlycharges terdistribusi tidak normal. "
   ]
  },
  {
   "cell_type": "markdown",
   "metadata": {},
   "source": [
    "## **4.B Data Kategorikal**"
   ]
  },
  {
   "cell_type": "code",
   "execution_count": 534,
   "metadata": {},
   "outputs": [
    {
     "data": {
      "text/html": [
       "<div>\n",
       "<style scoped>\n",
       "    .dataframe tbody tr th:only-of-type {\n",
       "        vertical-align: middle;\n",
       "    }\n",
       "\n",
       "    .dataframe tbody tr th {\n",
       "        vertical-align: top;\n",
       "    }\n",
       "\n",
       "    .dataframe thead th {\n",
       "        text-align: right;\n",
       "    }\n",
       "</style>\n",
       "<table border=\"1\" class=\"dataframe\">\n",
       "  <thead>\n",
       "    <tr style=\"text-align: right;\">\n",
       "      <th></th>\n",
       "      <th>Dependents</th>\n",
       "      <th>OnlineSecurity</th>\n",
       "      <th>OnlineBackup</th>\n",
       "      <th>InternetService</th>\n",
       "      <th>DeviceProtection</th>\n",
       "      <th>TechSupport</th>\n",
       "      <th>Contract</th>\n",
       "      <th>PaperlessBilling</th>\n",
       "      <th>Churn</th>\n",
       "    </tr>\n",
       "  </thead>\n",
       "  <tbody>\n",
       "    <tr>\n",
       "      <th>count</th>\n",
       "      <td>4853</td>\n",
       "      <td>4853</td>\n",
       "      <td>4853</td>\n",
       "      <td>4853</td>\n",
       "      <td>4853</td>\n",
       "      <td>4853</td>\n",
       "      <td>4853</td>\n",
       "      <td>4853</td>\n",
       "      <td>4853</td>\n",
       "    </tr>\n",
       "    <tr>\n",
       "      <th>unique</th>\n",
       "      <td>2</td>\n",
       "      <td>3</td>\n",
       "      <td>3</td>\n",
       "      <td>3</td>\n",
       "      <td>3</td>\n",
       "      <td>3</td>\n",
       "      <td>3</td>\n",
       "      <td>2</td>\n",
       "      <td>2</td>\n",
       "    </tr>\n",
       "    <tr>\n",
       "      <th>top</th>\n",
       "      <td>No</td>\n",
       "      <td>No</td>\n",
       "      <td>No</td>\n",
       "      <td>Fiber optic</td>\n",
       "      <td>No</td>\n",
       "      <td>No</td>\n",
       "      <td>Month-to-month</td>\n",
       "      <td>Yes</td>\n",
       "      <td>No</td>\n",
       "    </tr>\n",
       "    <tr>\n",
       "      <th>freq</th>\n",
       "      <td>3380</td>\n",
       "      <td>2420</td>\n",
       "      <td>2148</td>\n",
       "      <td>2154</td>\n",
       "      <td>2162</td>\n",
       "      <td>2442</td>\n",
       "      <td>2665</td>\n",
       "      <td>2925</td>\n",
       "      <td>3565</td>\n",
       "    </tr>\n",
       "  </tbody>\n",
       "</table>\n",
       "</div>"
      ],
      "text/plain": [
       "       Dependents OnlineSecurity OnlineBackup InternetService  \\\n",
       "count        4853           4853         4853            4853   \n",
       "unique          2              3            3               3   \n",
       "top            No             No           No     Fiber optic   \n",
       "freq         3380           2420         2148            2154   \n",
       "\n",
       "       DeviceProtection TechSupport        Contract PaperlessBilling Churn  \n",
       "count              4853        4853            4853             4853  4853  \n",
       "unique                3           3               3                2     2  \n",
       "top                  No          No  Month-to-month              Yes    No  \n",
       "freq               2162        2442            2665             2925  3565  "
      ]
     },
     "execution_count": 534,
     "metadata": {},
     "output_type": "execute_result"
    }
   ],
   "source": [
    "# A. Categorical Data Description\n",
    "# _____________________________________________________________________________________________________________________\n",
    "\n",
    "df.describe(include=['O'])"
   ]
  },
  {
   "cell_type": "code",
   "execution_count": 535,
   "metadata": {},
   "outputs": [
    {
     "data": {
      "text/html": [
       "<div>\n",
       "<style scoped>\n",
       "    .dataframe tbody tr th:only-of-type {\n",
       "        vertical-align: middle;\n",
       "    }\n",
       "\n",
       "    .dataframe tbody tr th {\n",
       "        vertical-align: top;\n",
       "    }\n",
       "\n",
       "    .dataframe thead th {\n",
       "        text-align: right;\n",
       "    }\n",
       "</style>\n",
       "<table border=\"1\" class=\"dataframe\">\n",
       "  <thead>\n",
       "    <tr style=\"text-align: right;\">\n",
       "      <th>Churn</th>\n",
       "      <th>No</th>\n",
       "      <th>Yes</th>\n",
       "    </tr>\n",
       "    <tr>\n",
       "      <th>Dependents</th>\n",
       "      <th></th>\n",
       "      <th></th>\n",
       "    </tr>\n",
       "  </thead>\n",
       "  <tbody>\n",
       "    <tr>\n",
       "      <th>No</th>\n",
       "      <td>0.685207</td>\n",
       "      <td>0.314793</td>\n",
       "    </tr>\n",
       "    <tr>\n",
       "      <th>Yes</th>\n",
       "      <td>0.847929</td>\n",
       "      <td>0.152071</td>\n",
       "    </tr>\n",
       "  </tbody>\n",
       "</table>\n",
       "</div>"
      ],
      "text/plain": [
       "Churn             No       Yes\n",
       "Dependents                    \n",
       "No          0.685207  0.314793\n",
       "Yes         0.847929  0.152071"
      ]
     },
     "metadata": {},
     "output_type": "display_data"
    },
    {
     "data": {
      "text/html": [
       "<div>\n",
       "<style scoped>\n",
       "    .dataframe tbody tr th:only-of-type {\n",
       "        vertical-align: middle;\n",
       "    }\n",
       "\n",
       "    .dataframe tbody tr th {\n",
       "        vertical-align: top;\n",
       "    }\n",
       "\n",
       "    .dataframe thead th {\n",
       "        text-align: right;\n",
       "    }\n",
       "</style>\n",
       "<table border=\"1\" class=\"dataframe\">\n",
       "  <thead>\n",
       "    <tr style=\"text-align: right;\">\n",
       "      <th>Churn</th>\n",
       "      <th>No</th>\n",
       "      <th>Yes</th>\n",
       "    </tr>\n",
       "    <tr>\n",
       "      <th>OnlineSecurity</th>\n",
       "      <th></th>\n",
       "      <th></th>\n",
       "    </tr>\n",
       "  </thead>\n",
       "  <tbody>\n",
       "    <tr>\n",
       "      <th>No</th>\n",
       "      <td>0.586364</td>\n",
       "      <td>0.413636</td>\n",
       "    </tr>\n",
       "    <tr>\n",
       "      <th>Yes</th>\n",
       "      <td>0.851748</td>\n",
       "      <td>0.148252</td>\n",
       "    </tr>\n",
       "    <tr>\n",
       "      <th>No internet service</th>\n",
       "      <td>0.925224</td>\n",
       "      <td>0.074776</td>\n",
       "    </tr>\n",
       "  </tbody>\n",
       "</table>\n",
       "</div>"
      ],
      "text/plain": [
       "Churn                      No       Yes\n",
       "OnlineSecurity                         \n",
       "No                   0.586364  0.413636\n",
       "Yes                  0.851748  0.148252\n",
       "No internet service  0.925224  0.074776"
      ]
     },
     "metadata": {},
     "output_type": "display_data"
    },
    {
     "data": {
      "text/html": [
       "<div>\n",
       "<style scoped>\n",
       "    .dataframe tbody tr th:only-of-type {\n",
       "        vertical-align: middle;\n",
       "    }\n",
       "\n",
       "    .dataframe tbody tr th {\n",
       "        vertical-align: top;\n",
       "    }\n",
       "\n",
       "    .dataframe thead th {\n",
       "        text-align: right;\n",
       "    }\n",
       "</style>\n",
       "<table border=\"1\" class=\"dataframe\">\n",
       "  <thead>\n",
       "    <tr style=\"text-align: right;\">\n",
       "      <th>Churn</th>\n",
       "      <th>No</th>\n",
       "      <th>Yes</th>\n",
       "    </tr>\n",
       "    <tr>\n",
       "      <th>OnlineBackup</th>\n",
       "      <th></th>\n",
       "      <th></th>\n",
       "    </tr>\n",
       "  </thead>\n",
       "  <tbody>\n",
       "    <tr>\n",
       "      <th>No</th>\n",
       "      <td>0.597765</td>\n",
       "      <td>0.402235</td>\n",
       "    </tr>\n",
       "    <tr>\n",
       "      <th>Yes</th>\n",
       "      <td>0.794947</td>\n",
       "      <td>0.205053</td>\n",
       "    </tr>\n",
       "    <tr>\n",
       "      <th>No internet service</th>\n",
       "      <td>0.925224</td>\n",
       "      <td>0.074776</td>\n",
       "    </tr>\n",
       "  </tbody>\n",
       "</table>\n",
       "</div>"
      ],
      "text/plain": [
       "Churn                      No       Yes\n",
       "OnlineBackup                           \n",
       "No                   0.597765  0.402235\n",
       "Yes                  0.794947  0.205053\n",
       "No internet service  0.925224  0.074776"
      ]
     },
     "metadata": {},
     "output_type": "display_data"
    },
    {
     "data": {
      "text/html": [
       "<div>\n",
       "<style scoped>\n",
       "    .dataframe tbody tr th:only-of-type {\n",
       "        vertical-align: middle;\n",
       "    }\n",
       "\n",
       "    .dataframe tbody tr th {\n",
       "        vertical-align: top;\n",
       "    }\n",
       "\n",
       "    .dataframe thead th {\n",
       "        text-align: right;\n",
       "    }\n",
       "</style>\n",
       "<table border=\"1\" class=\"dataframe\">\n",
       "  <thead>\n",
       "    <tr style=\"text-align: right;\">\n",
       "      <th>Churn</th>\n",
       "      <th>No</th>\n",
       "      <th>Yes</th>\n",
       "    </tr>\n",
       "    <tr>\n",
       "      <th>InternetService</th>\n",
       "      <th></th>\n",
       "      <th></th>\n",
       "    </tr>\n",
       "  </thead>\n",
       "  <tbody>\n",
       "    <tr>\n",
       "      <th>Fiber optic</th>\n",
       "      <td>0.581244</td>\n",
       "      <td>0.418756</td>\n",
       "    </tr>\n",
       "    <tr>\n",
       "      <th>DSL</th>\n",
       "      <td>0.816627</td>\n",
       "      <td>0.183373</td>\n",
       "    </tr>\n",
       "    <tr>\n",
       "      <th>No</th>\n",
       "      <td>0.925224</td>\n",
       "      <td>0.074776</td>\n",
       "    </tr>\n",
       "  </tbody>\n",
       "</table>\n",
       "</div>"
      ],
      "text/plain": [
       "Churn                  No       Yes\n",
       "InternetService                    \n",
       "Fiber optic      0.581244  0.418756\n",
       "DSL              0.816627  0.183373\n",
       "No               0.925224  0.074776"
      ]
     },
     "metadata": {},
     "output_type": "display_data"
    },
    {
     "data": {
      "text/html": [
       "<div>\n",
       "<style scoped>\n",
       "    .dataframe tbody tr th:only-of-type {\n",
       "        vertical-align: middle;\n",
       "    }\n",
       "\n",
       "    .dataframe tbody tr th {\n",
       "        vertical-align: top;\n",
       "    }\n",
       "\n",
       "    .dataframe thead th {\n",
       "        text-align: right;\n",
       "    }\n",
       "</style>\n",
       "<table border=\"1\" class=\"dataframe\">\n",
       "  <thead>\n",
       "    <tr style=\"text-align: right;\">\n",
       "      <th>Churn</th>\n",
       "      <th>No</th>\n",
       "      <th>Yes</th>\n",
       "    </tr>\n",
       "    <tr>\n",
       "      <th>DeviceProtection</th>\n",
       "      <th></th>\n",
       "      <th></th>\n",
       "    </tr>\n",
       "  </thead>\n",
       "  <tbody>\n",
       "    <tr>\n",
       "      <th>No</th>\n",
       "      <td>0.616096</td>\n",
       "      <td>0.383904</td>\n",
       "    </tr>\n",
       "    <tr>\n",
       "      <th>Yes</th>\n",
       "      <td>0.773104</td>\n",
       "      <td>0.226896</td>\n",
       "    </tr>\n",
       "    <tr>\n",
       "      <th>No internet service</th>\n",
       "      <td>0.925224</td>\n",
       "      <td>0.074776</td>\n",
       "    </tr>\n",
       "  </tbody>\n",
       "</table>\n",
       "</div>"
      ],
      "text/plain": [
       "Churn                      No       Yes\n",
       "DeviceProtection                       \n",
       "No                   0.616096  0.383904\n",
       "Yes                  0.773104  0.226896\n",
       "No internet service  0.925224  0.074776"
      ]
     },
     "metadata": {},
     "output_type": "display_data"
    },
    {
     "data": {
      "text/html": [
       "<div>\n",
       "<style scoped>\n",
       "    .dataframe tbody tr th:only-of-type {\n",
       "        vertical-align: middle;\n",
       "    }\n",
       "\n",
       "    .dataframe tbody tr th {\n",
       "        vertical-align: top;\n",
       "    }\n",
       "\n",
       "    .dataframe thead th {\n",
       "        text-align: right;\n",
       "    }\n",
       "</style>\n",
       "<table border=\"1\" class=\"dataframe\">\n",
       "  <thead>\n",
       "    <tr style=\"text-align: right;\">\n",
       "      <th>Churn</th>\n",
       "      <th>No</th>\n",
       "      <th>Yes</th>\n",
       "    </tr>\n",
       "    <tr>\n",
       "      <th>TechSupport</th>\n",
       "      <th></th>\n",
       "      <th></th>\n",
       "    </tr>\n",
       "  </thead>\n",
       "  <tbody>\n",
       "    <tr>\n",
       "      <th>No</th>\n",
       "      <td>0.590909</td>\n",
       "      <td>0.409091</td>\n",
       "    </tr>\n",
       "    <tr>\n",
       "      <th>Yes</th>\n",
       "      <td>0.848011</td>\n",
       "      <td>0.151989</td>\n",
       "    </tr>\n",
       "    <tr>\n",
       "      <th>No internet service</th>\n",
       "      <td>0.925224</td>\n",
       "      <td>0.074776</td>\n",
       "    </tr>\n",
       "  </tbody>\n",
       "</table>\n",
       "</div>"
      ],
      "text/plain": [
       "Churn                      No       Yes\n",
       "TechSupport                            \n",
       "No                   0.590909  0.409091\n",
       "Yes                  0.848011  0.151989\n",
       "No internet service  0.925224  0.074776"
      ]
     },
     "metadata": {},
     "output_type": "display_data"
    },
    {
     "data": {
      "text/html": [
       "<div>\n",
       "<style scoped>\n",
       "    .dataframe tbody tr th:only-of-type {\n",
       "        vertical-align: middle;\n",
       "    }\n",
       "\n",
       "    .dataframe tbody tr th {\n",
       "        vertical-align: top;\n",
       "    }\n",
       "\n",
       "    .dataframe thead th {\n",
       "        text-align: right;\n",
       "    }\n",
       "</style>\n",
       "<table border=\"1\" class=\"dataframe\">\n",
       "  <thead>\n",
       "    <tr style=\"text-align: right;\">\n",
       "      <th>Churn</th>\n",
       "      <th>No</th>\n",
       "      <th>Yes</th>\n",
       "    </tr>\n",
       "    <tr>\n",
       "      <th>Contract</th>\n",
       "      <th></th>\n",
       "      <th></th>\n",
       "    </tr>\n",
       "  </thead>\n",
       "  <tbody>\n",
       "    <tr>\n",
       "      <th>Month-to-month</th>\n",
       "      <td>0.568480</td>\n",
       "      <td>0.431520</td>\n",
       "    </tr>\n",
       "    <tr>\n",
       "      <th>One year</th>\n",
       "      <td>0.898565</td>\n",
       "      <td>0.101435</td>\n",
       "    </tr>\n",
       "    <tr>\n",
       "      <th>Two year</th>\n",
       "      <td>0.972003</td>\n",
       "      <td>0.027997</td>\n",
       "    </tr>\n",
       "  </tbody>\n",
       "</table>\n",
       "</div>"
      ],
      "text/plain": [
       "Churn                 No       Yes\n",
       "Contract                          \n",
       "Month-to-month  0.568480  0.431520\n",
       "One year        0.898565  0.101435\n",
       "Two year        0.972003  0.027997"
      ]
     },
     "metadata": {},
     "output_type": "display_data"
    },
    {
     "data": {
      "text/html": [
       "<div>\n",
       "<style scoped>\n",
       "    .dataframe tbody tr th:only-of-type {\n",
       "        vertical-align: middle;\n",
       "    }\n",
       "\n",
       "    .dataframe tbody tr th {\n",
       "        vertical-align: top;\n",
       "    }\n",
       "\n",
       "    .dataframe thead th {\n",
       "        text-align: right;\n",
       "    }\n",
       "</style>\n",
       "<table border=\"1\" class=\"dataframe\">\n",
       "  <thead>\n",
       "    <tr style=\"text-align: right;\">\n",
       "      <th>Churn</th>\n",
       "      <th>No</th>\n",
       "      <th>Yes</th>\n",
       "    </tr>\n",
       "    <tr>\n",
       "      <th>PaperlessBilling</th>\n",
       "      <th></th>\n",
       "      <th></th>\n",
       "    </tr>\n",
       "  </thead>\n",
       "  <tbody>\n",
       "    <tr>\n",
       "      <th>Yes</th>\n",
       "      <td>0.668034</td>\n",
       "      <td>0.331966</td>\n",
       "    </tr>\n",
       "    <tr>\n",
       "      <th>No</th>\n",
       "      <td>0.835581</td>\n",
       "      <td>0.164419</td>\n",
       "    </tr>\n",
       "  </tbody>\n",
       "</table>\n",
       "</div>"
      ],
      "text/plain": [
       "Churn                   No       Yes\n",
       "PaperlessBilling                    \n",
       "Yes               0.668034  0.331966\n",
       "No                0.835581  0.164419"
      ]
     },
     "metadata": {},
     "output_type": "display_data"
    }
   ],
   "source": [
    "# B. Churn Proportion per Attribute (Table)\n",
    "# _____________________________________________________________________________________________________________________\n",
    "\n",
    "atribut_kategorikal = ([atribut for atribut in df.describe(include=['O']).columns])\n",
    "atribut_kategorikal.remove('Churn')\n",
    "\n",
    "for i in atribut_kategorikal:\n",
    "    churn = df.groupby(i)['Churn'].value_counts(normalize=True).unstack()\n",
    "    display(churn.sort_values(by='Yes', ascending=False))"
   ]
  },
  {
   "cell_type": "code",
   "execution_count": 536,
   "metadata": {},
   "outputs": [
    {
     "data": {
      "image/png": "[encoded data removed]",
      "text/plain": [
       "<Figure size 1440x1440 with 8 Axes>"
      ]
     },
     "metadata": {},
     "output_type": "display_data"
    }
   ],
   "source": [
    "# C. Churn Proportion per Attribute (Plot)\n",
    "# _____________________________________________________________________________________________________________________\n",
    "\n",
    "count = 0\n",
    "fig = plt.figure(figsize=(20,20))\n",
    "\n",
    "for atribut in atribut_kategorikal:\n",
    "    count +=1\n",
    "    ax= plt.subplot(3,3,count)\n",
    "    pd.crosstab(df[atribut],df['Churn'],normalize=0).plot(kind='bar',stacked=True,ax=ax)\n",
    "    fig.tight_layout()\n",
    "\n",
    "plt.show()"
   ]
  },
  {
   "cell_type": "markdown",
   "metadata": {},
   "source": [
    "Berdasarkan diagram dan tabel diatas kita dapat menyimpulkan beberapa hal :\n",
    "1. Customer yang **tidak memiliki tanggungan (`No`)** lebih cenderung **'Churn'** dari pada Customer yang **memiliki tanggungan (`Yes`)**\n",
    "2. Customer yang **tidak memiliki online security (`No`)** lebih cenderung **'Churn'** dari pada Customer yang lain.\n",
    "3. Customer yang **tidak memiliki online backup (`No`)** lebih cenderung **'Churn'** dari pada Customer yang lain.\n",
    "4. Customer yang menggunakan internet provider **Fiber Optic** lebih cenderung **'Churn'** dari pada Customer yang lain.\n",
    "5. Customer yang **tidak memiliki device protection (`No`)** lebih cenderung **'Churn'** dari pada Customer yang lain.\n",
    "6. Customer yang **tidak memiliki tech support (`No`)** lebih cenderung **'Churn'** dari pada Customer yang lain.\n",
    "7. Customer yang jangka waktu kontraknya **Month-to-month** lebih cenderung **'Churn'** dari pada Customer yang lain.\n",
    "8. Customer yang  **memiliki paperless billing** lebih cenderung **'Churn'** dari pada Customer yang lain."
   ]
  },
  {
   "cell_type": "markdown",
   "metadata": {},
   "source": [
    "## **4.C Hubungan**"
   ]
  },
  {
   "cell_type": "markdown",
   "metadata": {},
   "source": [
    "#### 1. Numerikal vs Numerikal"
   ]
  },
  {
   "cell_type": "code",
   "execution_count": 537,
   "metadata": {},
   "outputs": [
    {
     "data": {
      "image/png": "[encoded data removed]",
      "text/plain": [
       "<Figure size 432x288 with 2 Axes>"
      ]
     },
     "metadata": {},
     "output_type": "display_data"
    }
   ],
   "source": [
    "# A. Uji Korelasi antar Data Numerikal\n",
    "# _____________________________________________________________________________________________________________________\n",
    "\n",
    "sns.heatmap(df.corr(), cmap=\"YlGn\",annot=True);"
   ]
  },
  {
   "cell_type": "markdown",
   "metadata": {},
   "source": [
    "Berdasarkan heatmap diatas dapat disimpulkan bahwa tenure dan MonthlyCharges korelasinya positif namun lemah."
   ]
  },
  {
   "cell_type": "markdown",
   "metadata": {},
   "source": [
    "#### 2. Kategorikal vs Kategorikal"
   ]
  },
  {
   "cell_type": "code",
   "execution_count": 538,
   "metadata": {},
   "outputs": [],
   "source": [
    "d_os = (df.pivot_table(index = 'Dependents', columns = 'OnlineSecurity', values = 'MonthlyCharges', aggfunc = len))\n",
    "d_ob = (df.pivot_table(index = 'Dependents', columns = 'OnlineBackup', values = 'MonthlyCharges', aggfunc = len))\n",
    "d_is = (df.pivot_table(index = 'Dependents', columns = 'InternetService', values = 'MonthlyCharges', aggfunc = len))\n",
    "d_dp = (df.pivot_table(index = 'Dependents', columns = 'DeviceProtection', values = 'MonthlyCharges', aggfunc = len))\n",
    "d_ts = (df.pivot_table(index = 'Dependents', columns = 'TechSupport', values = 'MonthlyCharges', aggfunc = len))\n",
    "d_c = (df.pivot_table(index = 'Dependents', columns = 'Contract', values = 'MonthlyCharges', aggfunc = len))\n",
    "d_pb = (df.pivot_table(index = 'Dependents', columns = 'PaperlessBilling', values = 'MonthlyCharges', aggfunc = len))\n",
    "d_ch = (df.pivot_table(index = 'Dependents', columns = 'Churn', values = 'MonthlyCharges', aggfunc = len))\n",
    "\n",
    "os_ob = (df.pivot_table(index = 'OnlineSecurity', columns = 'OnlineBackup', values = 'MonthlyCharges', aggfunc = len))\n",
    "os_is = (df.pivot_table(index = 'OnlineSecurity', columns = 'InternetService', values = 'MonthlyCharges', aggfunc = len))\n",
    "os_dp = (df.pivot_table(index = 'OnlineSecurity', columns = 'DeviceProtection', values = 'MonthlyCharges', aggfunc = len))\n",
    "os_ts = (df.pivot_table(index = 'OnlineSecurity', columns = 'TechSupport', values = 'MonthlyCharges', aggfunc = len))\n",
    "os_c = (df.pivot_table(index = 'OnlineSecurity', columns = 'Contract', values = 'MonthlyCharges', aggfunc = len))\n",
    "os_pb = (df.pivot_table(index = 'OnlineSecurity', columns = 'PaperlessBilling', values = 'MonthlyCharges', aggfunc = len))\n",
    "os_ch = (df.pivot_table(index = 'OnlineSecurity', columns = 'Churn', values = 'MonthlyCharges', aggfunc = len))\n",
    "\n",
    "ob_is = (df.pivot_table(index = 'OnlineBackup', columns = 'InternetService', values = 'MonthlyCharges', aggfunc = len))\n",
    "ob_dp = (df.pivot_table(index = 'OnlineBackup', columns = 'DeviceProtection', values = 'MonthlyCharges', aggfunc = len))\n",
    "ob_ts = (df.pivot_table(index = 'OnlineBackup', columns = 'TechSupport', values = 'MonthlyCharges', aggfunc = len))\n",
    "ob_c = (df.pivot_table(index = 'OnlineBackup', columns = 'Contract', values = 'MonthlyCharges', aggfunc = len))\n",
    "ob_pb = (df.pivot_table(index = 'OnlineBackup', columns = 'PaperlessBilling', values = 'MonthlyCharges', aggfunc = len))\n",
    "ob_ch = (df.pivot_table(index = 'OnlineBackup', columns = 'Churn', values = 'MonthlyCharges', aggfunc = len))\n",
    "\n",
    "is_dp = (df.pivot_table(index = 'InternetService', columns = 'DeviceProtection', values = 'MonthlyCharges', aggfunc = len))\n",
    "is_ts = (df.pivot_table(index = 'InternetService', columns = 'TechSupport', values = 'MonthlyCharges', aggfunc = len))\n",
    "is_c = (df.pivot_table(index = 'InternetService', columns = 'Contract', values = 'MonthlyCharges', aggfunc = len))\n",
    "is_pb = (df.pivot_table(index = 'InternetService', columns = 'PaperlessBilling', values = 'MonthlyCharges', aggfunc = len))\n",
    "is_ch = (df.pivot_table(index = 'InternetService', columns = 'Churn', values = 'MonthlyCharges', aggfunc = len))\n",
    "\n",
    "dp_ts = (df.pivot_table(index = 'DeviceProtection', columns = 'TechSupport', values = 'MonthlyCharges', aggfunc = len))\n",
    "dp_c = (df.pivot_table(index = 'DeviceProtection', columns = 'Contract', values = 'MonthlyCharges', aggfunc = len))\n",
    "dp_pb = (df.pivot_table(index = 'DeviceProtection', columns = 'PaperlessBilling', values = 'MonthlyCharges', aggfunc = len))\n",
    "dp_ch = (df.pivot_table(index = 'DeviceProtection', columns = 'Churn', values = 'MonthlyCharges', aggfunc = len))\n",
    "\n",
    "ts_c = (df.pivot_table(index = 'TechSupport', columns = 'Contract', values = 'MonthlyCharges', aggfunc = len))\n",
    "ts_pb = (df.pivot_table(index = 'TechSupport', columns = 'PaperlessBilling', values = 'MonthlyCharges', aggfunc = len))\n",
    "ts_ch = (df.pivot_table(index = 'TechSupport', columns = 'Churn', values = 'MonthlyCharges', aggfunc = len))\n",
    "\n",
    "c_pb = (df.pivot_table(index = 'Contract', columns = 'PaperlessBilling', values = 'MonthlyCharges', aggfunc = len))\n",
    "c_ch = (df.pivot_table(index = 'Contract', columns = 'Churn', values = 'MonthlyCharges', aggfunc = len))\n",
    "\n",
    "pb_ch = (df.pivot_table(index = 'PaperlessBilling', columns = 'Churn', values = 'MonthlyCharges', aggfunc = len))"
   ]
  },
  {
   "cell_type": "code",
   "execution_count": 539,
   "metadata": {},
   "outputs": [],
   "source": [
    "list_atribut1 = pd.DataFrame([\n",
    "    'Dependents','Dependents','Dependents','Dependents','Dependents','Dependents','Dependents','Dependents',\n",
    "    'OnlineSecurity', 'OnlineSecurity','OnlineSecurity','OnlineSecurity','OnlineSecurity','OnlineSecurity','OnlineSecurity',\n",
    "    'OnlineBackup', 'OnlineBackup', 'OnlineBackup', 'OnlineBackup', 'OnlineBackup', 'OnlineBackup', \n",
    "    'InternetService', 'InternetService', 'InternetService', 'InternetService', 'InternetService', \n",
    "    'DeviceProtection', 'DeviceProtection', 'DeviceProtection', 'DeviceProtection', \n",
    "    'TechSupport', 'TechSupport', 'TechSupport', \n",
    "    'Contract', 'Contract', \n",
    "    'PaperlessBilling'\n",
    "])\n",
    "\n",
    "list_atribut2 = pd.DataFrame([\n",
    "    'OnlineSecurity', 'OnlineBackup', 'InternetService', 'DeviceProtection', 'TechSupport', 'Contract', 'PaperlessBilling', 'Churn', \n",
    "    'OnlineBackup', 'InternetService', 'DeviceProtection', 'TechSupport', 'Contract', 'PaperlessBilling', 'Churn', \n",
    "    'InternetService', 'DeviceProtection', 'TechSupport', 'Contract', 'PaperlessBilling', 'Churn', \n",
    "    'DeviceProtection', 'TechSupport', 'Contract', 'PaperlessBilling', 'Churn', \n",
    "    'TechSupport', 'Contract', 'PaperlessBilling', 'Churn', \n",
    "    'Contract', 'PaperlessBilling', 'Churn', \n",
    "    'PaperlessBilling', 'Churn', \n",
    "    'Churn'\n",
    "])\n",
    "\n",
    "list_pivot = [\n",
    "    d_os, d_ob, d_is, d_dp, d_ts, d_c, d_pb, d_ch,\n",
    "    os_ob, os_is, os_dp, os_ts, os_c, os_pb, os_ch,\n",
    "    ob_is, ob_dp, ob_ts, ob_c, ob_pb, ob_ch,\n",
    "    is_dp, is_ts, is_c, is_pb, is_ch,\n",
    "    dp_ts, dp_c, dp_pb, dp_ch,\n",
    "    ts_c, ts_pb, ts_ch,\n",
    "    c_pb, c_ch,\n",
    "    pb_ch\n",
    "]"
   ]
  },
  {
   "cell_type": "markdown",
   "metadata": {},
   "source": [
    "Hypothesis\n",
    "- Ho: Faktor 1 dan Faktor 2 independent (tidak terkait)\n",
    "- Ha: Faktor 1 dan Faktor 2 dependent (terkait)"
   ]
  },
  {
   "cell_type": "code",
   "execution_count": 540,
   "metadata": {},
   "outputs": [],
   "source": [
    "list_hubungan = []\n",
    "for i in list_pivot :\n",
    "    stat,p_value,dof,expected = chi2_contingency(i.fillna(1))\n",
    "    if p_value > 0.05:\n",
    "        list_hubungan.append('Independent')\n",
    "    else:\n",
    "        list_hubungan.append('Dependent')\n",
    "\n",
    "hubungan_kategorikal= pd.DataFrame(list_hubungan)"
   ]
  },
  {
   "cell_type": "code",
   "execution_count": 541,
   "metadata": {},
   "outputs": [
    {
     "data": {
      "text/html": [
       "<div>\n",
       "<style scoped>\n",
       "    .dataframe tbody tr th:only-of-type {\n",
       "        vertical-align: middle;\n",
       "    }\n",
       "\n",
       "    .dataframe tbody tr th {\n",
       "        vertical-align: top;\n",
       "    }\n",
       "\n",
       "    .dataframe thead th {\n",
       "        text-align: right;\n",
       "    }\n",
       "</style>\n",
       "<table border=\"1\" class=\"dataframe\">\n",
       "  <thead>\n",
       "    <tr style=\"text-align: right;\">\n",
       "      <th></th>\n",
       "      <th>Atribut 1</th>\n",
       "      <th>Atribut 2</th>\n",
       "      <th>Hubungan</th>\n",
       "    </tr>\n",
       "  </thead>\n",
       "  <tbody>\n",
       "    <tr>\n",
       "      <th>0</th>\n",
       "      <td>Dependents</td>\n",
       "      <td>OnlineSecurity</td>\n",
       "      <td>Dependent</td>\n",
       "    </tr>\n",
       "    <tr>\n",
       "      <th>1</th>\n",
       "      <td>Dependents</td>\n",
       "      <td>OnlineBackup</td>\n",
       "      <td>Dependent</td>\n",
       "    </tr>\n",
       "    <tr>\n",
       "      <th>2</th>\n",
       "      <td>Dependents</td>\n",
       "      <td>InternetService</td>\n",
       "      <td>Dependent</td>\n",
       "    </tr>\n",
       "    <tr>\n",
       "      <th>3</th>\n",
       "      <td>Dependents</td>\n",
       "      <td>DeviceProtection</td>\n",
       "      <td>Dependent</td>\n",
       "    </tr>\n",
       "    <tr>\n",
       "      <th>4</th>\n",
       "      <td>Dependents</td>\n",
       "      <td>TechSupport</td>\n",
       "      <td>Dependent</td>\n",
       "    </tr>\n",
       "    <tr>\n",
       "      <th>5</th>\n",
       "      <td>Dependents</td>\n",
       "      <td>Contract</td>\n",
       "      <td>Dependent</td>\n",
       "    </tr>\n",
       "    <tr>\n",
       "      <th>6</th>\n",
       "      <td>Dependents</td>\n",
       "      <td>PaperlessBilling</td>\n",
       "      <td>Dependent</td>\n",
       "    </tr>\n",
       "    <tr>\n",
       "      <th>7</th>\n",
       "      <td>Dependents</td>\n",
       "      <td>Churn</td>\n",
       "      <td>Dependent</td>\n",
       "    </tr>\n",
       "    <tr>\n",
       "      <th>8</th>\n",
       "      <td>OnlineSecurity</td>\n",
       "      <td>OnlineBackup</td>\n",
       "      <td>Dependent</td>\n",
       "    </tr>\n",
       "    <tr>\n",
       "      <th>9</th>\n",
       "      <td>OnlineSecurity</td>\n",
       "      <td>InternetService</td>\n",
       "      <td>Dependent</td>\n",
       "    </tr>\n",
       "    <tr>\n",
       "      <th>10</th>\n",
       "      <td>OnlineSecurity</td>\n",
       "      <td>DeviceProtection</td>\n",
       "      <td>Dependent</td>\n",
       "    </tr>\n",
       "    <tr>\n",
       "      <th>11</th>\n",
       "      <td>OnlineSecurity</td>\n",
       "      <td>TechSupport</td>\n",
       "      <td>Dependent</td>\n",
       "    </tr>\n",
       "    <tr>\n",
       "      <th>12</th>\n",
       "      <td>OnlineSecurity</td>\n",
       "      <td>Contract</td>\n",
       "      <td>Dependent</td>\n",
       "    </tr>\n",
       "    <tr>\n",
       "      <th>13</th>\n",
       "      <td>OnlineSecurity</td>\n",
       "      <td>PaperlessBilling</td>\n",
       "      <td>Dependent</td>\n",
       "    </tr>\n",
       "    <tr>\n",
       "      <th>14</th>\n",
       "      <td>OnlineSecurity</td>\n",
       "      <td>Churn</td>\n",
       "      <td>Dependent</td>\n",
       "    </tr>\n",
       "    <tr>\n",
       "      <th>15</th>\n",
       "      <td>OnlineBackup</td>\n",
       "      <td>InternetService</td>\n",
       "      <td>Dependent</td>\n",
       "    </tr>\n",
       "    <tr>\n",
       "      <th>16</th>\n",
       "      <td>OnlineBackup</td>\n",
       "      <td>DeviceProtection</td>\n",
       "      <td>Dependent</td>\n",
       "    </tr>\n",
       "    <tr>\n",
       "      <th>17</th>\n",
       "      <td>OnlineBackup</td>\n",
       "      <td>TechSupport</td>\n",
       "      <td>Dependent</td>\n",
       "    </tr>\n",
       "    <tr>\n",
       "      <th>18</th>\n",
       "      <td>OnlineBackup</td>\n",
       "      <td>Contract</td>\n",
       "      <td>Dependent</td>\n",
       "    </tr>\n",
       "    <tr>\n",
       "      <th>19</th>\n",
       "      <td>OnlineBackup</td>\n",
       "      <td>PaperlessBilling</td>\n",
       "      <td>Dependent</td>\n",
       "    </tr>\n",
       "    <tr>\n",
       "      <th>20</th>\n",
       "      <td>OnlineBackup</td>\n",
       "      <td>Churn</td>\n",
       "      <td>Dependent</td>\n",
       "    </tr>\n",
       "    <tr>\n",
       "      <th>21</th>\n",
       "      <td>InternetService</td>\n",
       "      <td>DeviceProtection</td>\n",
       "      <td>Dependent</td>\n",
       "    </tr>\n",
       "    <tr>\n",
       "      <th>22</th>\n",
       "      <td>InternetService</td>\n",
       "      <td>TechSupport</td>\n",
       "      <td>Dependent</td>\n",
       "    </tr>\n",
       "    <tr>\n",
       "      <th>23</th>\n",
       "      <td>InternetService</td>\n",
       "      <td>Contract</td>\n",
       "      <td>Dependent</td>\n",
       "    </tr>\n",
       "    <tr>\n",
       "      <th>24</th>\n",
       "      <td>InternetService</td>\n",
       "      <td>PaperlessBilling</td>\n",
       "      <td>Dependent</td>\n",
       "    </tr>\n",
       "    <tr>\n",
       "      <th>25</th>\n",
       "      <td>InternetService</td>\n",
       "      <td>Churn</td>\n",
       "      <td>Dependent</td>\n",
       "    </tr>\n",
       "    <tr>\n",
       "      <th>26</th>\n",
       "      <td>DeviceProtection</td>\n",
       "      <td>TechSupport</td>\n",
       "      <td>Dependent</td>\n",
       "    </tr>\n",
       "    <tr>\n",
       "      <th>27</th>\n",
       "      <td>DeviceProtection</td>\n",
       "      <td>Contract</td>\n",
       "      <td>Dependent</td>\n",
       "    </tr>\n",
       "    <tr>\n",
       "      <th>28</th>\n",
       "      <td>DeviceProtection</td>\n",
       "      <td>PaperlessBilling</td>\n",
       "      <td>Dependent</td>\n",
       "    </tr>\n",
       "    <tr>\n",
       "      <th>29</th>\n",
       "      <td>DeviceProtection</td>\n",
       "      <td>Churn</td>\n",
       "      <td>Dependent</td>\n",
       "    </tr>\n",
       "    <tr>\n",
       "      <th>30</th>\n",
       "      <td>TechSupport</td>\n",
       "      <td>Contract</td>\n",
       "      <td>Dependent</td>\n",
       "    </tr>\n",
       "    <tr>\n",
       "      <th>31</th>\n",
       "      <td>TechSupport</td>\n",
       "      <td>PaperlessBilling</td>\n",
       "      <td>Dependent</td>\n",
       "    </tr>\n",
       "    <tr>\n",
       "      <th>32</th>\n",
       "      <td>TechSupport</td>\n",
       "      <td>Churn</td>\n",
       "      <td>Dependent</td>\n",
       "    </tr>\n",
       "    <tr>\n",
       "      <th>33</th>\n",
       "      <td>Contract</td>\n",
       "      <td>PaperlessBilling</td>\n",
       "      <td>Dependent</td>\n",
       "    </tr>\n",
       "    <tr>\n",
       "      <th>34</th>\n",
       "      <td>Contract</td>\n",
       "      <td>Churn</td>\n",
       "      <td>Dependent</td>\n",
       "    </tr>\n",
       "    <tr>\n",
       "      <th>35</th>\n",
       "      <td>PaperlessBilling</td>\n",
       "      <td>Churn</td>\n",
       "      <td>Dependent</td>\n",
       "    </tr>\n",
       "  </tbody>\n",
       "</table>\n",
       "</div>"
      ],
      "text/plain": [
       "           Atribut 1         Atribut 2   Hubungan\n",
       "0         Dependents    OnlineSecurity  Dependent\n",
       "1         Dependents      OnlineBackup  Dependent\n",
       "2         Dependents   InternetService  Dependent\n",
       "3         Dependents  DeviceProtection  Dependent\n",
       "4         Dependents       TechSupport  Dependent\n",
       "5         Dependents          Contract  Dependent\n",
       "6         Dependents  PaperlessBilling  Dependent\n",
       "7         Dependents             Churn  Dependent\n",
       "8     OnlineSecurity      OnlineBackup  Dependent\n",
       "9     OnlineSecurity   InternetService  Dependent\n",
       "10    OnlineSecurity  DeviceProtection  Dependent\n",
       "11    OnlineSecurity       TechSupport  Dependent\n",
       "12    OnlineSecurity          Contract  Dependent\n",
       "13    OnlineSecurity  PaperlessBilling  Dependent\n",
       "14    OnlineSecurity             Churn  Dependent\n",
       "15      OnlineBackup   InternetService  Dependent\n",
       "16      OnlineBackup  DeviceProtection  Dependent\n",
       "17      OnlineBackup       TechSupport  Dependent\n",
       "18      OnlineBackup          Contract  Dependent\n",
       "19      OnlineBackup  PaperlessBilling  Dependent\n",
       "20      OnlineBackup             Churn  Dependent\n",
       "21   InternetService  DeviceProtection  Dependent\n",
       "22   InternetService       TechSupport  Dependent\n",
       "23   InternetService          Contract  Dependent\n",
       "24   InternetService  PaperlessBilling  Dependent\n",
       "25   InternetService             Churn  Dependent\n",
       "26  DeviceProtection       TechSupport  Dependent\n",
       "27  DeviceProtection          Contract  Dependent\n",
       "28  DeviceProtection  PaperlessBilling  Dependent\n",
       "29  DeviceProtection             Churn  Dependent\n",
       "30       TechSupport          Contract  Dependent\n",
       "31       TechSupport  PaperlessBilling  Dependent\n",
       "32       TechSupport             Churn  Dependent\n",
       "33          Contract  PaperlessBilling  Dependent\n",
       "34          Contract             Churn  Dependent\n",
       "35  PaperlessBilling             Churn  Dependent"
      ]
     },
     "execution_count": 541,
     "metadata": {},
     "output_type": "execute_result"
    }
   ],
   "source": [
    "list_atribut1['list_atribut2']=list_atribut2\n",
    "list_atribut1['Hubungan']=list_hubungan\n",
    "list_atribut1.rename(columns={0 : 'Atribut 1', 'list_atribut2' : 'Atribut 2'})"
   ]
  },
  {
   "cell_type": "markdown",
   "metadata": {},
   "source": [
    "#### 3. Numerikal vs Kategorikal"
   ]
  },
  {
   "cell_type": "code",
   "execution_count": 542,
   "metadata": {},
   "outputs": [
    {
     "data": {
      "text/html": [
       "<div>\n",
       "<style scoped>\n",
       "    .dataframe tbody tr th:only-of-type {\n",
       "        vertical-align: middle;\n",
       "    }\n",
       "\n",
       "    .dataframe tbody tr th {\n",
       "        vertical-align: top;\n",
       "    }\n",
       "\n",
       "    .dataframe thead th {\n",
       "        text-align: right;\n",
       "    }\n",
       "</style>\n",
       "<table border=\"1\" class=\"dataframe\">\n",
       "  <thead>\n",
       "    <tr style=\"text-align: right;\">\n",
       "      <th></th>\n",
       "      <th>Atribut</th>\n",
       "      <th>Tipe_Data</th>\n",
       "      <th>Jumlah_Data</th>\n",
       "      <th>Jumlah_Null</th>\n",
       "      <th>Null_%</th>\n",
       "      <th>Total_Unik</th>\n",
       "      <th>Nilai_Unik</th>\n",
       "    </tr>\n",
       "  </thead>\n",
       "  <tbody>\n",
       "    <tr>\n",
       "      <th>0</th>\n",
       "      <td>Dependents</td>\n",
       "      <td>object</td>\n",
       "      <td>4930</td>\n",
       "      <td>0</td>\n",
       "      <td>0.0</td>\n",
       "      <td>2</td>\n",
       "      <td>[Yes, No]</td>\n",
       "    </tr>\n",
       "    <tr>\n",
       "      <th>1</th>\n",
       "      <td>tenure</td>\n",
       "      <td>int64</td>\n",
       "      <td>4930</td>\n",
       "      <td>0</td>\n",
       "      <td>0.0</td>\n",
       "      <td>73</td>\n",
       "      <td>[9, 14, 64, 72, 3, 40, 17, 11, 8, 47, 18, 5, 1, 48, 13, 58, 7, 4, 70, 34, 31, 37, 15, 71, 10, 43, 22, 33, 69, 54, 63, 55, 66, 56, 32, 26, 24, 2, 51, 23, 49, 28, 36, 45, 42, 6, 61, 59, 67, 65, 0, 16, 52, 41, 25, 62, 20, 50, 30, 60, 19, 35, 57, 27, 44, 53, 12, 46, 39, 29, 38, 68, 21]</td>\n",
       "    </tr>\n",
       "    <tr>\n",
       "      <th>2</th>\n",
       "      <td>OnlineSecurity</td>\n",
       "      <td>object</td>\n",
       "      <td>4930</td>\n",
       "      <td>0</td>\n",
       "      <td>0.0</td>\n",
       "      <td>3</td>\n",
       "      <td>[No, Yes, No internet service]</td>\n",
       "    </tr>\n",
       "    <tr>\n",
       "      <th>3</th>\n",
       "      <td>OnlineBackup</td>\n",
       "      <td>object</td>\n",
       "      <td>4930</td>\n",
       "      <td>0</td>\n",
       "      <td>0.0</td>\n",
       "      <td>3</td>\n",
       "      <td>[No, Yes, No internet service]</td>\n",
       "    </tr>\n",
       "    <tr>\n",
       "      <th>4</th>\n",
       "      <td>InternetService</td>\n",
       "      <td>object</td>\n",
       "      <td>4930</td>\n",
       "      <td>0</td>\n",
       "      <td>0.0</td>\n",
       "      <td>3</td>\n",
       "      <td>[DSL, Fiber optic, No]</td>\n",
       "    </tr>\n",
       "    <tr>\n",
       "      <th>5</th>\n",
       "      <td>DeviceProtection</td>\n",
       "      <td>object</td>\n",
       "      <td>4930</td>\n",
       "      <td>0</td>\n",
       "      <td>0.0</td>\n",
       "      <td>3</td>\n",
       "      <td>[Yes, No internet service, No]</td>\n",
       "    </tr>\n",
       "    <tr>\n",
       "      <th>6</th>\n",
       "      <td>TechSupport</td>\n",
       "      <td>object</td>\n",
       "      <td>4930</td>\n",
       "      <td>0</td>\n",
       "      <td>0.0</td>\n",
       "      <td>3</td>\n",
       "      <td>[Yes, No, No internet service]</td>\n",
       "    </tr>\n",
       "    <tr>\n",
       "      <th>7</th>\n",
       "      <td>Contract</td>\n",
       "      <td>object</td>\n",
       "      <td>4930</td>\n",
       "      <td>0</td>\n",
       "      <td>0.0</td>\n",
       "      <td>3</td>\n",
       "      <td>[Month-to-month, Two year, One year]</td>\n",
       "    </tr>\n",
       "    <tr>\n",
       "      <th>8</th>\n",
       "      <td>PaperlessBilling</td>\n",
       "      <td>object</td>\n",
       "      <td>4930</td>\n",
       "      <td>0</td>\n",
       "      <td>0.0</td>\n",
       "      <td>2</td>\n",
       "      <td>[Yes, No]</td>\n",
       "    </tr>\n",
       "    <tr>\n",
       "      <th>9</th>\n",
       "      <td>MonthlyCharges</td>\n",
       "      <td>float64</td>\n",
       "      <td>4930</td>\n",
       "      <td>0</td>\n",
       "      <td>0.0</td>\n",
       "      <td>1422</td>\n",
       "      <td>[72.9, 82.65, 47.85, 69.65, 23.6, 74.55, 19.7, 44.05, 73.5, 40.3, 33.6, 96.25, 70.45, 30.55, 44.8, 20.0, 81.5, 94.35, 35.3, 50.7, 106.05, 56.3, 20.65, 98.9, 40.2, 81.2, 19.45, 116.1, 55.2, 94.45, 84.85, 19.6, 79.0, 74.7, 30.4, 55.8, 104.5, 70.55, 55.25, 96.65, 88.85, 109.25, 104.75, 74.4, 79.4, 74.1, 73.05, 94.6, 70.35, 79.6, 79.5, 90.7, 81.0, 87.75, 118.65, 24.8, 105.25, 57.8, 19.0, 25.7, 54.2, 44.85, 19.95, 81.05, 20.35, 85.25, 67.45, 100.3, 20.95, 105.2, 26.35, 82.15, 102.6, 106.15, 23.95, 115.8, 66.85, 90.35, 89.85, 73.35, 104.45, 35.45, 88.4, 70.5, 25.1, 39.0, 83.25, 74.3, 54.3, 50.45, 86.0, 19.55, 103.5, 91.7, 64.85, 99.65, 68.75, 106.25, 75.9, 94.4, ...]</td>\n",
       "    </tr>\n",
       "    <tr>\n",
       "      <th>10</th>\n",
       "      <td>Churn</td>\n",
       "      <td>object</td>\n",
       "      <td>4930</td>\n",
       "      <td>0</td>\n",
       "      <td>0.0</td>\n",
       "      <td>2</td>\n",
       "      <td>[Yes, No]</td>\n",
       "    </tr>\n",
       "  </tbody>\n",
       "</table>\n",
       "</div>"
      ],
      "text/plain": [
       "             Atribut Tipe_Data  Jumlah_Data  Jumlah_Null  Null_%  Total_Unik  \\\n",
       "0         Dependents    object         4930            0     0.0           2   \n",
       "1             tenure     int64         4930            0     0.0          73   \n",
       "2     OnlineSecurity    object         4930            0     0.0           3   \n",
       "3       OnlineBackup    object         4930            0     0.0           3   \n",
       "4    InternetService    object         4930            0     0.0           3   \n",
       "5   DeviceProtection    object         4930            0     0.0           3   \n",
       "6        TechSupport    object         4930            0     0.0           3   \n",
       "7           Contract    object         4930            0     0.0           3   \n",
       "8   PaperlessBilling    object         4930            0     0.0           2   \n",
       "9     MonthlyCharges   float64         4930            0     0.0        1422   \n",
       "10             Churn    object         4930            0     0.0           2   \n",
       "\n",
       "                                                                                                                                                                                                                                                                                                                                                                                                                                                                                                                                                                                                                                                                                       Nilai_Unik  \n",
       "0                                                                                                                                                                                                                                                                                                                                                                                                                                                                                                                                                                                                                                                                                       [Yes, No]  \n",
       "1                                                                                                                                                                                                                                                                                                                                                                                                      [9, 14, 64, 72, 3, 40, 17, 11, 8, 47, 18, 5, 1, 48, 13, 58, 7, 4, 70, 34, 31, 37, 15, 71, 10, 43, 22, 33, 69, 54, 63, 55, 66, 56, 32, 26, 24, 2, 51, 23, 49, 28, 36, 45, 42, 6, 61, 59, 67, 65, 0, 16, 52, 41, 25, 62, 20, 50, 30, 60, 19, 35, 57, 27, 44, 53, 12, 46, 39, 29, 38, 68, 21]  \n",
       "2                                                                                                                                                                                                                                                                                                                                                                                                                                                                                                                                                                                                                                                                  [No, Yes, No internet service]  \n",
       "3                                                                                                                                                                                                                                                                                                                                                                                                                                                                                                                                                                                                                                                                  [No, Yes, No internet service]  \n",
       "4                                                                                                                                                                                                                                                                                                                                                                                                                                                                                                                                                                                                                                                                          [DSL, Fiber optic, No]  \n",
       "5                                                                                                                                                                                                                                                                                                                                                                                                                                                                                                                                                                                                                                                                  [Yes, No internet service, No]  \n",
       "6                                                                                                                                                                                                                                                                                                                                                                                                                                                                                                                                                                                                                                                                  [Yes, No, No internet service]  \n",
       "7                                                                                                                                                                                                                                                                                                                                                                                                                                                                                                                                                                                                                                                            [Month-to-month, Two year, One year]  \n",
       "8                                                                                                                                                                                                                                                                                                                                                                                                                                                                                                                                                                                                                                                                                       [Yes, No]  \n",
       "9   [72.9, 82.65, 47.85, 69.65, 23.6, 74.55, 19.7, 44.05, 73.5, 40.3, 33.6, 96.25, 70.45, 30.55, 44.8, 20.0, 81.5, 94.35, 35.3, 50.7, 106.05, 56.3, 20.65, 98.9, 40.2, 81.2, 19.45, 116.1, 55.2, 94.45, 84.85, 19.6, 79.0, 74.7, 30.4, 55.8, 104.5, 70.55, 55.25, 96.65, 88.85, 109.25, 104.75, 74.4, 79.4, 74.1, 73.05, 94.6, 70.35, 79.6, 79.5, 90.7, 81.0, 87.75, 118.65, 24.8, 105.25, 57.8, 19.0, 25.7, 54.2, 44.85, 19.95, 81.05, 20.35, 85.25, 67.45, 100.3, 20.95, 105.2, 26.35, 82.15, 102.6, 106.15, 23.95, 115.8, 66.85, 90.35, 89.85, 73.35, 104.45, 35.45, 88.4, 70.5, 25.1, 39.0, 83.25, 74.3, 54.3, 50.45, 86.0, 19.55, 103.5, 91.7, 64.85, 99.65, 68.75, 106.25, 75.9, 94.4, ...]  \n",
       "10                                                                                                                                                                                                                                                                                                                                                                                                                                                                                                                                                                                                                                                                                      [Yes, No]  "
      ]
     },
     "execution_count": 542,
     "metadata": {},
     "output_type": "execute_result"
    }
   ],
   "source": [
    "df_info"
   ]
  },
  {
   "cell_type": "markdown",
   "metadata": {},
   "source": [
    "Diketahui :\n",
    "\n",
    "        - Kolom kategorikal : Dependents, OnlineSecurity, OnlineBackup, InternetService, DeviceProtection, TechSupport, Contract, PaperlessBilling, Churn\n",
    "        - Semua Data Numerik tidak terdistribrusi normal\n",
    "\n",
    "Metode : \n",
    "\n",
    "        - Kruskal Wallis Test"
   ]
  },
  {
   "cell_type": "markdown",
   "metadata": {},
   "source": [
    "A. Dependents"
   ]
  },
  {
   "cell_type": "code",
   "execution_count": 543,
   "metadata": {},
   "outputs": [],
   "source": [
    "list_kolom = []\n",
    "list_hasil = []\n",
    "\n",
    "for atribut in df.describe().columns:\n",
    "    stat, pvalue = kruskal(\n",
    "        df[df['Dependents']=='Yes'][atribut],\n",
    "        df[df['Dependents']=='No'][atribut])\n",
    "    if pvalue > 0.05:\n",
    "        list_hasil.append('Tidak Berhubungan')\n",
    "    else:\n",
    "        list_hasil.append('Berhubungan')\n",
    "    list_kolom.append(atribut)\n",
    "\n",
    "hubungan_dependents = pd.DataFrame(list_hasil,list_kolom)\n",
    "hubungan_dependents.rename(columns={0:'Dependents'}, inplace=True)\n",
    "hubungan_dependents = hubungan_dependents.T"
   ]
  },
  {
   "cell_type": "markdown",
   "metadata": {},
   "source": [
    "B. Online Security"
   ]
  },
  {
   "cell_type": "code",
   "execution_count": 544,
   "metadata": {},
   "outputs": [],
   "source": [
    "list_kolom = []\n",
    "list_hasil = []\n",
    "\n",
    "for atribut in df.describe().columns:\n",
    "    stat, pvalue = kruskal(\n",
    "        df[df['OnlineSecurity']=='Yes'][atribut],\n",
    "        df[df['OnlineSecurity']=='No'][atribut],\n",
    "        df[df['OnlineSecurity']=='No internet service'][atribut])\n",
    "    if pvalue > 0.05:\n",
    "        list_hasil.append('Tidak Berhubungan')\n",
    "    else:\n",
    "        list_hasil.append('Berhubungan')\n",
    "    list_kolom.append(atribut)\n",
    "\n",
    "hubungan_onlinesecurity = pd.DataFrame(list_hasil,list_kolom)\n",
    "hubungan_onlinesecurity.rename(columns={0:'OnlineSecurity'}, inplace=True)\n",
    "hubungan_onlinesecurity = hubungan_onlinesecurity.T"
   ]
  },
  {
   "cell_type": "markdown",
   "metadata": {},
   "source": [
    "C. Online Backup"
   ]
  },
  {
   "cell_type": "code",
   "execution_count": 545,
   "metadata": {},
   "outputs": [],
   "source": [
    "list_kolom = []\n",
    "list_hasil = []\n",
    "\n",
    "for atribut in df.describe().columns:\n",
    "    stat, pvalue = kruskal(\n",
    "        df[df['OnlineBackup']=='Yes'][atribut],\n",
    "        df[df['OnlineBackup']=='No'][atribut],\n",
    "        df[df['OnlineBackup']=='No internet service'][atribut])\n",
    "    if pvalue > 0.05:\n",
    "        list_hasil.append('Tidak Berhubungan')\n",
    "    else:\n",
    "        list_hasil.append('Berhubungan')\n",
    "    list_kolom.append(atribut)\n",
    "\n",
    "hubungan_onlinebackup = pd.DataFrame(list_hasil,list_kolom)\n",
    "hubungan_onlinebackup.rename(columns={0:'OnlineBackup'}, inplace=True)\n",
    "hubungan_onlinebackup = hubungan_onlinebackup.T"
   ]
  },
  {
   "cell_type": "markdown",
   "metadata": {},
   "source": [
    "D. Internet Service"
   ]
  },
  {
   "cell_type": "code",
   "execution_count": 546,
   "metadata": {},
   "outputs": [],
   "source": [
    "list_kolom = []\n",
    "list_hasil = []\n",
    "\n",
    "for atribut in df.describe().columns:\n",
    "    stat, pvalue = kruskal(\n",
    "        df[df['InternetService']=='DSL'][atribut],\n",
    "        df[df['InternetService']=='Fiber Optic'][atribut],\n",
    "        df[df['InternetService']=='No'][atribut])\n",
    "    if pvalue > 0.05:\n",
    "        list_hasil.append('Tidak Berhubungan')\n",
    "    else:\n",
    "        list_hasil.append('Berhubungan')\n",
    "    list_kolom.append(atribut)\n",
    "\n",
    "hubungan_internetservice = pd.DataFrame(list_hasil,list_kolom)\n",
    "hubungan_internetservice.rename(columns={0:'InternetService'}, inplace=True)\n",
    "hubungan_internetservice = hubungan_internetservice.T"
   ]
  },
  {
   "cell_type": "markdown",
   "metadata": {},
   "source": [
    "E. Device Protection"
   ]
  },
  {
   "cell_type": "code",
   "execution_count": 547,
   "metadata": {},
   "outputs": [],
   "source": [
    "list_kolom = []\n",
    "list_hasil = []\n",
    "\n",
    "for atribut in df.describe().columns:\n",
    "    stat, pvalue = kruskal(\n",
    "        df[df['DeviceProtection']=='Yes'][atribut],\n",
    "        df[df['DeviceProtection']=='No'][atribut],\n",
    "        df[df['DeviceProtection']=='No internet service'][atribut])\n",
    "    if pvalue > 0.05:\n",
    "        list_hasil.append('Tidak Berhubungan')\n",
    "    else:\n",
    "        list_hasil.append('Berhubungan')\n",
    "    list_kolom.append(atribut)\n",
    "\n",
    "hubungan_deviceprotection = pd.DataFrame(list_hasil,list_kolom)\n",
    "hubungan_deviceprotection.rename(columns={0:'DeviceProtection'}, inplace=True)\n",
    "hubungan_deviceprotection = hubungan_deviceprotection.T"
   ]
  },
  {
   "cell_type": "markdown",
   "metadata": {},
   "source": [
    "F. Tech Support"
   ]
  },
  {
   "cell_type": "code",
   "execution_count": 548,
   "metadata": {},
   "outputs": [],
   "source": [
    "list_kolom = []\n",
    "list_hasil = []\n",
    "\n",
    "for atribut in df.describe().columns:\n",
    "    stat, pvalue = kruskal(\n",
    "        df[df['TechSupport']=='Yes'][atribut],\n",
    "        df[df['TechSupport']=='No'][atribut],\n",
    "        df[df['TechSupport']=='No internet service'][atribut])\n",
    "    if pvalue > 0.05:\n",
    "        list_hasil.append('Tidak Berhubungan')\n",
    "    else:\n",
    "        list_hasil.append('Berhubungan')\n",
    "    list_kolom.append(atribut)\n",
    "\n",
    "hubungan_techsupport = pd.DataFrame(list_hasil,list_kolom)\n",
    "hubungan_techsupport.rename(columns={0:'TechSupport'}, inplace=True)\n",
    "hubungan_techsupport = hubungan_techsupport.T"
   ]
  },
  {
   "cell_type": "markdown",
   "metadata": {},
   "source": [
    "G. Contract"
   ]
  },
  {
   "cell_type": "code",
   "execution_count": 549,
   "metadata": {},
   "outputs": [],
   "source": [
    "list_kolom = []\n",
    "list_hasil = []\n",
    "\n",
    "for atribut in df.describe().columns:\n",
    "    stat, pvalue = kruskal(\n",
    "        df[df['Contract']=='Month-to-month'][atribut],\n",
    "        df[df['Contract']=='Two year'][atribut],\n",
    "        df[df['Contract']=='One year'][atribut])\n",
    "    if pvalue > 0.05:\n",
    "        list_hasil.append('Tidak Berhubungan')\n",
    "    else:\n",
    "        list_hasil.append('Berhubungan')\n",
    "    list_kolom.append(atribut)\n",
    "\n",
    "hubungan_contract = pd.DataFrame(list_hasil,list_kolom)\n",
    "hubungan_contract.rename(columns={0:'Contract'}, inplace=True)\n",
    "hubungan_contract = hubungan_contract.T"
   ]
  },
  {
   "cell_type": "markdown",
   "metadata": {},
   "source": [
    "H. Paperless Billing"
   ]
  },
  {
   "cell_type": "code",
   "execution_count": 550,
   "metadata": {},
   "outputs": [],
   "source": [
    "list_kolom = []\n",
    "list_hasil = []\n",
    "\n",
    "for atribut in df.describe().columns:\n",
    "    stat, pvalue = kruskal(\n",
    "        df[df['PaperlessBilling']=='Yes'][atribut],\n",
    "        df[df['PaperlessBilling']=='No'][atribut])\n",
    "    if pvalue > 0.05:\n",
    "        list_hasil.append('Tidak Berhubungan')\n",
    "    else:\n",
    "        list_hasil.append('Berhubungan')\n",
    "    list_kolom.append(atribut)\n",
    "\n",
    "hubungan_paperlessbilling = pd.DataFrame(list_hasil,list_kolom)\n",
    "hubungan_paperlessbilling.rename(columns={0:'PaperlessBilling'}, inplace=True)\n",
    "hubungan_paperlessbilling = hubungan_paperlessbilling.T"
   ]
  },
  {
   "cell_type": "markdown",
   "metadata": {},
   "source": [
    "I. Churn"
   ]
  },
  {
   "cell_type": "code",
   "execution_count": 551,
   "metadata": {},
   "outputs": [],
   "source": [
    "list_kolom = []\n",
    "list_hasil = []\n",
    "\n",
    "for atribut in df.describe().columns:\n",
    "    stat, pvalue = kruskal(\n",
    "        df[df['Churn']=='Yes'][atribut],\n",
    "        df[df['Churn']=='No'][atribut])\n",
    "    if pvalue > 0.05:\n",
    "        list_hasil.append('Tidak Berhubungan')\n",
    "    else:\n",
    "        list_hasil.append('Berhubungan')\n",
    "    list_kolom.append(atribut)\n",
    "\n",
    "hubungan_churn = pd.DataFrame(list_hasil,list_kolom)\n",
    "hubungan_churn.rename(columns={0:'Churn'}, inplace=True)\n",
    "hubungan_churn = hubungan_churn.T"
   ]
  },
  {
   "cell_type": "code",
   "execution_count": 552,
   "metadata": {},
   "outputs": [
    {
     "data": {
      "text/html": [
       "<div>\n",
       "<style scoped>\n",
       "    .dataframe tbody tr th:only-of-type {\n",
       "        vertical-align: middle;\n",
       "    }\n",
       "\n",
       "    .dataframe tbody tr th {\n",
       "        vertical-align: top;\n",
       "    }\n",
       "\n",
       "    .dataframe thead th {\n",
       "        text-align: right;\n",
       "    }\n",
       "</style>\n",
       "<table border=\"1\" class=\"dataframe\">\n",
       "  <thead>\n",
       "    <tr style=\"text-align: right;\">\n",
       "      <th></th>\n",
       "      <th>tenure</th>\n",
       "      <th>MonthlyCharges</th>\n",
       "    </tr>\n",
       "  </thead>\n",
       "  <tbody>\n",
       "    <tr>\n",
       "      <th>Dependents</th>\n",
       "      <td>Berhubungan</td>\n",
       "      <td>Berhubungan</td>\n",
       "    </tr>\n",
       "    <tr>\n",
       "      <th>OnlineSecurity</th>\n",
       "      <td>Berhubungan</td>\n",
       "      <td>Berhubungan</td>\n",
       "    </tr>\n",
       "    <tr>\n",
       "      <th>OnlineBackup</th>\n",
       "      <td>Berhubungan</td>\n",
       "      <td>Berhubungan</td>\n",
       "    </tr>\n",
       "    <tr>\n",
       "      <th>InternetService</th>\n",
       "      <td>Berhubungan</td>\n",
       "      <td>Berhubungan</td>\n",
       "    </tr>\n",
       "    <tr>\n",
       "      <th>DeviceProtection</th>\n",
       "      <td>Berhubungan</td>\n",
       "      <td>Berhubungan</td>\n",
       "    </tr>\n",
       "    <tr>\n",
       "      <th>TechSupport</th>\n",
       "      <td>Berhubungan</td>\n",
       "      <td>Berhubungan</td>\n",
       "    </tr>\n",
       "    <tr>\n",
       "      <th>Contract</th>\n",
       "      <td>Berhubungan</td>\n",
       "      <td>Berhubungan</td>\n",
       "    </tr>\n",
       "    <tr>\n",
       "      <th>PaperlessBilling</th>\n",
       "      <td>Tidak Berhubungan</td>\n",
       "      <td>Berhubungan</td>\n",
       "    </tr>\n",
       "    <tr>\n",
       "      <th>Churn</th>\n",
       "      <td>Berhubungan</td>\n",
       "      <td>Berhubungan</td>\n",
       "    </tr>\n",
       "  </tbody>\n",
       "</table>\n",
       "</div>"
      ],
      "text/plain": [
       "                             tenure MonthlyCharges\n",
       "Dependents              Berhubungan    Berhubungan\n",
       "OnlineSecurity          Berhubungan    Berhubungan\n",
       "OnlineBackup            Berhubungan    Berhubungan\n",
       "InternetService         Berhubungan    Berhubungan\n",
       "DeviceProtection        Berhubungan    Berhubungan\n",
       "TechSupport             Berhubungan    Berhubungan\n",
       "Contract                Berhubungan    Berhubungan\n",
       "PaperlessBilling  Tidak Berhubungan    Berhubungan\n",
       "Churn                   Berhubungan    Berhubungan"
      ]
     },
     "execution_count": 552,
     "metadata": {},
     "output_type": "execute_result"
    }
   ],
   "source": [
    "df_numerikal_vs_kategorikal = pd.concat([hubungan_dependents, hubungan_onlinesecurity, hubungan_onlinebackup, hubungan_internetservice, hubungan_deviceprotection, hubungan_techsupport,\n",
    "hubungan_contract, hubungan_paperlessbilling, hubungan_churn ], axis = 0)\n",
    "\n",
    "df_numerikal_vs_kategorikal"
   ]
  },
  {
   "cell_type": "markdown",
   "metadata": {},
   "source": [
    "# **5. Data Splitting**"
   ]
  },
  {
   "cell_type": "markdown",
   "metadata": {},
   "source": [
    "Disini nilai 'Yes' pada kolom churn akan ditetapkan sebagai 1, dan untuk nilai 'No' pada kolom churn akan ditetapkan sebagai 0"
   ]
  },
  {
   "cell_type": "code",
   "execution_count": 553,
   "metadata": {},
   "outputs": [],
   "source": [
    "df['Churn'] = np.where(df['Churn']=='Yes', 1, 0)"
   ]
  },
  {
   "cell_type": "code",
   "execution_count": 554,
   "metadata": {},
   "outputs": [],
   "source": [
    "# define fetures and target\n",
    "X = df.drop(['Churn'], axis = 1)\n",
    "y = df['Churn']"
   ]
  },
  {
   "cell_type": "code",
   "execution_count": 555,
   "metadata": {},
   "outputs": [],
   "source": [
    "# data splitting\n",
    "X_train, X_test, y_train, y_test = train_test_split(\n",
    "    X,\n",
    "    y, \n",
    "    stratify=y, \n",
    "    test_size=0.2,\n",
    "    random_state=8\n",
    ")"
   ]
  },
  {
   "cell_type": "markdown",
   "metadata": {},
   "source": [
    "# **6. Data Preprocessing**"
   ]
  },
  {
   "cell_type": "code",
   "execution_count": 556,
   "metadata": {},
   "outputs": [
    {
     "data": {
      "text/html": [
       "<div>\n",
       "<style scoped>\n",
       "    .dataframe tbody tr th:only-of-type {\n",
       "        vertical-align: middle;\n",
       "    }\n",
       "\n",
       "    .dataframe tbody tr th {\n",
       "        vertical-align: top;\n",
       "    }\n",
       "\n",
       "    .dataframe thead th {\n",
       "        text-align: right;\n",
       "    }\n",
       "</style>\n",
       "<table border=\"1\" class=\"dataframe\">\n",
       "  <thead>\n",
       "    <tr style=\"text-align: right;\">\n",
       "      <th></th>\n",
       "      <th>Atribut</th>\n",
       "      <th>Tipe_Data</th>\n",
       "      <th>Jumlah_Data</th>\n",
       "      <th>Jumlah_Null</th>\n",
       "      <th>Null_%</th>\n",
       "      <th>Total_Unik</th>\n",
       "      <th>Nilai_Unik</th>\n",
       "    </tr>\n",
       "  </thead>\n",
       "  <tbody>\n",
       "    <tr>\n",
       "      <th>0</th>\n",
       "      <td>Dependents</td>\n",
       "      <td>object</td>\n",
       "      <td>4930</td>\n",
       "      <td>0</td>\n",
       "      <td>0.0</td>\n",
       "      <td>2</td>\n",
       "      <td>[Yes, No]</td>\n",
       "    </tr>\n",
       "    <tr>\n",
       "      <th>1</th>\n",
       "      <td>tenure</td>\n",
       "      <td>int64</td>\n",
       "      <td>4930</td>\n",
       "      <td>0</td>\n",
       "      <td>0.0</td>\n",
       "      <td>73</td>\n",
       "      <td>[9, 14, 64, 72, 3, 40, 17, 11, 8, 47, 18, 5, 1, 48, 13, 58, 7, 4, 70, 34, 31, 37, 15, 71, 10, 43, 22, 33, 69, 54, 63, 55, 66, 56, 32, 26, 24, 2, 51, 23, 49, 28, 36, 45, 42, 6, 61, 59, 67, 65, 0, 16, 52, 41, 25, 62, 20, 50, 30, 60, 19, 35, 57, 27, 44, 53, 12, 46, 39, 29, 38, 68, 21]</td>\n",
       "    </tr>\n",
       "    <tr>\n",
       "      <th>2</th>\n",
       "      <td>OnlineSecurity</td>\n",
       "      <td>object</td>\n",
       "      <td>4930</td>\n",
       "      <td>0</td>\n",
       "      <td>0.0</td>\n",
       "      <td>3</td>\n",
       "      <td>[No, Yes, No internet service]</td>\n",
       "    </tr>\n",
       "    <tr>\n",
       "      <th>3</th>\n",
       "      <td>OnlineBackup</td>\n",
       "      <td>object</td>\n",
       "      <td>4930</td>\n",
       "      <td>0</td>\n",
       "      <td>0.0</td>\n",
       "      <td>3</td>\n",
       "      <td>[No, Yes, No internet service]</td>\n",
       "    </tr>\n",
       "    <tr>\n",
       "      <th>4</th>\n",
       "      <td>InternetService</td>\n",
       "      <td>object</td>\n",
       "      <td>4930</td>\n",
       "      <td>0</td>\n",
       "      <td>0.0</td>\n",
       "      <td>3</td>\n",
       "      <td>[DSL, Fiber optic, No]</td>\n",
       "    </tr>\n",
       "    <tr>\n",
       "      <th>5</th>\n",
       "      <td>DeviceProtection</td>\n",
       "      <td>object</td>\n",
       "      <td>4930</td>\n",
       "      <td>0</td>\n",
       "      <td>0.0</td>\n",
       "      <td>3</td>\n",
       "      <td>[Yes, No internet service, No]</td>\n",
       "    </tr>\n",
       "    <tr>\n",
       "      <th>6</th>\n",
       "      <td>TechSupport</td>\n",
       "      <td>object</td>\n",
       "      <td>4930</td>\n",
       "      <td>0</td>\n",
       "      <td>0.0</td>\n",
       "      <td>3</td>\n",
       "      <td>[Yes, No, No internet service]</td>\n",
       "    </tr>\n",
       "    <tr>\n",
       "      <th>7</th>\n",
       "      <td>Contract</td>\n",
       "      <td>object</td>\n",
       "      <td>4930</td>\n",
       "      <td>0</td>\n",
       "      <td>0.0</td>\n",
       "      <td>3</td>\n",
       "      <td>[Month-to-month, Two year, One year]</td>\n",
       "    </tr>\n",
       "    <tr>\n",
       "      <th>8</th>\n",
       "      <td>PaperlessBilling</td>\n",
       "      <td>object</td>\n",
       "      <td>4930</td>\n",
       "      <td>0</td>\n",
       "      <td>0.0</td>\n",
       "      <td>2</td>\n",
       "      <td>[Yes, No]</td>\n",
       "    </tr>\n",
       "    <tr>\n",
       "      <th>9</th>\n",
       "      <td>MonthlyCharges</td>\n",
       "      <td>float64</td>\n",
       "      <td>4930</td>\n",
       "      <td>0</td>\n",
       "      <td>0.0</td>\n",
       "      <td>1422</td>\n",
       "      <td>[72.9, 82.65, 47.85, 69.65, 23.6, 74.55, 19.7, 44.05, 73.5, 40.3, 33.6, 96.25, 70.45, 30.55, 44.8, 20.0, 81.5, 94.35, 35.3, 50.7, 106.05, 56.3, 20.65, 98.9, 40.2, 81.2, 19.45, 116.1, 55.2, 94.45, 84.85, 19.6, 79.0, 74.7, 30.4, 55.8, 104.5, 70.55, 55.25, 96.65, 88.85, 109.25, 104.75, 74.4, 79.4, 74.1, 73.05, 94.6, 70.35, 79.6, 79.5, 90.7, 81.0, 87.75, 118.65, 24.8, 105.25, 57.8, 19.0, 25.7, 54.2, 44.85, 19.95, 81.05, 20.35, 85.25, 67.45, 100.3, 20.95, 105.2, 26.35, 82.15, 102.6, 106.15, 23.95, 115.8, 66.85, 90.35, 89.85, 73.35, 104.45, 35.45, 88.4, 70.5, 25.1, 39.0, 83.25, 74.3, 54.3, 50.45, 86.0, 19.55, 103.5, 91.7, 64.85, 99.65, 68.75, 106.25, 75.9, 94.4, ...]</td>\n",
       "    </tr>\n",
       "    <tr>\n",
       "      <th>10</th>\n",
       "      <td>Churn</td>\n",
       "      <td>object</td>\n",
       "      <td>4930</td>\n",
       "      <td>0</td>\n",
       "      <td>0.0</td>\n",
       "      <td>2</td>\n",
       "      <td>[Yes, No]</td>\n",
       "    </tr>\n",
       "  </tbody>\n",
       "</table>\n",
       "</div>"
      ],
      "text/plain": [
       "             Atribut Tipe_Data  Jumlah_Data  Jumlah_Null  Null_%  Total_Unik  \\\n",
       "0         Dependents    object         4930            0     0.0           2   \n",
       "1             tenure     int64         4930            0     0.0          73   \n",
       "2     OnlineSecurity    object         4930            0     0.0           3   \n",
       "3       OnlineBackup    object         4930            0     0.0           3   \n",
       "4    InternetService    object         4930            0     0.0           3   \n",
       "5   DeviceProtection    object         4930            0     0.0           3   \n",
       "6        TechSupport    object         4930            0     0.0           3   \n",
       "7           Contract    object         4930            0     0.0           3   \n",
       "8   PaperlessBilling    object         4930            0     0.0           2   \n",
       "9     MonthlyCharges   float64         4930            0     0.0        1422   \n",
       "10             Churn    object         4930            0     0.0           2   \n",
       "\n",
       "                                                                                                                                                                                                                                                                                                                                                                                                                                                                                                                                                                                                                                                                                       Nilai_Unik  \n",
       "0                                                                                                                                                                                                                                                                                                                                                                                                                                                                                                                                                                                                                                                                                       [Yes, No]  \n",
       "1                                                                                                                                                                                                                                                                                                                                                                                                      [9, 14, 64, 72, 3, 40, 17, 11, 8, 47, 18, 5, 1, 48, 13, 58, 7, 4, 70, 34, 31, 37, 15, 71, 10, 43, 22, 33, 69, 54, 63, 55, 66, 56, 32, 26, 24, 2, 51, 23, 49, 28, 36, 45, 42, 6, 61, 59, 67, 65, 0, 16, 52, 41, 25, 62, 20, 50, 30, 60, 19, 35, 57, 27, 44, 53, 12, 46, 39, 29, 38, 68, 21]  \n",
       "2                                                                                                                                                                                                                                                                                                                                                                                                                                                                                                                                                                                                                                                                  [No, Yes, No internet service]  \n",
       "3                                                                                                                                                                                                                                                                                                                                                                                                                                                                                                                                                                                                                                                                  [No, Yes, No internet service]  \n",
       "4                                                                                                                                                                                                                                                                                                                                                                                                                                                                                                                                                                                                                                                                          [DSL, Fiber optic, No]  \n",
       "5                                                                                                                                                                                                                                                                                                                                                                                                                                                                                                                                                                                                                                                                  [Yes, No internet service, No]  \n",
       "6                                                                                                                                                                                                                                                                                                                                                                                                                                                                                                                                                                                                                                                                  [Yes, No, No internet service]  \n",
       "7                                                                                                                                                                                                                                                                                                                                                                                                                                                                                                                                                                                                                                                            [Month-to-month, Two year, One year]  \n",
       "8                                                                                                                                                                                                                                                                                                                                                                                                                                                                                                                                                                                                                                                                                       [Yes, No]  \n",
       "9   [72.9, 82.65, 47.85, 69.65, 23.6, 74.55, 19.7, 44.05, 73.5, 40.3, 33.6, 96.25, 70.45, 30.55, 44.8, 20.0, 81.5, 94.35, 35.3, 50.7, 106.05, 56.3, 20.65, 98.9, 40.2, 81.2, 19.45, 116.1, 55.2, 94.45, 84.85, 19.6, 79.0, 74.7, 30.4, 55.8, 104.5, 70.55, 55.25, 96.65, 88.85, 109.25, 104.75, 74.4, 79.4, 74.1, 73.05, 94.6, 70.35, 79.6, 79.5, 90.7, 81.0, 87.75, 118.65, 24.8, 105.25, 57.8, 19.0, 25.7, 54.2, 44.85, 19.95, 81.05, 20.35, 85.25, 67.45, 100.3, 20.95, 105.2, 26.35, 82.15, 102.6, 106.15, 23.95, 115.8, 66.85, 90.35, 89.85, 73.35, 104.45, 35.45, 88.4, 70.5, 25.1, 39.0, 83.25, 74.3, 54.3, 50.45, 86.0, 19.55, 103.5, 91.7, 64.85, 99.65, 68.75, 106.25, 75.9, 94.4, ...]  \n",
       "10                                                                                                                                                                                                                                                                                                                                                                                                                                                                                                                                                                                                                                                                                      [Yes, No]  "
      ]
     },
     "execution_count": 556,
     "metadata": {},
     "output_type": "execute_result"
    }
   ],
   "source": [
    "df_info"
   ]
  },
  {
   "cell_type": "code",
   "execution_count": 557,
   "metadata": {},
   "outputs": [],
   "source": [
    "# A. Transformer\n",
    "# _____________________________________________________________________________________________________________________\n",
    "# Onehot encoding = Dependents, OnlineSecurity, OnlineBackup, InternetService, DeviceProtection, TechSupport, Contract, PaperlessBilling, Churn\n",
    "transformer = ColumnTransformer([\n",
    "    ('onehot', OneHotEncoder(drop='first'), ['Dependents', 'OnlineSecurity','OnlineBackup','InternetService','DeviceProtection','TechSupport',\n",
    "    'Contract','PaperlessBilling'])\n",
    "], remainder='passthrough')"
   ]
  },
  {
   "cell_type": "markdown",
   "metadata": {},
   "source": [
    "Onehot encoding digunakan karena seperti yang dapat dilihat pada tabel diatas,<br>\n",
    "atribut-atribut yang ingin dirubah total unik nya tidak terlalu banyak.<br>\n",
    "Selain itu, setiap atribut kategorikal yang dirubah tidak memiliki urutan/ orde."
   ]
  },
  {
   "cell_type": "code",
   "execution_count": 558,
   "metadata": {},
   "outputs": [],
   "source": [
    "# B. Resampling\n",
    "# _____________________________________________________________________________________________________________________\n",
    "smote = SMOTE(random_state=0)\n",
    "ros = RandomOverSampler(random_state=0)"
   ]
  },
  {
   "cell_type": "markdown",
   "metadata": {},
   "source": [
    "Karena data kita *mild imbalance*, maka dibutuhkan penanganan untuk data imbalance tersebut.<br>\n",
    "Salah satu cara untuk mengatasinya adalah menggunakan resampling.<br>\n",
    "Metode resampling yang digunakan adalah metode over sampling. <br>\n",
    "Karena jika menggunakan undersampling akan banyak data yang terbuang yaitu 2277 data (lebih dari 50%). <br>"
   ]
  },
  {
   "cell_type": "code",
   "execution_count": 559,
   "metadata": {},
   "outputs": [],
   "source": [
    "# C. Model Benchmark\n",
    "# _____________________________________________________________________________________________________________________\n",
    "# 1. Logistic Regression\n",
    "logreg = LogisticRegression(random_state = 0)\n",
    "\n",
    "# 2. KNN\n",
    "knn = KNeighborsClassifier()\n",
    "\n",
    "# 3. DecsionTree\n",
    "tree = DecisionTreeClassifier(random_state=0)\n",
    "\n",
    "# 4. RandomForest\n",
    "rf = RandomForestClassifier(random_state=0)\n",
    "\n",
    "# 5. Adaboost\n",
    "ada = AdaBoostClassifier(tree, random_state=0)\n",
    "\n",
    "# 6. Gradientboost\n",
    "gbc = GradientBoostingClassifier(random_state=0)\n",
    "\n",
    "# 7. ExtremeGradientBoost\n",
    "xgbc = XGBClassifier(random_state=0, verbosity=0)"
   ]
  },
  {
   "cell_type": "markdown",
   "metadata": {},
   "source": [
    "Terdapat 7 metode yang akan dibandingkan hasilnya."
   ]
  },
  {
   "cell_type": "code",
   "execution_count": 560,
   "metadata": {},
   "outputs": [],
   "source": [
    "# D. Scaler\n",
    "# _____________________________________________________________________________________________________________________\n",
    "robust = RobustScaler()\n",
    "minmax = MinMaxScaler()\n",
    "standard = StandardScaler()"
   ]
  },
  {
   "cell_type": "markdown",
   "metadata": {},
   "source": [
    "Terdapat 3 scaler yang akan dibandingkan."
   ]
  },
  {
   "cell_type": "code",
   "execution_count": 561,
   "metadata": {},
   "outputs": [],
   "source": [
    "# E. Polynomial\n",
    "# _____________________________________________________________________________________________________________________\n",
    "poly = PolynomialFeatures(degree=2)"
   ]
  },
  {
   "cell_type": "markdown",
   "metadata": {},
   "source": [
    "Polynomial digunakan sebagai salah satu metode penanganan data imbalance. "
   ]
  },
  {
   "cell_type": "markdown",
   "metadata": {},
   "source": [
    "# **7. Memilih Model Benchmark**"
   ]
  },
  {
   "cell_type": "markdown",
   "metadata": {},
   "source": [
    "Pemilihan model benchmark menggunakan F2 score.<br>\n",
    "Karena cost dari 'False Negative' (diprediksi tidak churn, padahal aslinya churn) lebih tinggi dari pada 'False Positive' (diprediksi churn, padahal aslinya tidak churn).<br>\n",
    "Sehingga dengan F2 score kita ingin lebih berfokus pada kondisi 'False Negative'"
   ]
  },
  {
   "cell_type": "code",
   "execution_count": 562,
   "metadata": {},
   "outputs": [
    {
     "data": {
      "text/html": [
       "<div>\n",
       "<style scoped>\n",
       "    .dataframe tbody tr th:only-of-type {\n",
       "        vertical-align: middle;\n",
       "    }\n",
       "\n",
       "    .dataframe tbody tr th {\n",
       "        vertical-align: top;\n",
       "    }\n",
       "\n",
       "    .dataframe thead th {\n",
       "        text-align: right;\n",
       "    }\n",
       "</style>\n",
       "<table border=\"1\" class=\"dataframe\">\n",
       "  <thead>\n",
       "    <tr style=\"text-align: right;\">\n",
       "      <th></th>\n",
       "      <th>model</th>\n",
       "      <th>mean</th>\n",
       "      <th>std</th>\n",
       "    </tr>\n",
       "  </thead>\n",
       "  <tbody>\n",
       "    <tr>\n",
       "      <th>0</th>\n",
       "      <td>logreg</td>\n",
       "      <td>0.718804</td>\n",
       "      <td>0.020333</td>\n",
       "    </tr>\n",
       "    <tr>\n",
       "      <th>1</th>\n",
       "      <td>knn</td>\n",
       "      <td>0.618287</td>\n",
       "      <td>0.029534</td>\n",
       "    </tr>\n",
       "    <tr>\n",
       "      <th>2</th>\n",
       "      <td>tree</td>\n",
       "      <td>0.529319</td>\n",
       "      <td>0.014956</td>\n",
       "    </tr>\n",
       "    <tr>\n",
       "      <th>3</th>\n",
       "      <td>rf</td>\n",
       "      <td>0.573667</td>\n",
       "      <td>0.019562</td>\n",
       "    </tr>\n",
       "    <tr>\n",
       "      <th>4</th>\n",
       "      <td>ada</td>\n",
       "      <td>0.572568</td>\n",
       "      <td>0.030013</td>\n",
       "    </tr>\n",
       "    <tr>\n",
       "      <th>5</th>\n",
       "      <td>gbc</td>\n",
       "      <td>0.695849</td>\n",
       "      <td>0.032215</td>\n",
       "    </tr>\n",
       "    <tr>\n",
       "      <th>6</th>\n",
       "      <td>xgbc</td>\n",
       "      <td>0.622641</td>\n",
       "      <td>0.031321</td>\n",
       "    </tr>\n",
       "  </tbody>\n",
       "</table>\n",
       "</div>"
      ],
      "text/plain": [
       "    model      mean       std\n",
       "0  logreg  0.718804  0.020333\n",
       "1     knn  0.618287  0.029534\n",
       "2    tree  0.529319  0.014956\n",
       "3      rf  0.573667  0.019562\n",
       "4     ada  0.572568  0.030013\n",
       "5     gbc  0.695849  0.032215\n",
       "6    xgbc  0.622641  0.031321"
      ]
     },
     "execution_count": 562,
     "metadata": {},
     "output_type": "execute_result"
    }
   ],
   "source": [
    "# Define imbalanced treatment method\n",
    "models = [logreg, knn, tree, rf, ada, gbc, xgbc]\n",
    "score = []\n",
    "nilai_mean = []\n",
    "nilai_std = []\n",
    "\n",
    "# F2 score\n",
    "f2_score = make_scorer(fbeta_score, beta=2)\n",
    "\n",
    "for i in models:\n",
    "    estimator = Pipeline([\n",
    "        ('transformer', transformer),\n",
    "        ('scaler', robust),\n",
    "        ('balancing', smote),\n",
    "        ('model', i)\n",
    "    ])\n",
    "\n",
    "    model_cv = cross_val_score(\n",
    "        estimator, \n",
    "        X_train, \n",
    "        y_train, \n",
    "        cv=5, \n",
    "        scoring=f2_score, \n",
    "        error_score='raise'\n",
    "        )\n",
    "\n",
    "    score.append(model_cv)\n",
    "    nilai_mean.append(model_cv.mean())\n",
    "    nilai_std.append(model_cv.std())\n",
    "\n",
    "\n",
    "pd.DataFrame({\n",
    "    'model':['logreg', 'knn', 'tree', 'rf', 'ada', 'gbc', 'xgbc'],\n",
    "    'mean':nilai_mean,\n",
    "    'std':nilai_std\n",
    "})"
   ]
  },
  {
   "cell_type": "markdown",
   "metadata": {},
   "source": [
    "Berdasarkan tabel diatas, dapat dilihat bahwa nilai rata-rata recall tertinggi berada pada model Logistic Regression (logreg) yaitu 0.72.<br>\n",
    "Dan jika dilihat dari nilai standar deviasinya, model logistic regression (logreg) juga cukup stabil.<br>\n",
    "Namun, nilai rata-rata recall pada gbc (Gradient Boost Classifier) juga tidak terlalu berbeda jauh dengan logistic regression,<br>\n",
    "hanya saja diantara semua model, nilai standar deviasi gbc (Gradient Boost Classifier) adalah yang tertinggi.<br>\n",
    "Oleh karena itu, model yang akan kita tuning adalah Logistic Regression dan Gradient Boost Classifier."
   ]
  },
  {
   "cell_type": "markdown",
   "metadata": {},
   "source": [
    "# **8. Hyperparameter Tuning**"
   ]
  },
  {
   "cell_type": "markdown",
   "metadata": {},
   "source": [
    "A. Logistic Regression"
   ]
  },
  {
   "cell_type": "code",
   "execution_count": 563,
   "metadata": {},
   "outputs": [
    {
     "data": {
      "text/html": [
       "<style>#sk-container-id-15 {color: black;background-color: white;}#sk-container-id-15 pre{padding: 0;}#sk-container-id-15 div.sk-toggleable {background-color: white;}#sk-container-id-15 label.sk-toggleable__label {cursor: pointer;display: block;width: 100%;margin-bottom: 0;padding: 0.3em;box-sizing: border-box;text-align: center;}#sk-container-id-15 label.sk-toggleable__label-arrow:before {content: \"▸\";float: left;margin-right: 0.25em;color: #696969;}#sk-container-id-15 label.sk-toggleable__label-arrow:hover:before {color: black;}#sk-container-id-15 div.sk-estimator:hover label.sk-toggleable__label-arrow:before {color: black;}#sk-container-id-15 div.sk-toggleable__content {max-height: 0;max-width: 0;overflow: hidden;text-align: left;background-color: #f0f8ff;}#sk-container-id-15 div.sk-toggleable__content pre {margin: 0.2em;color: black;border-radius: 0.25em;background-color: #f0f8ff;}#sk-container-id-15 input.sk-toggleable__control:checked~div.sk-toggleable__content {max-height: 200px;max-width: 100%;overflow: auto;}#sk-container-id-15 input.sk-toggleable__control:checked~label.sk-toggleable__label-arrow:before {content: \"▾\";}#sk-container-id-15 div.sk-estimator input.sk-toggleable__control:checked~label.sk-toggleable__label {background-color: #d4ebff;}#sk-container-id-15 div.sk-label input.sk-toggleable__control:checked~label.sk-toggleable__label {background-color: #d4ebff;}#sk-container-id-15 input.sk-hidden--visually {border: 0;clip: rect(1px 1px 1px 1px);clip: rect(1px, 1px, 1px, 1px);height: 1px;margin: -1px;overflow: hidden;padding: 0;position: absolute;width: 1px;}#sk-container-id-15 div.sk-estimator {font-family: monospace;background-color: #f0f8ff;border: 1px dotted black;border-radius: 0.25em;box-sizing: border-box;margin-bottom: 0.5em;}#sk-container-id-15 div.sk-estimator:hover {background-color: #d4ebff;}#sk-container-id-15 div.sk-parallel-item::after {content: \"\";width: 100%;border-bottom: 1px solid gray;flex-grow: 1;}#sk-container-id-15 div.sk-label:hover label.sk-toggleable__label {background-color: #d4ebff;}#sk-container-id-15 div.sk-serial::before {content: \"\";position: absolute;border-left: 1px solid gray;box-sizing: border-box;top: 0;bottom: 0;left: 50%;z-index: 0;}#sk-container-id-15 div.sk-serial {display: flex;flex-direction: column;align-items: center;background-color: white;padding-right: 0.2em;padding-left: 0.2em;position: relative;}#sk-container-id-15 div.sk-item {position: relative;z-index: 1;}#sk-container-id-15 div.sk-parallel {display: flex;align-items: stretch;justify-content: center;background-color: white;position: relative;}#sk-container-id-15 div.sk-item::before, #sk-container-id-15 div.sk-parallel-item::before {content: \"\";position: absolute;border-left: 1px solid gray;box-sizing: border-box;top: 0;bottom: 0;left: 50%;z-index: -1;}#sk-container-id-15 div.sk-parallel-item {display: flex;flex-direction: column;z-index: 1;position: relative;background-color: white;}#sk-container-id-15 div.sk-parallel-item:first-child::after {align-self: flex-end;width: 50%;}#sk-container-id-15 div.sk-parallel-item:last-child::after {align-self: flex-start;width: 50%;}#sk-container-id-15 div.sk-parallel-item:only-child::after {width: 0;}#sk-container-id-15 div.sk-dashed-wrapped {border: 1px dashed gray;margin: 0 0.4em 0.5em 0.4em;box-sizing: border-box;padding-bottom: 0.4em;background-color: white;}#sk-container-id-15 div.sk-label label {font-family: monospace;font-weight: bold;display: inline-block;line-height: 1.2em;}#sk-container-id-15 div.sk-label-container {text-align: center;}#sk-container-id-15 div.sk-container {/* jupyter's `normalize.less` sets `[hidden] { display: none; }` but bootstrap.min.css set `[hidden] { display: none !important; }` so we also need the `!important` here to be able to override the default hidden behavior on the sphinx rendered scikit-learn.org. See: https://github.com/scikit-learn/scikit-learn/issues/21755 */display: inline-block !important;position: relative;}#sk-container-id-15 div.sk-text-repr-fallback {display: none;}</style><div id=\"sk-container-id-15\" class=\"sk-top-container\"><div class=\"sk-text-repr-fallback\"><pre>RandomizedSearchCV(cv=5,\n",
       "                   estimator=Pipeline(steps=[(&#x27;transformer&#x27;,\n",
       "                                              ColumnTransformer(remainder=&#x27;passthrough&#x27;,\n",
       "                                                                transformers=[(&#x27;onehot&#x27;,\n",
       "                                                                               OneHotEncoder(drop=&#x27;first&#x27;),\n",
       "                                                                               [&#x27;Dependents&#x27;,\n",
       "                                                                                &#x27;OnlineSecurity&#x27;,\n",
       "                                                                                &#x27;OnlineBackup&#x27;,\n",
       "                                                                                &#x27;InternetService&#x27;,\n",
       "                                                                                &#x27;DeviceProtection&#x27;,\n",
       "                                                                                &#x27;TechSupport&#x27;,\n",
       "                                                                                &#x27;Contract&#x27;,\n",
       "                                                                                &#x27;PaperlessBilling&#x27;])])),\n",
       "                                             (&#x27;scaler&#x27;, RobustScaler()),\n",
       "                                             (&#x27;balancing&#x27;,\n",
       "                                              SMOTE(random_state=0...\n",
       "                   param_distributions={&#x27;balancing&#x27;: [RandomOverSampler(random_state=0),\n",
       "                                                      SMOTE(random_state=0)],\n",
       "                                        &#x27;model__C&#x27;: array([1.e-03, 1.e-02, 1.e-01, 1.e+00, 1.e+01, 1.e+02, 1.e+03]),\n",
       "                                        &#x27;model__penalty&#x27;: [&#x27;l1&#x27;, &#x27;l2&#x27;],\n",
       "                                        &#x27;model__solver&#x27;: [&#x27;newton-cg&#x27;, &#x27;lbfgs&#x27;,\n",
       "                                                          &#x27;liblinear&#x27;, &#x27;sag&#x27;,\n",
       "                                                          &#x27;saga&#x27;],\n",
       "                                        &#x27;polynomial__degree&#x27;: [1, 2],\n",
       "                                        &#x27;scaler&#x27;: [RobustScaler(),\n",
       "                                                   MinMaxScaler(),\n",
       "                                                   StandardScaler()]},\n",
       "                   random_state=0, scoring=make_scorer(fbeta_score, beta=2))</pre><b>In a Jupyter environment, please rerun this cell to show the HTML representation or trust the notebook. <br />On GitHub, the HTML representation is unable to render, please try loading this page with nbviewer.org.</b></div><div class=\"sk-container\" hidden><div class=\"sk-item sk-dashed-wrapped\"><div class=\"sk-label-container\"><div class=\"sk-label sk-toggleable\"><input class=\"sk-toggleable__control sk-hidden--visually\" id=\"sk-estimator-id-137\" type=\"checkbox\" ><label for=\"sk-estimator-id-137\" class=\"sk-toggleable__label sk-toggleable__label-arrow\">RandomizedSearchCV</label><div class=\"sk-toggleable__content\"><pre>RandomizedSearchCV(cv=5,\n",
       "                   estimator=Pipeline(steps=[(&#x27;transformer&#x27;,\n",
       "                                              ColumnTransformer(remainder=&#x27;passthrough&#x27;,\n",
       "                                                                transformers=[(&#x27;onehot&#x27;,\n",
       "                                                                               OneHotEncoder(drop=&#x27;first&#x27;),\n",
       "                                                                               [&#x27;Dependents&#x27;,\n",
       "                                                                                &#x27;OnlineSecurity&#x27;,\n",
       "                                                                                &#x27;OnlineBackup&#x27;,\n",
       "                                                                                &#x27;InternetService&#x27;,\n",
       "                                                                                &#x27;DeviceProtection&#x27;,\n",
       "                                                                                &#x27;TechSupport&#x27;,\n",
       "                                                                                &#x27;Contract&#x27;,\n",
       "                                                                                &#x27;PaperlessBilling&#x27;])])),\n",
       "                                             (&#x27;scaler&#x27;, RobustScaler()),\n",
       "                                             (&#x27;balancing&#x27;,\n",
       "                                              SMOTE(random_state=0...\n",
       "                   param_distributions={&#x27;balancing&#x27;: [RandomOverSampler(random_state=0),\n",
       "                                                      SMOTE(random_state=0)],\n",
       "                                        &#x27;model__C&#x27;: array([1.e-03, 1.e-02, 1.e-01, 1.e+00, 1.e+01, 1.e+02, 1.e+03]),\n",
       "                                        &#x27;model__penalty&#x27;: [&#x27;l1&#x27;, &#x27;l2&#x27;],\n",
       "                                        &#x27;model__solver&#x27;: [&#x27;newton-cg&#x27;, &#x27;lbfgs&#x27;,\n",
       "                                                          &#x27;liblinear&#x27;, &#x27;sag&#x27;,\n",
       "                                                          &#x27;saga&#x27;],\n",
       "                                        &#x27;polynomial__degree&#x27;: [1, 2],\n",
       "                                        &#x27;scaler&#x27;: [RobustScaler(),\n",
       "                                                   MinMaxScaler(),\n",
       "                                                   StandardScaler()]},\n",
       "                   random_state=0, scoring=make_scorer(fbeta_score, beta=2))</pre></div></div></div><div class=\"sk-parallel\"><div class=\"sk-parallel-item\"><div class=\"sk-item\"><div class=\"sk-label-container\"><div class=\"sk-label sk-toggleable\"><input class=\"sk-toggleable__control sk-hidden--visually\" id=\"sk-estimator-id-138\" type=\"checkbox\" ><label for=\"sk-estimator-id-138\" class=\"sk-toggleable__label sk-toggleable__label-arrow\">estimator: Pipeline</label><div class=\"sk-toggleable__content\"><pre>Pipeline(steps=[(&#x27;transformer&#x27;,\n",
       "                 ColumnTransformer(remainder=&#x27;passthrough&#x27;,\n",
       "                                   transformers=[(&#x27;onehot&#x27;,\n",
       "                                                  OneHotEncoder(drop=&#x27;first&#x27;),\n",
       "                                                  [&#x27;Dependents&#x27;,\n",
       "                                                   &#x27;OnlineSecurity&#x27;,\n",
       "                                                   &#x27;OnlineBackup&#x27;,\n",
       "                                                   &#x27;InternetService&#x27;,\n",
       "                                                   &#x27;DeviceProtection&#x27;,\n",
       "                                                   &#x27;TechSupport&#x27;, &#x27;Contract&#x27;,\n",
       "                                                   &#x27;PaperlessBilling&#x27;])])),\n",
       "                (&#x27;scaler&#x27;, RobustScaler()),\n",
       "                (&#x27;balancing&#x27;, SMOTE(random_state=0)),\n",
       "                (&#x27;polynomial&#x27;, PolynomialFeatures()),\n",
       "                (&#x27;model&#x27;, LogisticRegression(random_state=0))])</pre></div></div></div><div class=\"sk-serial\"><div class=\"sk-item\"><div class=\"sk-serial\"><div class=\"sk-item sk-dashed-wrapped\"><div class=\"sk-label-container\"><div class=\"sk-label sk-toggleable\"><input class=\"sk-toggleable__control sk-hidden--visually\" id=\"sk-estimator-id-139\" type=\"checkbox\" ><label for=\"sk-estimator-id-139\" class=\"sk-toggleable__label sk-toggleable__label-arrow\">transformer: ColumnTransformer</label><div class=\"sk-toggleable__content\"><pre>ColumnTransformer(remainder=&#x27;passthrough&#x27;,\n",
       "                  transformers=[(&#x27;onehot&#x27;, OneHotEncoder(drop=&#x27;first&#x27;),\n",
       "                                 [&#x27;Dependents&#x27;, &#x27;OnlineSecurity&#x27;,\n",
       "                                  &#x27;OnlineBackup&#x27;, &#x27;InternetService&#x27;,\n",
       "                                  &#x27;DeviceProtection&#x27;, &#x27;TechSupport&#x27;, &#x27;Contract&#x27;,\n",
       "                                  &#x27;PaperlessBilling&#x27;])])</pre></div></div></div><div class=\"sk-parallel\"><div class=\"sk-parallel-item\"><div class=\"sk-item\"><div class=\"sk-label-container\"><div class=\"sk-label sk-toggleable\"><input class=\"sk-toggleable__control sk-hidden--visually\" id=\"sk-estimator-id-140\" type=\"checkbox\" ><label for=\"sk-estimator-id-140\" class=\"sk-toggleable__label sk-toggleable__label-arrow\">onehot</label><div class=\"sk-toggleable__content\"><pre>[&#x27;Dependents&#x27;, &#x27;OnlineSecurity&#x27;, &#x27;OnlineBackup&#x27;, &#x27;InternetService&#x27;, &#x27;DeviceProtection&#x27;, &#x27;TechSupport&#x27;, &#x27;Contract&#x27;, &#x27;PaperlessBilling&#x27;]</pre></div></div></div><div class=\"sk-serial\"><div class=\"sk-item\"><div class=\"sk-estimator sk-toggleable\"><input class=\"sk-toggleable__control sk-hidden--visually\" id=\"sk-estimator-id-141\" type=\"checkbox\" ><label for=\"sk-estimator-id-141\" class=\"sk-toggleable__label sk-toggleable__label-arrow\">OneHotEncoder</label><div class=\"sk-toggleable__content\"><pre>OneHotEncoder(drop=&#x27;first&#x27;)</pre></div></div></div></div></div></div><div class=\"sk-parallel-item\"><div class=\"sk-item\"><div class=\"sk-label-container\"><div class=\"sk-label sk-toggleable\"><input class=\"sk-toggleable__control sk-hidden--visually\" id=\"sk-estimator-id-142\" type=\"checkbox\" ><label for=\"sk-estimator-id-142\" class=\"sk-toggleable__label sk-toggleable__label-arrow\">remainder</label><div class=\"sk-toggleable__content\"><pre></pre></div></div></div><div class=\"sk-serial\"><div class=\"sk-item\"><div class=\"sk-estimator sk-toggleable\"><input class=\"sk-toggleable__control sk-hidden--visually\" id=\"sk-estimator-id-143\" type=\"checkbox\" ><label for=\"sk-estimator-id-143\" class=\"sk-toggleable__label sk-toggleable__label-arrow\">passthrough</label><div class=\"sk-toggleable__content\"><pre>passthrough</pre></div></div></div></div></div></div></div></div><div class=\"sk-item\"><div class=\"sk-estimator sk-toggleable\"><input class=\"sk-toggleable__control sk-hidden--visually\" id=\"sk-estimator-id-144\" type=\"checkbox\" ><label for=\"sk-estimator-id-144\" class=\"sk-toggleable__label sk-toggleable__label-arrow\">RobustScaler</label><div class=\"sk-toggleable__content\"><pre>RobustScaler()</pre></div></div></div><div class=\"sk-item\"><div class=\"sk-estimator sk-toggleable\"><input class=\"sk-toggleable__control sk-hidden--visually\" id=\"sk-estimator-id-145\" type=\"checkbox\" ><label for=\"sk-estimator-id-145\" class=\"sk-toggleable__label sk-toggleable__label-arrow\">SMOTE</label><div class=\"sk-toggleable__content\"><pre>SMOTE(random_state=0)</pre></div></div></div><div class=\"sk-item\"><div class=\"sk-estimator sk-toggleable\"><input class=\"sk-toggleable__control sk-hidden--visually\" id=\"sk-estimator-id-146\" type=\"checkbox\" ><label for=\"sk-estimator-id-146\" class=\"sk-toggleable__label sk-toggleable__label-arrow\">PolynomialFeatures</label><div class=\"sk-toggleable__content\"><pre>PolynomialFeatures()</pre></div></div></div><div class=\"sk-item\"><div class=\"sk-estimator sk-toggleable\"><input class=\"sk-toggleable__control sk-hidden--visually\" id=\"sk-estimator-id-147\" type=\"checkbox\" ><label for=\"sk-estimator-id-147\" class=\"sk-toggleable__label sk-toggleable__label-arrow\">LogisticRegression</label><div class=\"sk-toggleable__content\"><pre>LogisticRegression(random_state=0)</pre></div></div></div></div></div></div></div></div></div></div></div></div>"
      ],
      "text/plain": [
       "RandomizedSearchCV(cv=5,\n",
       "                   estimator=Pipeline(steps=[('transformer',\n",
       "                                              ColumnTransformer(remainder='passthrough',\n",
       "                                                                transformers=[('onehot',\n",
       "                                                                               OneHotEncoder(drop='first'),\n",
       "                                                                               ['Dependents',\n",
       "                                                                                'OnlineSecurity',\n",
       "                                                                                'OnlineBackup',\n",
       "                                                                                'InternetService',\n",
       "                                                                                'DeviceProtection',\n",
       "                                                                                'TechSupport',\n",
       "                                                                                'Contract',\n",
       "                                                                                'PaperlessBilling'])])),\n",
       "                                             ('scaler', RobustScaler()),\n",
       "                                             ('balancing',\n",
       "                                              SMOTE(random_state=0...\n",
       "                   param_distributions={'balancing': [RandomOverSampler(random_state=0),\n",
       "                                                      SMOTE(random_state=0)],\n",
       "                                        'model__C': array([1.e-03, 1.e-02, 1.e-01, 1.e+00, 1.e+01, 1.e+02, 1.e+03]),\n",
       "                                        'model__penalty': ['l1', 'l2'],\n",
       "                                        'model__solver': ['newton-cg', 'lbfgs',\n",
       "                                                          'liblinear', 'sag',\n",
       "                                                          'saga'],\n",
       "                                        'polynomial__degree': [1, 2],\n",
       "                                        'scaler': [RobustScaler(),\n",
       "                                                   MinMaxScaler(),\n",
       "                                                   StandardScaler()]},\n",
       "                   random_state=0, scoring=make_scorer(fbeta_score, beta=2))"
      ]
     },
     "execution_count": 563,
     "metadata": {},
     "output_type": "execute_result"
    }
   ],
   "source": [
    "# Random Search\n",
    "model_pipe_logreg = Pipeline([\n",
    "    ('transformer',transformer),\n",
    "    ('scaler',robust),\n",
    "    ('balancing',smote),\n",
    "    ('polynomial',poly),\n",
    "    ('model', logreg)\n",
    "])\n",
    "\n",
    "hyper_param_random = {\n",
    "    'scaler' : [robust,minmax,standard],\n",
    "    'balancing' : [ros,smote],\n",
    "    'polynomial__degree' : [1,2],\n",
    "    'model__penalty' : ['l1','l2'],\n",
    "    'model__solver' : ['newton-cg', 'lbfgs', 'liblinear', 'sag', 'saga'],\n",
    "    'model__C' : np.logspace(-3,3,7)\n",
    "}\n",
    "\n",
    "random_logreg = RandomizedSearchCV(\n",
    "    estimator = model_pipe_logreg,\n",
    "    param_distributions=hyper_param_random,\n",
    "    cv=5,\n",
    "    scoring=f2_score,\n",
    "    n_jobs=-1,\n",
    "    n_iter=200,\n",
    "    random_state=0,\n",
    ")\n",
    "\n",
    "random_logreg.fit(X_train, y_train)"
   ]
  },
  {
   "cell_type": "code",
   "execution_count": 564,
   "metadata": {},
   "outputs": [
    {
     "name": "stdout",
     "output_type": "stream",
     "text": [
      "Logistic Regression\n",
      "Best_score: 0.7301066102494729\n",
      "Best_params: {'scaler': StandardScaler(), 'polynomial__degree': 1, 'model__solver': 'liblinear', 'model__penalty': 'l1', 'model__C': 0.01, 'balancing': SMOTE(random_state=0)}\n"
     ]
    }
   ],
   "source": [
    "print('Logistic Regression')\n",
    "print('Best_score:', random_logreg.best_score_)\n",
    "print('Best_params:', random_logreg.best_params_)"
   ]
  },
  {
   "cell_type": "markdown",
   "metadata": {},
   "source": [
    "B. Gradient Boost"
   ]
  },
  {
   "cell_type": "code",
   "execution_count": 565,
   "metadata": {},
   "outputs": [],
   "source": [
    "# kedalaman pohon\n",
    "max_depth = list(np.arange(1,30))\n",
    "\n",
    "# learning rate\n",
    "learning_rate = list(np.arange(1,100)/100)\n",
    "\n",
    "# jumlah pohon\n",
    "n_estimators = list(np.arange(50,300))\n",
    "\n",
    "# jumlah baris train set tiap pohon (% dari total baris train set)\n",
    "subsample = list(np.arange(2,10)/10)\n",
    "\n",
    "# jumlah feature yang digunakan untuk pertimbangan splitting (% dari total kolom train set)\n",
    "max_features = list(np.arange(1,16))\n",
    "\n",
    "# Hyperparameter space GBC\n",
    "hyperparam_space_gbc = {\n",
    "    'balancing':[smote,ros],\n",
    "    'model__max_depth':max_depth , \n",
    "    'model__learning_rate':learning_rate,\n",
    "    'model__n_estimators':n_estimators,\n",
    "    'model__subsample':subsample,\n",
    "    'model__max_features':max_features\n",
    "}"
   ]
  },
  {
   "cell_type": "code",
   "execution_count": 566,
   "metadata": {},
   "outputs": [],
   "source": [
    "# Benchmark model 1\n",
    "gbc = GradientBoostingClassifier(random_state=0)\n",
    "\n",
    "# Create the algorithm chains\n",
    "estimator_gbc = Pipeline([\n",
    "    ('transformer',transformer),\n",
    "    ('scaler',robust),\n",
    "    ('balancing',smote),\n",
    "    ('polynomial',poly),\n",
    "    ('model', gbc)\n",
    "    ])\n",
    "\n",
    "# Hyperparameter tuning\n",
    "random_gbc = RandomizedSearchCV(\n",
    "    estimator_gbc, \n",
    "    param_distributions = hyperparam_space_gbc, \n",
    "    cv = 5, \n",
    "    scoring = f2_score, \n",
    "    n_jobs = -1, \n",
    "    random_state=0,\n",
    "    n_iter=30\n",
    ")"
   ]
  },
  {
   "cell_type": "code",
   "execution_count": 567,
   "metadata": {},
   "outputs": [
    {
     "data": {
      "text/html": [
       "<style>#sk-container-id-16 {color: black;background-color: white;}#sk-container-id-16 pre{padding: 0;}#sk-container-id-16 div.sk-toggleable {background-color: white;}#sk-container-id-16 label.sk-toggleable__label {cursor: pointer;display: block;width: 100%;margin-bottom: 0;padding: 0.3em;box-sizing: border-box;text-align: center;}#sk-container-id-16 label.sk-toggleable__label-arrow:before {content: \"▸\";float: left;margin-right: 0.25em;color: #696969;}#sk-container-id-16 label.sk-toggleable__label-arrow:hover:before {color: black;}#sk-container-id-16 div.sk-estimator:hover label.sk-toggleable__label-arrow:before {color: black;}#sk-container-id-16 div.sk-toggleable__content {max-height: 0;max-width: 0;overflow: hidden;text-align: left;background-color: #f0f8ff;}#sk-container-id-16 div.sk-toggleable__content pre {margin: 0.2em;color: black;border-radius: 0.25em;background-color: #f0f8ff;}#sk-container-id-16 input.sk-toggleable__control:checked~div.sk-toggleable__content {max-height: 200px;max-width: 100%;overflow: auto;}#sk-container-id-16 input.sk-toggleable__control:checked~label.sk-toggleable__label-arrow:before {content: \"▾\";}#sk-container-id-16 div.sk-estimator input.sk-toggleable__control:checked~label.sk-toggleable__label {background-color: #d4ebff;}#sk-container-id-16 div.sk-label input.sk-toggleable__control:checked~label.sk-toggleable__label {background-color: #d4ebff;}#sk-container-id-16 input.sk-hidden--visually {border: 0;clip: rect(1px 1px 1px 1px);clip: rect(1px, 1px, 1px, 1px);height: 1px;margin: -1px;overflow: hidden;padding: 0;position: absolute;width: 1px;}#sk-container-id-16 div.sk-estimator {font-family: monospace;background-color: #f0f8ff;border: 1px dotted black;border-radius: 0.25em;box-sizing: border-box;margin-bottom: 0.5em;}#sk-container-id-16 div.sk-estimator:hover {background-color: #d4ebff;}#sk-container-id-16 div.sk-parallel-item::after {content: \"\";width: 100%;border-bottom: 1px solid gray;flex-grow: 1;}#sk-container-id-16 div.sk-label:hover label.sk-toggleable__label {background-color: #d4ebff;}#sk-container-id-16 div.sk-serial::before {content: \"\";position: absolute;border-left: 1px solid gray;box-sizing: border-box;top: 0;bottom: 0;left: 50%;z-index: 0;}#sk-container-id-16 div.sk-serial {display: flex;flex-direction: column;align-items: center;background-color: white;padding-right: 0.2em;padding-left: 0.2em;position: relative;}#sk-container-id-16 div.sk-item {position: relative;z-index: 1;}#sk-container-id-16 div.sk-parallel {display: flex;align-items: stretch;justify-content: center;background-color: white;position: relative;}#sk-container-id-16 div.sk-item::before, #sk-container-id-16 div.sk-parallel-item::before {content: \"\";position: absolute;border-left: 1px solid gray;box-sizing: border-box;top: 0;bottom: 0;left: 50%;z-index: -1;}#sk-container-id-16 div.sk-parallel-item {display: flex;flex-direction: column;z-index: 1;position: relative;background-color: white;}#sk-container-id-16 div.sk-parallel-item:first-child::after {align-self: flex-end;width: 50%;}#sk-container-id-16 div.sk-parallel-item:last-child::after {align-self: flex-start;width: 50%;}#sk-container-id-16 div.sk-parallel-item:only-child::after {width: 0;}#sk-container-id-16 div.sk-dashed-wrapped {border: 1px dashed gray;margin: 0 0.4em 0.5em 0.4em;box-sizing: border-box;padding-bottom: 0.4em;background-color: white;}#sk-container-id-16 div.sk-label label {font-family: monospace;font-weight: bold;display: inline-block;line-height: 1.2em;}#sk-container-id-16 div.sk-label-container {text-align: center;}#sk-container-id-16 div.sk-container {/* jupyter's `normalize.less` sets `[hidden] { display: none; }` but bootstrap.min.css set `[hidden] { display: none !important; }` so we also need the `!important` here to be able to override the default hidden behavior on the sphinx rendered scikit-learn.org. See: https://github.com/scikit-learn/scikit-learn/issues/21755 */display: inline-block !important;position: relative;}#sk-container-id-16 div.sk-text-repr-fallback {display: none;}</style><div id=\"sk-container-id-16\" class=\"sk-top-container\"><div class=\"sk-text-repr-fallback\"><pre>RandomizedSearchCV(cv=5,\n",
       "                   estimator=Pipeline(steps=[(&#x27;transformer&#x27;,\n",
       "                                              ColumnTransformer(remainder=&#x27;passthrough&#x27;,\n",
       "                                                                transformers=[(&#x27;onehot&#x27;,\n",
       "                                                                               OneHotEncoder(drop=&#x27;first&#x27;),\n",
       "                                                                               [&#x27;Dependents&#x27;,\n",
       "                                                                                &#x27;OnlineSecurity&#x27;,\n",
       "                                                                                &#x27;OnlineBackup&#x27;,\n",
       "                                                                                &#x27;InternetService&#x27;,\n",
       "                                                                                &#x27;DeviceProtection&#x27;,\n",
       "                                                                                &#x27;TechSupport&#x27;,\n",
       "                                                                                &#x27;Contract&#x27;,\n",
       "                                                                                &#x27;PaperlessBilling&#x27;])])),\n",
       "                                             (&#x27;scaler&#x27;, RobustScaler()),\n",
       "                                             (&#x27;balancing&#x27;,\n",
       "                                              SMOTE(random_state=0...\n",
       "                                                             7, 8, 9, 10, 11,\n",
       "                                                             12, 13, 14, 15, 16,\n",
       "                                                             17, 18, 19, 20, 21,\n",
       "                                                             22, 23, 24, 25, 26,\n",
       "                                                             27, 28, 29],\n",
       "                                        &#x27;model__max_features&#x27;: [1, 2, 3, 4, 5,\n",
       "                                                                6, 7, 8, 9, 10,\n",
       "                                                                11, 12, 13, 14,\n",
       "                                                                15],\n",
       "                                        &#x27;model__n_estimators&#x27;: [50, 51, 52, 53,\n",
       "                                                                54, 55, 56, 57,\n",
       "                                                                58, 59, 60, 61,\n",
       "                                                                62, 63, 64, 65,\n",
       "                                                                66, 67, 68, 69,\n",
       "                                                                70, 71, 72, 73,\n",
       "                                                                74, 75, 76, 77,\n",
       "                                                                78, 79, ...],\n",
       "                                        &#x27;model__subsample&#x27;: [0.2, 0.3, 0.4, 0.5,\n",
       "                                                             0.6, 0.7, 0.8,\n",
       "                                                             0.9]},\n",
       "                   random_state=0, scoring=make_scorer(fbeta_score, beta=2))</pre><b>In a Jupyter environment, please rerun this cell to show the HTML representation or trust the notebook. <br />On GitHub, the HTML representation is unable to render, please try loading this page with nbviewer.org.</b></div><div class=\"sk-container\" hidden><div class=\"sk-item sk-dashed-wrapped\"><div class=\"sk-label-container\"><div class=\"sk-label sk-toggleable\"><input class=\"sk-toggleable__control sk-hidden--visually\" id=\"sk-estimator-id-148\" type=\"checkbox\" ><label for=\"sk-estimator-id-148\" class=\"sk-toggleable__label sk-toggleable__label-arrow\">RandomizedSearchCV</label><div class=\"sk-toggleable__content\"><pre>RandomizedSearchCV(cv=5,\n",
       "                   estimator=Pipeline(steps=[(&#x27;transformer&#x27;,\n",
       "                                              ColumnTransformer(remainder=&#x27;passthrough&#x27;,\n",
       "                                                                transformers=[(&#x27;onehot&#x27;,\n",
       "                                                                               OneHotEncoder(drop=&#x27;first&#x27;),\n",
       "                                                                               [&#x27;Dependents&#x27;,\n",
       "                                                                                &#x27;OnlineSecurity&#x27;,\n",
       "                                                                                &#x27;OnlineBackup&#x27;,\n",
       "                                                                                &#x27;InternetService&#x27;,\n",
       "                                                                                &#x27;DeviceProtection&#x27;,\n",
       "                                                                                &#x27;TechSupport&#x27;,\n",
       "                                                                                &#x27;Contract&#x27;,\n",
       "                                                                                &#x27;PaperlessBilling&#x27;])])),\n",
       "                                             (&#x27;scaler&#x27;, RobustScaler()),\n",
       "                                             (&#x27;balancing&#x27;,\n",
       "                                              SMOTE(random_state=0...\n",
       "                                                             7, 8, 9, 10, 11,\n",
       "                                                             12, 13, 14, 15, 16,\n",
       "                                                             17, 18, 19, 20, 21,\n",
       "                                                             22, 23, 24, 25, 26,\n",
       "                                                             27, 28, 29],\n",
       "                                        &#x27;model__max_features&#x27;: [1, 2, 3, 4, 5,\n",
       "                                                                6, 7, 8, 9, 10,\n",
       "                                                                11, 12, 13, 14,\n",
       "                                                                15],\n",
       "                                        &#x27;model__n_estimators&#x27;: [50, 51, 52, 53,\n",
       "                                                                54, 55, 56, 57,\n",
       "                                                                58, 59, 60, 61,\n",
       "                                                                62, 63, 64, 65,\n",
       "                                                                66, 67, 68, 69,\n",
       "                                                                70, 71, 72, 73,\n",
       "                                                                74, 75, 76, 77,\n",
       "                                                                78, 79, ...],\n",
       "                                        &#x27;model__subsample&#x27;: [0.2, 0.3, 0.4, 0.5,\n",
       "                                                             0.6, 0.7, 0.8,\n",
       "                                                             0.9]},\n",
       "                   random_state=0, scoring=make_scorer(fbeta_score, beta=2))</pre></div></div></div><div class=\"sk-parallel\"><div class=\"sk-parallel-item\"><div class=\"sk-item\"><div class=\"sk-label-container\"><div class=\"sk-label sk-toggleable\"><input class=\"sk-toggleable__control sk-hidden--visually\" id=\"sk-estimator-id-149\" type=\"checkbox\" ><label for=\"sk-estimator-id-149\" class=\"sk-toggleable__label sk-toggleable__label-arrow\">estimator: Pipeline</label><div class=\"sk-toggleable__content\"><pre>Pipeline(steps=[(&#x27;transformer&#x27;,\n",
       "                 ColumnTransformer(remainder=&#x27;passthrough&#x27;,\n",
       "                                   transformers=[(&#x27;onehot&#x27;,\n",
       "                                                  OneHotEncoder(drop=&#x27;first&#x27;),\n",
       "                                                  [&#x27;Dependents&#x27;,\n",
       "                                                   &#x27;OnlineSecurity&#x27;,\n",
       "                                                   &#x27;OnlineBackup&#x27;,\n",
       "                                                   &#x27;InternetService&#x27;,\n",
       "                                                   &#x27;DeviceProtection&#x27;,\n",
       "                                                   &#x27;TechSupport&#x27;, &#x27;Contract&#x27;,\n",
       "                                                   &#x27;PaperlessBilling&#x27;])])),\n",
       "                (&#x27;scaler&#x27;, RobustScaler()),\n",
       "                (&#x27;balancing&#x27;, SMOTE(random_state=0)),\n",
       "                (&#x27;polynomial&#x27;, PolynomialFeatures()),\n",
       "                (&#x27;model&#x27;, GradientBoostingClassifier(random_state=0))])</pre></div></div></div><div class=\"sk-serial\"><div class=\"sk-item\"><div class=\"sk-serial\"><div class=\"sk-item sk-dashed-wrapped\"><div class=\"sk-label-container\"><div class=\"sk-label sk-toggleable\"><input class=\"sk-toggleable__control sk-hidden--visually\" id=\"sk-estimator-id-150\" type=\"checkbox\" ><label for=\"sk-estimator-id-150\" class=\"sk-toggleable__label sk-toggleable__label-arrow\">transformer: ColumnTransformer</label><div class=\"sk-toggleable__content\"><pre>ColumnTransformer(remainder=&#x27;passthrough&#x27;,\n",
       "                  transformers=[(&#x27;onehot&#x27;, OneHotEncoder(drop=&#x27;first&#x27;),\n",
       "                                 [&#x27;Dependents&#x27;, &#x27;OnlineSecurity&#x27;,\n",
       "                                  &#x27;OnlineBackup&#x27;, &#x27;InternetService&#x27;,\n",
       "                                  &#x27;DeviceProtection&#x27;, &#x27;TechSupport&#x27;, &#x27;Contract&#x27;,\n",
       "                                  &#x27;PaperlessBilling&#x27;])])</pre></div></div></div><div class=\"sk-parallel\"><div class=\"sk-parallel-item\"><div class=\"sk-item\"><div class=\"sk-label-container\"><div class=\"sk-label sk-toggleable\"><input class=\"sk-toggleable__control sk-hidden--visually\" id=\"sk-estimator-id-151\" type=\"checkbox\" ><label for=\"sk-estimator-id-151\" class=\"sk-toggleable__label sk-toggleable__label-arrow\">onehot</label><div class=\"sk-toggleable__content\"><pre>[&#x27;Dependents&#x27;, &#x27;OnlineSecurity&#x27;, &#x27;OnlineBackup&#x27;, &#x27;InternetService&#x27;, &#x27;DeviceProtection&#x27;, &#x27;TechSupport&#x27;, &#x27;Contract&#x27;, &#x27;PaperlessBilling&#x27;]</pre></div></div></div><div class=\"sk-serial\"><div class=\"sk-item\"><div class=\"sk-estimator sk-toggleable\"><input class=\"sk-toggleable__control sk-hidden--visually\" id=\"sk-estimator-id-152\" type=\"checkbox\" ><label for=\"sk-estimator-id-152\" class=\"sk-toggleable__label sk-toggleable__label-arrow\">OneHotEncoder</label><div class=\"sk-toggleable__content\"><pre>OneHotEncoder(drop=&#x27;first&#x27;)</pre></div></div></div></div></div></div><div class=\"sk-parallel-item\"><div class=\"sk-item\"><div class=\"sk-label-container\"><div class=\"sk-label sk-toggleable\"><input class=\"sk-toggleable__control sk-hidden--visually\" id=\"sk-estimator-id-153\" type=\"checkbox\" ><label for=\"sk-estimator-id-153\" class=\"sk-toggleable__label sk-toggleable__label-arrow\">remainder</label><div class=\"sk-toggleable__content\"><pre></pre></div></div></div><div class=\"sk-serial\"><div class=\"sk-item\"><div class=\"sk-estimator sk-toggleable\"><input class=\"sk-toggleable__control sk-hidden--visually\" id=\"sk-estimator-id-154\" type=\"checkbox\" ><label for=\"sk-estimator-id-154\" class=\"sk-toggleable__label sk-toggleable__label-arrow\">passthrough</label><div class=\"sk-toggleable__content\"><pre>passthrough</pre></div></div></div></div></div></div></div></div><div class=\"sk-item\"><div class=\"sk-estimator sk-toggleable\"><input class=\"sk-toggleable__control sk-hidden--visually\" id=\"sk-estimator-id-155\" type=\"checkbox\" ><label for=\"sk-estimator-id-155\" class=\"sk-toggleable__label sk-toggleable__label-arrow\">RobustScaler</label><div class=\"sk-toggleable__content\"><pre>RobustScaler()</pre></div></div></div><div class=\"sk-item\"><div class=\"sk-estimator sk-toggleable\"><input class=\"sk-toggleable__control sk-hidden--visually\" id=\"sk-estimator-id-156\" type=\"checkbox\" ><label for=\"sk-estimator-id-156\" class=\"sk-toggleable__label sk-toggleable__label-arrow\">SMOTE</label><div class=\"sk-toggleable__content\"><pre>SMOTE(random_state=0)</pre></div></div></div><div class=\"sk-item\"><div class=\"sk-estimator sk-toggleable\"><input class=\"sk-toggleable__control sk-hidden--visually\" id=\"sk-estimator-id-157\" type=\"checkbox\" ><label for=\"sk-estimator-id-157\" class=\"sk-toggleable__label sk-toggleable__label-arrow\">PolynomialFeatures</label><div class=\"sk-toggleable__content\"><pre>PolynomialFeatures()</pre></div></div></div><div class=\"sk-item\"><div class=\"sk-estimator sk-toggleable\"><input class=\"sk-toggleable__control sk-hidden--visually\" id=\"sk-estimator-id-158\" type=\"checkbox\" ><label for=\"sk-estimator-id-158\" class=\"sk-toggleable__label sk-toggleable__label-arrow\">GradientBoostingClassifier</label><div class=\"sk-toggleable__content\"><pre>GradientBoostingClassifier(random_state=0)</pre></div></div></div></div></div></div></div></div></div></div></div></div>"
      ],
      "text/plain": [
       "RandomizedSearchCV(cv=5,\n",
       "                   estimator=Pipeline(steps=[('transformer',\n",
       "                                              ColumnTransformer(remainder='passthrough',\n",
       "                                                                transformers=[('onehot',\n",
       "                                                                               OneHotEncoder(drop='first'),\n",
       "                                                                               ['Dependents',\n",
       "                                                                                'OnlineSecurity',\n",
       "                                                                                'OnlineBackup',\n",
       "                                                                                'InternetService',\n",
       "                                                                                'DeviceProtection',\n",
       "                                                                                'TechSupport',\n",
       "                                                                                'Contract',\n",
       "                                                                                'PaperlessBilling'])])),\n",
       "                                             ('scaler', RobustScaler()),\n",
       "                                             ('balancing',\n",
       "                                              SMOTE(random_state=0...\n",
       "                                                             7, 8, 9, 10, 11,\n",
       "                                                             12, 13, 14, 15, 16,\n",
       "                                                             17, 18, 19, 20, 21,\n",
       "                                                             22, 23, 24, 25, 26,\n",
       "                                                             27, 28, 29],\n",
       "                                        'model__max_features': [1, 2, 3, 4, 5,\n",
       "                                                                6, 7, 8, 9, 10,\n",
       "                                                                11, 12, 13, 14,\n",
       "                                                                15],\n",
       "                                        'model__n_estimators': [50, 51, 52, 53,\n",
       "                                                                54, 55, 56, 57,\n",
       "                                                                58, 59, 60, 61,\n",
       "                                                                62, 63, 64, 65,\n",
       "                                                                66, 67, 68, 69,\n",
       "                                                                70, 71, 72, 73,\n",
       "                                                                74, 75, 76, 77,\n",
       "                                                                78, 79, ...],\n",
       "                                        'model__subsample': [0.2, 0.3, 0.4, 0.5,\n",
       "                                                             0.6, 0.7, 0.8,\n",
       "                                                             0.9]},\n",
       "                   random_state=0, scoring=make_scorer(fbeta_score, beta=2))"
      ]
     },
     "execution_count": 567,
     "metadata": {},
     "output_type": "execute_result"
    }
   ],
   "source": [
    "random_gbc.fit(X_train, y_train)"
   ]
  },
  {
   "cell_type": "code",
   "execution_count": 568,
   "metadata": {},
   "outputs": [
    {
     "name": "stdout",
     "output_type": "stream",
     "text": [
      "GBC\n",
      "Best_score: 0.7267282019317036\n",
      "Best_params: {'model__subsample': 0.7, 'model__n_estimators': 63, 'model__max_features': 11, 'model__max_depth': 3, 'model__learning_rate': 0.03, 'balancing': RandomOverSampler(random_state=0)}\n"
     ]
    }
   ],
   "source": [
    "print('GBC')\n",
    "print('Best_score:', random_gbc.best_score_)\n",
    "print('Best_params:', random_gbc.best_params_)"
   ]
  },
  {
   "cell_type": "markdown",
   "metadata": {},
   "source": [
    "f2 score pada train set:\n",
    "- benchmark model logistic regression: 0.7056\n",
    "- hyperparameter tuning logistic regression: 0.7301\n",
    "- hyperparameter tuning gradient boost: 0.7267"
   ]
  },
  {
   "cell_type": "markdown",
   "metadata": {},
   "source": [
    "# **8. Performansi pada Test Set**"
   ]
  },
  {
   "cell_type": "markdown",
   "metadata": {},
   "source": [
    "### Sebelum Hyperparameter Tuning"
   ]
  },
  {
   "cell_type": "code",
   "execution_count": 569,
   "metadata": {},
   "outputs": [
    {
     "data": {
      "text/html": [
       "<div>\n",
       "<style scoped>\n",
       "    .dataframe tbody tr th:only-of-type {\n",
       "        vertical-align: middle;\n",
       "    }\n",
       "\n",
       "    .dataframe tbody tr th {\n",
       "        vertical-align: top;\n",
       "    }\n",
       "\n",
       "    .dataframe thead th {\n",
       "        text-align: right;\n",
       "    }\n",
       "</style>\n",
       "<table border=\"1\" class=\"dataframe\">\n",
       "  <thead>\n",
       "    <tr style=\"text-align: right;\">\n",
       "      <th></th>\n",
       "      <th>F2 score</th>\n",
       "    </tr>\n",
       "  </thead>\n",
       "  <tbody>\n",
       "    <tr>\n",
       "      <th>Logistic Regression</th>\n",
       "      <td>0.712781</td>\n",
       "    </tr>\n",
       "    <tr>\n",
       "      <th>Gradient Boost</th>\n",
       "      <td>0.694041</td>\n",
       "    </tr>\n",
       "  </tbody>\n",
       "</table>\n",
       "</div>"
      ],
      "text/plain": [
       "                     F2 score\n",
       "Logistic Regression  0.712781\n",
       "Gradient Boost       0.694041"
      ]
     },
     "execution_count": 569,
     "metadata": {},
     "output_type": "execute_result"
    }
   ],
   "source": [
    "models={\n",
    "    'Logistic Regression': LogisticRegression(random_state=0),\n",
    "    'Gradient Boost': GradientBoostingClassifier(random_state=0)\n",
    "}\n",
    "\n",
    "score=[]\n",
    "\n",
    "for i in models:\n",
    "\n",
    "    model = Pipeline([\n",
    "        ('transformer', transformer),\n",
    "        ('scaler', robust),\n",
    "        ('balancing', smote),\n",
    "        ('model', models[i])\n",
    "    ])\n",
    "\n",
    "    # fitting\n",
    "    model.fit(X_train, y_train)\n",
    "\n",
    "    # predict\n",
    "    y_pred = model.predict(X_test)\n",
    "\n",
    "    # recall score\n",
    "    score.append([fbeta_score(y_test, y_pred, beta=2)])\n",
    "\n",
    "score_before_tuning = pd.DataFrame(score, columns=['F2 score'], index = models.keys())\n",
    "score_before_tuning"
   ]
  },
  {
   "cell_type": "markdown",
   "metadata": {},
   "source": [
    "### Setelah Hyperparameter Tuning"
   ]
  },
  {
   "cell_type": "code",
   "execution_count": 570,
   "metadata": {},
   "outputs": [
    {
     "data": {
      "text/plain": [
       "0.7202216066481993"
      ]
     },
     "execution_count": 570,
     "metadata": {},
     "output_type": "execute_result"
    }
   ],
   "source": [
    "# Logistic Regression\n",
    "\n",
    "# best model\n",
    "logreg_tuning = random_logreg.best_estimator_\n",
    "\n",
    "# fitting\n",
    "logreg_tuning.fit(X_train, y_train)\n",
    "\n",
    "# predict\n",
    "y_pred_logreg_tuning = logreg_tuning.predict(X_test)\n",
    "\n",
    "# recall score\n",
    "f2score_logreg_tuning = fbeta_score(y_test, y_pred_logreg_tuning, beta=2)\n",
    "f2score_logreg_tuning"
   ]
  },
  {
   "cell_type": "code",
   "execution_count": 571,
   "metadata": {},
   "outputs": [
    {
     "data": {
      "text/plain": [
       "0.7270847691247414"
      ]
     },
     "execution_count": 571,
     "metadata": {},
     "output_type": "execute_result"
    }
   ],
   "source": [
    "# Gradient Boost Classifier\n",
    "\n",
    "# best model\n",
    "gbc_tuning = random_gbc.best_estimator_\n",
    "\n",
    "# fitting\n",
    "gbc_tuning.fit(X_train, y_train)\n",
    "\n",
    "# predict\n",
    "y_pred_gbc_tuning = gbc_tuning.predict(X_test)\n",
    "\n",
    "# recall score\n",
    "f2score_gbc_tuning = fbeta_score(y_test, y_pred_gbc_tuning, beta=2)\n",
    "f2score_gbc_tuning"
   ]
  },
  {
   "cell_type": "code",
   "execution_count": 572,
   "metadata": {},
   "outputs": [
    {
     "data": {
      "text/html": [
       "<div>\n",
       "<style scoped>\n",
       "    .dataframe tbody tr th:only-of-type {\n",
       "        vertical-align: middle;\n",
       "    }\n",
       "\n",
       "    .dataframe tbody tr th {\n",
       "        vertical-align: top;\n",
       "    }\n",
       "\n",
       "    .dataframe thead th {\n",
       "        text-align: right;\n",
       "    }\n",
       "</style>\n",
       "<table border=\"1\" class=\"dataframe\">\n",
       "  <thead>\n",
       "    <tr style=\"text-align: right;\">\n",
       "      <th></th>\n",
       "      <th>Model</th>\n",
       "      <th>F2 score</th>\n",
       "    </tr>\n",
       "  </thead>\n",
       "  <tbody>\n",
       "    <tr>\n",
       "      <th>0</th>\n",
       "      <td>Logistic Regression</td>\n",
       "      <td>0.720222</td>\n",
       "    </tr>\n",
       "    <tr>\n",
       "      <th>1</th>\n",
       "      <td>Gradient Boost</td>\n",
       "      <td>0.727085</td>\n",
       "    </tr>\n",
       "  </tbody>\n",
       "</table>\n",
       "</div>"
      ],
      "text/plain": [
       "                 Model  F2 score\n",
       "0  Logistic Regression  0.720222\n",
       "1       Gradient Boost  0.727085"
      ]
     },
     "execution_count": 572,
     "metadata": {},
     "output_type": "execute_result"
    }
   ],
   "source": [
    "score_list = [f2score_logreg_tuning, f2score_gbc_tuning]\n",
    "\n",
    "models = ['Logistic Regression','Gradient Boost']\n",
    "\n",
    "score_after_tuning = pd.DataFrame({\n",
    "    'Model': models,\n",
    "    'F2 score': score_list\n",
    "})\n",
    "\n",
    "score_after_tuning"
   ]
  },
  {
   "cell_type": "markdown",
   "metadata": {},
   "source": [
    "## **Comparison (Test Set)**"
   ]
  },
  {
   "cell_type": "code",
   "execution_count": 573,
   "metadata": {},
   "outputs": [
    {
     "name": "stdout",
     "output_type": "stream",
     "text": [
      "LogisticRegression\n",
      "              precision    recall  f1-score   support\n",
      "\n",
      "           0       0.91      0.71      0.80       713\n",
      "           1       0.50      0.81      0.62       258\n",
      "\n",
      "    accuracy                           0.74       971\n",
      "   macro avg       0.71      0.76      0.71       971\n",
      "weighted avg       0.80      0.74      0.75       971\n",
      "\n"
     ]
    }
   ],
   "source": [
    "# Logistic Regression\n",
    "\n",
    "print('LogisticRegression')\n",
    "print(classification_report(y_test, y_pred_logreg_tuning))"
   ]
  },
  {
   "cell_type": "code",
   "execution_count": 574,
   "metadata": {},
   "outputs": [
    {
     "name": "stdout",
     "output_type": "stream",
     "text": [
      "GradientBoostingClassifier\n",
      "              precision    recall  f1-score   support\n",
      "\n",
      "           0       0.91      0.71      0.80       713\n",
      "           1       0.50      0.82      0.62       258\n",
      "\n",
      "    accuracy                           0.74       971\n",
      "   macro avg       0.71      0.76      0.71       971\n",
      "weighted avg       0.81      0.74      0.75       971\n",
      "\n"
     ]
    }
   ],
   "source": [
    "# Gradient Boost Classifier\n",
    "\n",
    "print('GradientBoostingClassifier')\n",
    "print(classification_report(y_test, y_pred_gbc_tuning))"
   ]
  },
  {
   "cell_type": "code",
   "execution_count": 575,
   "metadata": {},
   "outputs": [
    {
     "data": {
      "image/png": "[encoded data removed]",
      "text/plain": [
       "<Figure size 576x360 with 2 Axes>"
      ]
     },
     "metadata": {},
     "output_type": "display_data"
    }
   ],
   "source": [
    "# LogisticRegression after tuning\n",
    "\n",
    "f, ax = plt.subplots(figsize=(8, 5))\n",
    "sns.heatmap(confusion_matrix(y_test, y_pred_logreg_tuning), annot=True, fmt='.0f', ax=ax)\n",
    "plt.xlabel('y Prediksi')\n",
    "plt.ylabel('y Aktual')\n",
    "plt.title('LogisticRegression after tuning');"
   ]
  },
  {
   "cell_type": "code",
   "execution_count": 576,
   "metadata": {},
   "outputs": [
    {
     "data": {
      "image/png": "[encoded data removed]",
      "text/plain": [
       "<Figure size 576x360 with 2 Axes>"
      ]
     },
     "metadata": {},
     "output_type": "display_data"
    }
   ],
   "source": [
    "# Gradient Boost Classifier after tuning\n",
    "\n",
    "f, ax = plt.subplots(figsize=(8, 5))\n",
    "sns.heatmap(confusion_matrix(y_test, y_pred_gbc_tuning), annot=True, fmt='.0f', ax=ax)\n",
    "plt.xlabel('y Prediksi')\n",
    "plt.ylabel('y Aktual')\n",
    "plt.title('GradientBoosting after tuning');"
   ]
  },
  {
   "cell_type": "code",
   "execution_count": 599,
   "metadata": {},
   "outputs": [
    {
     "data": {
      "text/html": [
       "<div>\n",
       "<style scoped>\n",
       "    .dataframe tbody tr th:only-of-type {\n",
       "        vertical-align: middle;\n",
       "    }\n",
       "\n",
       "    .dataframe tbody tr th {\n",
       "        vertical-align: top;\n",
       "    }\n",
       "\n",
       "    .dataframe thead th {\n",
       "        text-align: right;\n",
       "    }\n",
       "</style>\n",
       "<table border=\"1\" class=\"dataframe\">\n",
       "  <thead>\n",
       "    <tr style=\"text-align: right;\">\n",
       "      <th></th>\n",
       "      <th>F2 score</th>\n",
       "    </tr>\n",
       "  </thead>\n",
       "  <tbody>\n",
       "    <tr>\n",
       "      <th>Logistic Regression</th>\n",
       "      <td>0.712781</td>\n",
       "    </tr>\n",
       "    <tr>\n",
       "      <th>Gradient Boost</th>\n",
       "      <td>0.694041</td>\n",
       "    </tr>\n",
       "  </tbody>\n",
       "</table>\n",
       "</div>"
      ],
      "text/plain": [
       "                     F2 score\n",
       "Logistic Regression  0.712781\n",
       "Gradient Boost       0.694041"
      ]
     },
     "execution_count": 599,
     "metadata": {},
     "output_type": "execute_result"
    }
   ],
   "source": [
    "score_before_tuning"
   ]
  },
  {
   "cell_type": "code",
   "execution_count": 598,
   "metadata": {},
   "outputs": [
    {
     "data": {
      "text/html": [
       "<div>\n",
       "<style scoped>\n",
       "    .dataframe tbody tr th:only-of-type {\n",
       "        vertical-align: middle;\n",
       "    }\n",
       "\n",
       "    .dataframe tbody tr th {\n",
       "        vertical-align: top;\n",
       "    }\n",
       "\n",
       "    .dataframe thead th {\n",
       "        text-align: right;\n",
       "    }\n",
       "</style>\n",
       "<table border=\"1\" class=\"dataframe\">\n",
       "  <thead>\n",
       "    <tr style=\"text-align: right;\">\n",
       "      <th></th>\n",
       "      <th>Model</th>\n",
       "      <th>F2 score</th>\n",
       "    </tr>\n",
       "  </thead>\n",
       "  <tbody>\n",
       "    <tr>\n",
       "      <th>0</th>\n",
       "      <td>Logistic Regression</td>\n",
       "      <td>0.720222</td>\n",
       "    </tr>\n",
       "    <tr>\n",
       "      <th>1</th>\n",
       "      <td>Gradient Boost</td>\n",
       "      <td>0.727085</td>\n",
       "    </tr>\n",
       "  </tbody>\n",
       "</table>\n",
       "</div>"
      ],
      "text/plain": [
       "                 Model  F2 score\n",
       "0  Logistic Regression  0.720222\n",
       "1       Gradient Boost  0.727085"
      ]
     },
     "execution_count": 598,
     "metadata": {},
     "output_type": "execute_result"
    }
   ],
   "source": [
    "score_after_tuning"
   ]
  },
  {
   "cell_type": "markdown",
   "metadata": {},
   "source": [
    "## **Summary**\n",
    "---\n",
    "\n",
    "Logistic Regression\n",
    "\n",
    "   - Train Set:\n",
    "      - Before tuning: 0.72\n",
    "      - After tuning: 0.73\n",
    "\n",
    "   - Test Set:\n",
    "      - Before tuning: 0.71\n",
    "      - After tuning: 0.72\n",
    "\n",
    "---\n",
    "\n",
    "Gradient Boost Class\n",
    "\n",
    "   - Train Set:\n",
    "      - Before tuning: 0.70\n",
    "      - After tuning: 0.73\n",
    "\n",
    "   - Test Set:\n",
    "      - Before tuning: 0.69\n",
    "      - After tuning: 0.73\n",
    "\n",
    "---\n",
    "\n",
    "Disini model yang dipilih adalah Gradient Boost Classifier.<br>\n",
    "Jika kita lihat dari nilai rata-rata recall sebelum tuning baik pada train set maupun test set, Logistic Rgeression memang lebih unggul daripada Gradient Boost Classifier.<br>\n",
    "Namun setelah dituning, nilai rata-rata recall Logistic Regression dan Gradient Boost Classifier pada train set sama yaitu 0.73,<br>\n",
    "dan nilai rata-rata recall Gradient Boost Classifier pada test set lebih tinggi 0.01 dari Logistic Regression.<br>\n",
    "\n",
    "Sehingga dengan demikian, untuk model yang sudah dituning, Gradient Boost Classifier sedikit lebih baik daripada Logistic Regression.<br>\n",
    "\n",
    "Hyperparameter tuning berhasil meningkatkan F2 Score pada test set dari model dengan Gradient Boost sebesar 0.04.<br>\n",
    "Performa model sebesar 0.73 bisa dikatakan belum bagus karena jumlah False Negative masih sekitar 20% dari total kelas 1 (churn). \n",
    "\n",
    "Metric F2 Score digunakan karena cost function dari False Negative dianggap lebih besar dari False Positif, sehingga jumlah False Negative yang dihasilkan oleh model harus diminimalkan. \n"
   ]
  },
  {
   "cell_type": "markdown",
   "metadata": {},
   "source": [
    "# **9. Final Model**"
   ]
  },
  {
   "cell_type": "markdown",
   "metadata": {},
   "source": [
    "Final Model yang terpilih adalah Gradient Boost Classifier dengan ketentuan berikut : <br>\n",
    "- subsample nya adalah 0.7\n",
    "- n_estimators nya 63\n",
    "- max_features nya adalah 11\n",
    "- max_depth nya adalah 3\n",
    "- learning rate nya adalah 0.03\n",
    "- scaler yang digunakan adalah robut scaler\n",
    "- metode balancing yang digunakan adalah random over sampling"
   ]
  },
  {
   "cell_type": "code",
   "execution_count": 606,
   "metadata": {},
   "outputs": [],
   "source": [
    "# Gradient Boost Classifier\n",
    "\n",
    "model_final = Pipeline([\n",
    "    ('transformer', transformer),\n",
    "    ('scaler',robust),\n",
    "    ('balancing',ros),\n",
    "    ('model', GradientBoostingClassifier(random_state=0, subsample = 0.7, n_estimators = 63, max_features = 11, max_depth = 3, learning_rate = 0.03))\n",
    "])\n",
    "\n",
    "model_final.fit(X_train, y_train)\n",
    "\n",
    "y_pred = model_final.predict(X_test)"
   ]
  },
  {
   "cell_type": "markdown",
   "metadata": {},
   "source": [
    "# **10. Feature Importance**"
   ]
  },
  {
   "cell_type": "code",
   "execution_count": 608,
   "metadata": {},
   "outputs": [
    {
     "data": {
      "text/plain": [
       "array(['onehot__Dependents_Yes',\n",
       "       'onehot__OnlineSecurity_No internet service',\n",
       "       'onehot__OnlineSecurity_Yes',\n",
       "       'onehot__OnlineBackup_No internet service',\n",
       "       'onehot__OnlineBackup_Yes', 'onehot__InternetService_Fiber optic',\n",
       "       'onehot__InternetService_No',\n",
       "       'onehot__DeviceProtection_No internet service',\n",
       "       'onehot__DeviceProtection_Yes',\n",
       "       'onehot__TechSupport_No internet service',\n",
       "       'onehot__TechSupport_Yes', 'onehot__Contract_One year',\n",
       "       'onehot__Contract_Two year', 'onehot__PaperlessBilling_Yes',\n",
       "       'remainder__tenure', 'remainder__MonthlyCharges'], dtype=object)"
      ]
     },
     "execution_count": 608,
     "metadata": {},
     "output_type": "execute_result"
    }
   ],
   "source": [
    "# Nama Kolom\n",
    "transformer.get_feature_names_out()"
   ]
  },
  {
   "cell_type": "code",
   "execution_count": 609,
   "metadata": {},
   "outputs": [
    {
     "data": {
      "text/plain": [
       "['Dependents_Yes',\n",
       " 'OnlineSecurity_No internet service',\n",
       " 'OnlineSecurity_Yes',\n",
       " 'OnlineBackup_No internet service',\n",
       " 'OnlineBackup_Yes',\n",
       " 'InternetService_Fiber optic',\n",
       " 'InternetService_No',\n",
       " 'DeviceProtection_No internet service',\n",
       " 'DeviceProtection_Yes',\n",
       " 'TechSupport_No internet service',\n",
       " 'TechSupport_Yes',\n",
       " 'Contract_One year',\n",
       " 'Contract_Two year',\n",
       " 'PaperlessBilling_Yes',\n",
       " 'tenure',\n",
       " 'MonthlyCharges']"
      ]
     },
     "execution_count": 609,
     "metadata": {},
     "output_type": "execute_result"
    }
   ],
   "source": [
    "# Nama features\n",
    "\n",
    "features = list(transformer.get_feature_names_out())\n",
    "\n",
    "list_features = []\n",
    "\n",
    "for feature in features:\n",
    "    list_features.append('_'.join(feature.split('_')[2:]))\n",
    "\n",
    "list_features"
   ]
  },
  {
   "cell_type": "code",
   "execution_count": 610,
   "metadata": {},
   "outputs": [
    {
     "data": {
      "text/plain": [
       "array([0.00051194, 0.00262769, 0.01837997, 0.01575263, 0.00503387,\n",
       "       0.17470746, 0.00929727, 0.00900439, 0.        , 0.01643755,\n",
       "       0.00478574, 0.13535097, 0.2348557 , 0.0138639 , 0.29726185,\n",
       "       0.06212905])"
      ]
     },
     "execution_count": 610,
     "metadata": {},
     "output_type": "execute_result"
    }
   ],
   "source": [
    "imp = model_final['model'].feature_importances_\n",
    "imp"
   ]
  },
  {
   "cell_type": "code",
   "execution_count": 611,
   "metadata": {},
   "outputs": [
    {
     "data": {
      "text/html": [
       "<div>\n",
       "<style scoped>\n",
       "    .dataframe tbody tr th:only-of-type {\n",
       "        vertical-align: middle;\n",
       "    }\n",
       "\n",
       "    .dataframe tbody tr th {\n",
       "        vertical-align: top;\n",
       "    }\n",
       "\n",
       "    .dataframe thead th {\n",
       "        text-align: right;\n",
       "    }\n",
       "</style>\n",
       "<table border=\"1\" class=\"dataframe\">\n",
       "  <thead>\n",
       "    <tr style=\"text-align: right;\">\n",
       "      <th></th>\n",
       "      <th>Importance</th>\n",
       "      <th>Feature</th>\n",
       "    </tr>\n",
       "  </thead>\n",
       "  <tbody>\n",
       "    <tr>\n",
       "      <th>14</th>\n",
       "      <td>0.297262</td>\n",
       "      <td>tenure</td>\n",
       "    </tr>\n",
       "    <tr>\n",
       "      <th>12</th>\n",
       "      <td>0.234856</td>\n",
       "      <td>Contract_Two year</td>\n",
       "    </tr>\n",
       "    <tr>\n",
       "      <th>5</th>\n",
       "      <td>0.174707</td>\n",
       "      <td>InternetService_Fiber optic</td>\n",
       "    </tr>\n",
       "    <tr>\n",
       "      <th>11</th>\n",
       "      <td>0.135351</td>\n",
       "      <td>Contract_One year</td>\n",
       "    </tr>\n",
       "    <tr>\n",
       "      <th>15</th>\n",
       "      <td>0.062129</td>\n",
       "      <td>MonthlyCharges</td>\n",
       "    </tr>\n",
       "    <tr>\n",
       "      <th>2</th>\n",
       "      <td>0.018380</td>\n",
       "      <td>OnlineSecurity_Yes</td>\n",
       "    </tr>\n",
       "    <tr>\n",
       "      <th>9</th>\n",
       "      <td>0.016438</td>\n",
       "      <td>TechSupport_No internet service</td>\n",
       "    </tr>\n",
       "    <tr>\n",
       "      <th>3</th>\n",
       "      <td>0.015753</td>\n",
       "      <td>OnlineBackup_No internet service</td>\n",
       "    </tr>\n",
       "    <tr>\n",
       "      <th>13</th>\n",
       "      <td>0.013864</td>\n",
       "      <td>PaperlessBilling_Yes</td>\n",
       "    </tr>\n",
       "    <tr>\n",
       "      <th>6</th>\n",
       "      <td>0.009297</td>\n",
       "      <td>InternetService_No</td>\n",
       "    </tr>\n",
       "    <tr>\n",
       "      <th>7</th>\n",
       "      <td>0.009004</td>\n",
       "      <td>DeviceProtection_No internet service</td>\n",
       "    </tr>\n",
       "    <tr>\n",
       "      <th>4</th>\n",
       "      <td>0.005034</td>\n",
       "      <td>OnlineBackup_Yes</td>\n",
       "    </tr>\n",
       "    <tr>\n",
       "      <th>10</th>\n",
       "      <td>0.004786</td>\n",
       "      <td>TechSupport_Yes</td>\n",
       "    </tr>\n",
       "    <tr>\n",
       "      <th>1</th>\n",
       "      <td>0.002628</td>\n",
       "      <td>OnlineSecurity_No internet service</td>\n",
       "    </tr>\n",
       "    <tr>\n",
       "      <th>0</th>\n",
       "      <td>0.000512</td>\n",
       "      <td>Dependents_Yes</td>\n",
       "    </tr>\n",
       "    <tr>\n",
       "      <th>8</th>\n",
       "      <td>0.000000</td>\n",
       "      <td>DeviceProtection_Yes</td>\n",
       "    </tr>\n",
       "  </tbody>\n",
       "</table>\n",
       "</div>"
      ],
      "text/plain": [
       "    Importance                               Feature\n",
       "14    0.297262                                tenure\n",
       "12    0.234856                     Contract_Two year\n",
       "5     0.174707           InternetService_Fiber optic\n",
       "11    0.135351                     Contract_One year\n",
       "15    0.062129                        MonthlyCharges\n",
       "2     0.018380                    OnlineSecurity_Yes\n",
       "9     0.016438       TechSupport_No internet service\n",
       "3     0.015753      OnlineBackup_No internet service\n",
       "13    0.013864                  PaperlessBilling_Yes\n",
       "6     0.009297                    InternetService_No\n",
       "7     0.009004  DeviceProtection_No internet service\n",
       "4     0.005034                      OnlineBackup_Yes\n",
       "10    0.004786                       TechSupport_Yes\n",
       "1     0.002628    OnlineSecurity_No internet service\n",
       "0     0.000512                        Dependents_Yes\n",
       "8     0.000000                  DeviceProtection_Yes"
      ]
     },
     "execution_count": 611,
     "metadata": {},
     "output_type": "execute_result"
    }
   ],
   "source": [
    "# Feature Importance\n",
    "\n",
    "feature_imp = pd.DataFrame({\n",
    "    'Importance':imp, \n",
    "    'Feature':list_features\n",
    "}).sort_values(by='Importance', ascending = False)\n",
    "\n",
    "feature_imp"
   ]
  },
  {
   "cell_type": "code",
   "execution_count": 614,
   "metadata": {},
   "outputs": [
    {
     "data": {
      "text/plain": [
       "<AxesSubplot:xlabel='Importance', ylabel='Feature'>"
      ]
     },
     "execution_count": 614,
     "metadata": {},
     "output_type": "execute_result"
    },
    {
     "data": {
      "image/png": "[encoded data removed]",
      "text/plain": [
       "<Figure size 720x432 with 1 Axes>"
      ]
     },
     "metadata": {},
     "output_type": "display_data"
    }
   ],
   "source": [
    "plt.figure(figsize=(10,6))\n",
    "sns.set_theme(style=\"whitegrid\")\n",
    "sns.barplot(data=feature_imp, x='Importance', y='Feature', orient='h', palette='mako')"
   ]
  },
  {
   "cell_type": "code",
   "execution_count": 621,
   "metadata": {},
   "outputs": [
    {
     "data": {
      "text/plain": [
       "<AxesSubplot:xlabel='tenure', ylabel='Count'>"
      ]
     },
     "execution_count": 621,
     "metadata": {},
     "output_type": "execute_result"
    },
    {
     "data": {
      "image/png": "[encoded data removed]",
      "text/plain": [
       "<Figure size 432x288 with 1 Axes>"
      ]
     },
     "metadata": {},
     "output_type": "display_data"
    }
   ],
   "source": [
    "sns.histplot(data=df, x='tenure', hue='Churn')"
   ]
  },
  {
   "cell_type": "code",
   "execution_count": 617,
   "metadata": {},
   "outputs": [
    {
     "data": {
      "text/plain": [
       "<AxesSubplot:xlabel='Contract', ylabel='count'>"
      ]
     },
     "execution_count": 617,
     "metadata": {},
     "output_type": "execute_result"
    },
    {
     "data": {
      "image/png": "[encoded data removed]",
      "text/plain": [
       "<Figure size 432x288 with 1 Axes>"
      ]
     },
     "metadata": {},
     "output_type": "display_data"
    }
   ],
   "source": [
    "sns.countplot(data=df, x='Contract', hue='Churn')"
   ]
  },
  {
   "cell_type": "code",
   "execution_count": 619,
   "metadata": {},
   "outputs": [
    {
     "data": {
      "text/plain": [
       "<AxesSubplot:xlabel='InternetService', ylabel='count'>"
      ]
     },
     "execution_count": 619,
     "metadata": {},
     "output_type": "execute_result"
    },
    {
     "data": {
      "image/png": "[encoded data removed]",
      "text/plain": [
       "<Figure size 432x288 with 1 Axes>"
      ]
     },
     "metadata": {},
     "output_type": "display_data"
    }
   ],
   "source": [
    "sns.countplot(data=df, x='InternetService', hue='Churn')"
   ]
  },
  {
   "cell_type": "markdown",
   "metadata": {},
   "source": [
    "***FEATURE IMPORTANCES | GRADIENT BOOST***\n",
    "<br><br>\n",
    "Dari grafik diatas *feature* yang penting adalah sebagai berikut :<br>\n",
    "- Tenure (jika dilihat dari EDA, semakin lama seorang customer berlangganan maka akan semakin kecil kecenderungannya untuk churn)\n",
    "- Contract (jika dilihat dari EDA, semakin pendek jangka waktu kontrak customer, maka akan semakin besar kecenderungannya untuk churn)\n",
    "- Internet Service (jika dilihat dari EDA, Customer yang menggunakan internet service Fiber Optic memiliki kecenderungan yang lebih besar untuk churn dibandingkan dengan customer yang menggunakan internet service yang lain.)\n",
    "\n",
    "Sebaliknya, feature yang kurang penting adalah : <br>\n",
    "- Dependents\n",
    "- Device Protection\n",
    "\n"
   ]
  },
  {
   "cell_type": "markdown",
   "metadata": {},
   "source": [
    "# **11. Saving Final Model**"
   ]
  },
  {
   "cell_type": "code",
   "execution_count": 623,
   "metadata": {},
   "outputs": [],
   "source": [
    "# save pickle\n",
    "from inspect import getblock\n",
    "import pickle\n",
    "\n",
    "# best model\n",
    "gbc_tuning = random_gbc.best_estimator_\n",
    "\n",
    "# fitting\n",
    "gbc_tuning.fit(X,y)\n",
    "\n",
    "# save dengan pickle\n",
    "pickle.dump(gbc_tuning, open('best_gbc_capstone.sav','wb'))"
   ]
  },
  {
   "cell_type": "markdown",
   "metadata": {},
   "source": [
    "# **12. Kesimpulan dan Rekomendasi**"
   ]
  },
  {
   "cell_type": "code",
   "execution_count": 622,
   "metadata": {},
   "outputs": [
    {
     "name": "stdout",
     "output_type": "stream",
     "text": [
      "GradientBoostingClassifier\n",
      "              precision    recall  f1-score   support\n",
      "\n",
      "           0       0.91      0.71      0.80       713\n",
      "           1       0.50      0.82      0.62       258\n",
      "\n",
      "    accuracy                           0.74       971\n",
      "   macro avg       0.71      0.76      0.71       971\n",
      "weighted avg       0.81      0.74      0.75       971\n",
      "\n"
     ]
    }
   ],
   "source": [
    "print('GradientBoostingClassifier')\n",
    "print(classification_report(y_test, y_pred_gbc_tuning))"
   ]
  },
  {
   "cell_type": "markdown",
   "metadata": {},
   "source": [
    "**Kesimpulan**"
   ]
  },
  {
   "cell_type": "markdown",
   "metadata": {},
   "source": [
    "Berdasarkan nilai recall pada classification report dari model terpilih, kita dapat menyimpulkan bahwa dengan menggunakan model tersebut, kita dapat mengurangi 71% customer yang tidak churn untuk tidak kita berikan special treatment sebagai bentuk untuk mempertahankan customer. Kita juga bisa mendapatkan 82% customer yang akan churn untuk lebih kita maksimalkan dalam memberikan special treatment untuk mencegah terjadinya churn. \n",
    "\n",
    "Dilihat dari nilai precisionnya, model kita memiliki tingkat ketepatan prediksi customer yang akan churn sebesar 50%, yang artinya kemungkinan prediksi kita benar ketika memprediksi bahwa seorang customer akan churn adalah 50%. Sehingga masih akan ada customer yang sebetulnya tidak akan churn namun diprediksi akan churn sebesar 29% (berdasarkan nilai recall) dari keseluruhan customer yang tidak churn."
   ]
  },
  {
   "cell_type": "markdown",
   "metadata": {},
   "source": [
    "**Rekomendasi**"
   ]
  },
  {
   "cell_type": "markdown",
   "metadata": {},
   "source": [
    "1. Perusahaan dapat menambahkan atribut-atribut baru yang berhubungan dengan kecenderungan seorang customer churn.\n",
    "2. Perusahaan dapat mencoba algoritma machine learning yang lain dan juga mencoba hyperparameter tuning kembali, coba gunakan teknik oversampling yang berbeda seperti seperti SMOTENC, dll.\n",
    "3. Menganalisa lebih lanjut karakteristik data-data yang gagal diprediksi dengan benar dan mencari tahu alasannya. "
   ]
  }
 ],
 "metadata": {
  "kernelspec": {
   "display_name": "Python 3.10.5 64-bit",
   "language": "python",
   "name": "python3"
  },
  "language_info": {
   "codemirror_mode": {
    "name": "ipython",
    "version": 3
   },
   "file_extension": ".py",
   "mimetype": "text/x-python",
   "name": "python",
   "nbconvert_exporter": "python",
   "pygments_lexer": "ipython3",
   "version": "3.10.5"
  },
  "orig_nbformat": 4,
  "vscode": {
   "interpreter": {
    "hash": "19a357f9df30cbba1cb091f2360861bbf9e29ecaa4cb1c9a51cf7eeba6e94f93"
   }
  }
 },
 "nbformat": 4,
 "nbformat_minor": 2
}
